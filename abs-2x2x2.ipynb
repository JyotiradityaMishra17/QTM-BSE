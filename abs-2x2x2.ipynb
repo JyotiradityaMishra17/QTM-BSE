{
 "cells": [
  {
   "cell_type": "code",
   "execution_count": 1,
   "metadata": {},
   "outputs": [],
   "source": [
    "from pyelpa import DistributedMatrix\n",
    "import numpy as np\n",
    "import h5py\n",
    "import sys\n",
    "\n",
    "\n",
    "sys.path.append(\".\")\n",
    "dirname = \"./bgw_files/k-2x2x2/\""
   ]
  },
  {
   "cell_type": "code",
   "execution_count": 2,
   "metadata": {},
   "outputs": [],
   "source": [
    "def print_2d_matrix(matrix, decimals=3):\n",
    "    for row in matrix:\n",
    "        print(\" \".join(f\"{val:9.{decimals}f}\" for val in row))"
   ]
  },
  {
   "cell_type": "code",
   "execution_count": 3,
   "metadata": {},
   "outputs": [],
   "source": [
    "# epsinp and sigmain data.\n",
    "from qtm.interfaces.bgw.epsinp import Epsinp\n",
    "epsinp = Epsinp.from_epsilon_inp(filename=dirname+'epsilon.inp')\n",
    "\n",
    "from qtm.interfaces.bgw.sigmainp import Sigmainp\n",
    "sigmainp = Sigmainp.from_sigma_inp(filename=dirname+'sigma.inp')"
   ]
  },
  {
   "cell_type": "code",
   "execution_count": 4,
   "metadata": {},
   "outputs": [],
   "source": [
    "from qtm.interfaces.bgw import inp\n",
    "from qtm.interfaces.bgw.wfn2py import wfn2py\n",
    "\n",
    "# WFN data\n",
    "wfndata = wfn2py(dirname+'WFN.h5')\n",
    "wfnqdata = wfn2py(dirname+'WFNq.h5')\n",
    "\n",
    "# RHO data\n",
    "rho = inp.read_rho(dirname+\"RHO\")\n",
    "\n",
    "# Vxc data\n",
    "vxc = inp.read_vxc(dirname+\"vxc.dat\")"
   ]
  },
  {
   "cell_type": "code",
   "execution_count": 5,
   "metadata": {},
   "outputs": [
    {
     "name": "stderr",
     "output_type": "stream",
     "text": [
      "Vcoul calculation for qpts: 100%|██████████| 8/8 [00:00<00:00, 15993.53it/s]\n"
     ]
    }
   ],
   "source": [
    "from qtm.gw.core import QPoints\n",
    "from qtm.gw.epsilon import Epsilon\n",
    "\n",
    "epsilon = Epsilon.from_data(wfndata=wfndata, wfnqdata=wfnqdata, epsinp=epsinp)"
   ]
  },
  {
   "cell_type": "code",
   "execution_count": 6,
   "metadata": {},
   "outputs": [
    {
     "name": "stderr",
     "output_type": "stream",
     "text": [
      "Vcoul calculation for qpts: 100%|██████████| 8/8 [00:00<00:00, 17458.08it/s]\n",
      "Epsilon> q-pt index: 100%|██████████| 8/8 [00:00<00:00, 142.73it/s]"
     ]
    },
    {
     "name": "stdout",
     "output_type": "stream",
     "text": [
      "Standard deviation exceeded 1e-16 tolerance: 2.5494915419483335e-15, for i_q:0\n"
     ]
    },
    {
     "name": "stderr",
     "output_type": "stream",
     "text": [
      "\n"
     ]
    }
   ],
   "source": [
    "from tqdm import trange\n",
    "from qtm.gw.core import reorder_2d_matrix_sorted_gvecs, sort_cryst_like_BGW\n",
    "\n",
    "\n",
    "def calculate_epsilon(numq=None, writing=False):\n",
    "    epsmats = []\n",
    "    if numq is None:\n",
    "        numq = epsilon.qpts.numq\n",
    "\n",
    "    for i_q in trange(0, numq, desc=\"Epsilon> q-pt index\"):\n",
    "        # Create map between BGW's sorting order and QTm's sorting order\n",
    "        gkspc = epsilon.l_gq[i_q]\n",
    "        \n",
    "        if i_q == epsilon.qpts.index_q0:\n",
    "            key = gkspc.g_norm2\n",
    "        else:\n",
    "            key = gkspc.gk_norm2\n",
    "\n",
    "        indices_gspace_sorted = sort_cryst_like_BGW(\n",
    "            cryst=gkspc.g_cryst, key_array=key\n",
    "        )\n",
    "\n",
    "        # Calculate matrix elements\n",
    "        M = next(epsilon.matrix_elements(i_q=i_q))\n",
    "\n",
    "        # Calculate polarizability matrix (faster, but not memory-efficient)\n",
    "        chimat = epsilon.polarizability(M)\n",
    "\n",
    "        # Calculate polarizability matrix (memory-efficient)\n",
    "        # chimat = epsilon.polarizability_active(i_q)\n",
    "\n",
    "        # Calculate epsilon inverse matrix\n",
    "        epsinv = epsilon.epsilon_inverse(i_q=i_q, polarizability_matrix=chimat, store=True)\n",
    "\n",
    "\n",
    "        epsinv = reorder_2d_matrix_sorted_gvecs(epsinv, indices_gspace_sorted)\n",
    "        epsilon.l_epsinv[i_q] = epsinv\n",
    "        \n",
    "        # Compare the results with BGW's results\n",
    "        if i_q == epsilon.qpts.index_q0:\n",
    "            epsref = epsilon.read_epsmat(dirname + \"eps0mat.h5\")[0][0, 0]\n",
    "            if writing:\n",
    "                epsilon.write_epsmat(\n",
    "                    filename=\"test/epsilon/eps0mat_qtm.h5\", epsinvmats=[epsinv]\n",
    "                )\n",
    "        else:\n",
    "            epsref = np.array(epsilon.read_epsmat(dirname + \"epsmat.h5\")[i_q - 1][0, 0])\n",
    "            epsmats.append(epsinv)\n",
    "\n",
    "        # Calculate stddev between reference and calculated epsinv matrices\n",
    "        std_eps = np.std(epsref - epsinv) / np.sqrt(np.prod(list(epsinv.shape)))\n",
    "\n",
    "        epstol = 1e-16\n",
    "        if np.abs(std_eps) > epstol:\n",
    "            print(f\"Standard deviation exceeded {epstol} tolerance: {std_eps}, for i_q:{i_q}\")\n",
    "\n",
    "    if writing:\n",
    "        epsilon.write_epsmat(filename=\"test/epsilon/epsmat_qtm.h5\", epsinvmats=epsmats)\n",
    "\n",
    "\n",
    "epsinp.no_min_fftgrid = True\n",
    "epsilon = Epsilon.from_data(wfndata=wfndata, wfnqdata=wfnqdata, epsinp=epsinp)\n",
    "calculate_epsilon()"
   ]
  },
  {
   "cell_type": "code",
   "execution_count": 7,
   "metadata": {},
   "outputs": [
    {
     "name": "stderr",
     "output_type": "stream",
     "text": [
      "Vcoul calculation for qpts: 100%|██████████| 8/8 [00:00<00:00, 17024.06it/s]\n"
     ]
    },
    {
     "name": "stdout",
     "output_type": "stream",
     "text": [
      "vcoul: Vcoul:\n",
      "        * gspace = <qtm.gspace.gspc.GSpace object at 0x7fcfa3b0e4d0>\n",
      "        * qpts = <qtm.gw.core.QPoints object at 0x7fcfa39bc510>\n",
      "        * bare_coulomb_cutoff = 2.0\n",
      "        * avgcut = 1e-05\n",
      "        * l_gspace_q = <class 'list'> of length 8\n",
      "        * vcoul = <class 'list'> of length 8\n",
      "        * N_SAMPLES = 2500000.0\n",
      "        * N_SAMPLES_COARSE = 250000.0\n",
      "        * SEED = 5000\n",
      "        \n"
     ]
    },
    {
     "name": "stderr",
     "output_type": "stream",
     "text": [
      "Vcoul calculation for qpts: 100%|██████████| 8/8 [00:05<00:00,  1.48it/s]\n"
     ]
    }
   ],
   "source": [
    "from qtm.gw.sigma import Sigma\n",
    "\n",
    "sigma = Sigma.from_data(\n",
    "    wfndata=wfndata,\n",
    "    wfnqdata=wfnqdata,\n",
    "    sigmainp=sigmainp,\n",
    "    epsinp=epsinp,\n",
    "    l_epsmats=epsilon.l_epsinv,\n",
    "    rho=rho,\n",
    "    vxc=vxc,\n",
    ")"
   ]
  },
  {
   "cell_type": "code",
   "execution_count": 8,
   "metadata": {},
   "outputs": [
    {
     "name": "stderr",
     "output_type": "stream",
     "text": [
      "Sigma_X: 100%|██████████| 8/8 [00:00<00:00, 73.78it/s]\n",
      "Sigma_SX_Static: 100%|██████████| 8/8 [00:00<00:00, 77.18it/s]\n",
      "Sigma_CH_Static_Partial: 100%|██████████| 8/8 [00:00<00:00, 39.56it/s]\n",
      "Sigma_CH_Static_Exact: 100%|██████████| 8/8 [00:00<00:00, 104.84it/s]\n"
     ]
    }
   ],
   "source": [
    "# Calculate the quasiparticle energies.\n",
    "sigma.print_condition = False\n",
    "results_dict = sigma.calculate_static_cohsex()\n",
    "\n",
    "k_indices = sigma.l_k_indices\n",
    "num_bands = len(results_dict[k_indices[0]][\"Eqp1\"])\n",
    "\n",
    "eqp1_array = np.zeros((len(k_indices), num_bands))\n",
    "for i, k_idx in enumerate(k_indices):\n",
    "    eqp1_array[i, :] = results_dict[k_idx][\"Eqp1\"]"
   ]
  },
  {
   "cell_type": "code",
   "execution_count": 9,
   "metadata": {},
   "outputs": [
    {
     "name": "stdout",
     "output_type": "stream",
     "text": [
      "Quasiparticle energies (Eqp1):\n",
      "-6.760997  7.302883  7.303055  7.299997 10.848427 10.848878 10.844457 15.054266\n",
      "-3.850785 -1.139382  5.640210  5.636517 10.817296 11.579493 11.577671 15.093000\n",
      "-3.850713 -1.139732  5.640509  5.636530 10.817266 11.579541 11.577562 15.093033\n",
      "-1.803499 -1.802659  3.380840  3.376889  8.420505  8.421883 19.697087 19.697217\n",
      "-3.850688 -1.139823  5.640417  5.636727 10.817360 11.579803 11.577952 15.093085\n",
      "-1.803682 -1.802751  3.380909  3.377123  8.421066  8.421617 19.696966 19.697085\n",
      "-1.803722 -1.802455  3.380553  3.377231  8.420957  8.421618 19.697046 19.697046\n",
      "-3.851600 -1.141514  5.639899  5.640203 10.816857 11.582074 11.581970 15.093132\n"
     ]
    }
   ],
   "source": [
    "print(\"Quasiparticle energies (Eqp1):\")\n",
    "print_2d_matrix(eqp1_array, decimals=6)"
   ]
  },
  {
   "cell_type": "code",
   "execution_count": 10,
   "metadata": {},
   "outputs": [],
   "source": [
    "from kernel import KernelMtxEl\n",
    "\n",
    "q0 = [0.001, 0.001, 0.001]\n",
    "l_qpts = np.array(epsinp.qpts)\n",
    "l_qpts[0] *= 0\n",
    "qpts = QPoints.from_cryst(wfndata.kpts.recilat, None, *l_qpts)\n",
    "\n",
    "kernelclass = KernelMtxEl.from_BGW(\n",
    "    wfndata=wfndata,\n",
    "    epsinp=epsinp,\n",
    "    sigmainp=sigmainp,\n",
    "    q0=q0,\n",
    "    l_epsmats=epsilon.l_epsinv,\n",
    "    parallel=True,\n",
    ")"
   ]
  },
  {
   "cell_type": "code",
   "execution_count": 11,
   "metadata": {},
   "outputs": [],
   "source": [
    "data = kernelclass.kernel_mtxel()\n",
    "exc = data[\"exc\"]\n",
    "head = data[\"head\"]\n",
    "body = data[\"body\"]\n",
    "wings = data[\"wings\"]"
   ]
  },
  {
   "cell_type": "code",
   "execution_count": 12,
   "metadata": {},
   "outputs": [],
   "source": [
    "numq = kernelclass.qpts.numq\n",
    "numk = kernelclass.kpts.numk"
   ]
  },
  {
   "cell_type": "code",
   "execution_count": 13,
   "metadata": {},
   "outputs": [],
   "source": [
    "from intkernel import InterpMtxEl\n",
    "\n",
    "InterpClass = InterpMtxEl.from_BGW(\n",
    "    wfn_finedata=wfndata,\n",
    "    wfn_coarsedata=wfndata,\n",
    "    epsinp=epsinp,\n",
    "    sigmainp=sigmainp,\n",
    "    kernel=kernelclass,\n",
    ")"
   ]
  },
  {
   "cell_type": "code",
   "execution_count": 14,
   "metadata": {},
   "outputs": [],
   "source": [
    "energyval = InterpClass.interp_energy(eqp1_array, 'val')\n",
    "energycon = InterpClass.interp_energy(eqp1_array, 'con')"
   ]
  },
  {
   "cell_type": "code",
   "execution_count": 15,
   "metadata": {},
   "outputs": [],
   "source": [
    "fine_kernel = InterpClass.interp_kernel(head, wings, body, exc, sigma.vcoul)"
   ]
  },
  {
   "cell_type": "code",
   "execution_count": 16,
   "metadata": {},
   "outputs": [],
   "source": [
    "HBSE = InterpClass.construct_HBSE(fine_kernel, energyval, energycon)\n",
    "HGW = InterpClass.construct_HBSE(0, energyval, energycon)"
   ]
  },
  {
   "cell_type": "code",
   "execution_count": 17,
   "metadata": {},
   "outputs": [],
   "source": [
    "from diag import diag_elpa\n",
    "\n",
    "eigval_elpa, eigvec_elpa = diag_elpa(HBSE)\n",
    "eigval_numpy, eigvec_numpy = np.linalg.eigh(HBSE)"
   ]
  },
  {
   "cell_type": "code",
   "execution_count": 18,
   "metadata": {},
   "outputs": [],
   "source": [
    "eigval_GW_elpa, eigvec_GW_elpa = diag_elpa(HGW)\n",
    "eigval_GW_numpy, eigvec_GW_numpy = np.linalg.eigh(HGW)"
   ]
  },
  {
   "cell_type": "code",
   "execution_count": 23,
   "metadata": {},
   "outputs": [],
   "source": [
    "from abs import Absorption\n",
    "\n",
    "AbsClassBSE = Absorption.from_BGW(\n",
    "    wfndata=wfndata,\n",
    "    wfnqdata=wfnqdata,\n",
    "    epsinp=epsinp,\n",
    "    sigmainp=sigmainp,\n",
    "    eigvals=eigval_elpa,\n",
    "    eigvecs=eigvec_elpa,\n",
    "    polarization=np.array([1, 1, 1]),\n",
    ")"
   ]
  },
  {
   "cell_type": "code",
   "execution_count": 24,
   "metadata": {},
   "outputs": [],
   "source": [
    "AbsClassGW = Absorption.from_BGW(\n",
    "    wfndata=wfndata,\n",
    "    wfnqdata=wfnqdata,\n",
    "    epsinp=epsinp,\n",
    "    sigmainp=sigmainp,\n",
    "    eigvals=eigval_GW_elpa,\n",
    "    eigvecs=eigvec_GW_elpa,\n",
    "    polarization=np.array([1, 1, 1]),\n",
    ")\n"
   ]
  },
  {
   "cell_type": "code",
   "execution_count": 29,
   "metadata": {},
   "outputs": [
    {
     "data": {
      "image/png": "[encoded data removed]",
      "text/plain": [
       "<Figure size 1000x600 with 1 Axes>"
      ]
     },
     "metadata": {},
     "output_type": "display_data"
    }
   ],
   "source": [
    "AbsClassBSE.plot_abs_broadened(sigma = 0.15)"
   ]
  }
 ],
 "metadata": {
  "kernelspec": {
   "display_name": "qtm",
   "language": "python",
   "name": "python3"
  },
  "language_info": {
   "codemirror_mode": {
    "name": "ipython",
    "version": 3
   },
   "file_extension": ".py",
   "mimetype": "text/x-python",
   "name": "python",
   "nbconvert_exporter": "python",
   "pygments_lexer": "ipython3",
   "version": "3.11.10"
  }
 },
 "nbformat": 4,
 "nbformat_minor": 2
}
