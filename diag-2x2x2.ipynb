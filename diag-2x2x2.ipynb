{
 "cells": [
  {
   "cell_type": "code",
   "execution_count": 1,
   "metadata": {},
   "outputs": [],
   "source": [
    "from pyelpa import DistributedMatrix\n",
    "import numpy as np\n",
    "import h5py\n",
    "import sys\n",
    "\n",
    "\n",
    "sys.path.append(\".\")\n",
    "dirname = \"./bgw_files/k-2x2x2/\""
   ]
  },
  {
   "cell_type": "code",
   "execution_count": 2,
   "metadata": {},
   "outputs": [],
   "source": [
    "def print_2d_matrix(matrix, decimals=3):\n",
    "    for row in matrix:\n",
    "        print(\" \".join(f\"{val:9.{decimals}f}\" for val in row))"
   ]
  },
  {
   "cell_type": "code",
   "execution_count": 3,
   "metadata": {},
   "outputs": [],
   "source": [
    "# epsinp and sigmain data.\n",
    "from qtm.interfaces.bgw.epsinp import Epsinp\n",
    "epsinp = Epsinp.from_epsilon_inp(filename=dirname+'epsilon.inp')\n",
    "\n",
    "from qtm.interfaces.bgw.sigmainp import Sigmainp\n",
    "sigmainp = Sigmainp.from_sigma_inp(filename=dirname+'sigma.inp')"
   ]
  },
  {
   "cell_type": "code",
   "execution_count": 4,
   "metadata": {},
   "outputs": [],
   "source": [
    "from qtm.interfaces.bgw import inp\n",
    "from qtm.interfaces.bgw.wfn2py import wfn2py\n",
    "\n",
    "# WFN data\n",
    "wfndata = wfn2py(dirname+'WFN.h5')\n",
    "wfnqdata = wfn2py(dirname+'WFNq.h5')\n",
    "\n",
    "# RHO data\n",
    "rho = inp.read_rho(dirname+\"RHO\")\n",
    "\n",
    "# Vxc data\n",
    "vxc = inp.read_vxc(dirname+\"vxc.dat\")"
   ]
  },
  {
   "cell_type": "code",
   "execution_count": 5,
   "metadata": {},
   "outputs": [
    {
     "name": "stderr",
     "output_type": "stream",
     "text": [
      "Vcoul calculation for qpts: 100%|██████████| 8/8 [00:00<00:00, 15577.73it/s]\n"
     ]
    }
   ],
   "source": [
    "from qtm.gw.core import QPoints\n",
    "from qtm.gw.epsilon import Epsilon\n",
    "\n",
    "epsilon = Epsilon.from_data(wfndata=wfndata, wfnqdata=wfnqdata, epsinp=epsinp)"
   ]
  },
  {
   "cell_type": "code",
   "execution_count": 6,
   "metadata": {},
   "outputs": [
    {
     "name": "stderr",
     "output_type": "stream",
     "text": [
      "Vcoul calculation for qpts: 100%|██████████| 8/8 [00:00<00:00, 12113.51it/s]\n",
      "Epsilon> q-pt index:   0%|          | 0/8 [00:00<?, ?it/s]"
     ]
    },
    {
     "name": "stderr",
     "output_type": "stream",
     "text": [
      "Epsilon> q-pt index: 100%|██████████| 8/8 [00:00<00:00, 123.81it/s]"
     ]
    },
    {
     "name": "stdout",
     "output_type": "stream",
     "text": [
      "Standard deviation exceeded 1e-16 tolerance: 2.5494915419483335e-15, for i_q:0\n"
     ]
    },
    {
     "name": "stderr",
     "output_type": "stream",
     "text": [
      "\n"
     ]
    }
   ],
   "source": [
    "from tqdm import trange\n",
    "from qtm.gw.core import reorder_2d_matrix_sorted_gvecs, sort_cryst_like_BGW\n",
    "\n",
    "\n",
    "def calculate_epsilon(numq=None, writing=False):\n",
    "    epsmats = []\n",
    "    if numq is None:\n",
    "        numq = epsilon.qpts.numq\n",
    "\n",
    "    for i_q in trange(0, numq, desc=\"Epsilon> q-pt index\"):\n",
    "        # Create map between BGW's sorting order and QTm's sorting order\n",
    "        gkspc = epsilon.l_gq[i_q]\n",
    "        \n",
    "        if i_q == epsilon.qpts.index_q0:\n",
    "            key = gkspc.g_norm2\n",
    "        else:\n",
    "            key = gkspc.gk_norm2\n",
    "\n",
    "        indices_gspace_sorted = sort_cryst_like_BGW(\n",
    "            cryst=gkspc.g_cryst, key_array=key\n",
    "        )\n",
    "\n",
    "        # Calculate matrix elements\n",
    "        M = next(epsilon.matrix_elements(i_q=i_q))\n",
    "\n",
    "        # Calculate polarizability matrix (faster, but not memory-efficient)\n",
    "        chimat = epsilon.polarizability(M)\n",
    "\n",
    "        # Calculate polarizability matrix (memory-efficient)\n",
    "        # chimat = epsilon.polarizability_active(i_q)\n",
    "\n",
    "        # Calculate epsilon inverse matrix\n",
    "        epsinv = epsilon.epsilon_inverse(i_q=i_q, polarizability_matrix=chimat, store=True)\n",
    "\n",
    "\n",
    "        epsinv = reorder_2d_matrix_sorted_gvecs(epsinv, indices_gspace_sorted)\n",
    "        epsilon.l_epsinv[i_q] = epsinv\n",
    "        \n",
    "        # Compare the results with BGW's results\n",
    "        if i_q == epsilon.qpts.index_q0:\n",
    "            epsref = epsilon.read_epsmat(dirname + \"eps0mat.h5\")[0][0, 0]\n",
    "            if writing:\n",
    "                epsilon.write_epsmat(\n",
    "                    filename=\"test/epsilon/eps0mat_qtm.h5\", epsinvmats=[epsinv]\n",
    "                )\n",
    "        else:\n",
    "            epsref = np.array(epsilon.read_epsmat(dirname + \"epsmat.h5\")[i_q - 1][0, 0])\n",
    "            epsmats.append(epsinv)\n",
    "\n",
    "        # Calculate stddev between reference and calculated epsinv matrices\n",
    "        std_eps = np.std(epsref - epsinv) / np.sqrt(np.prod(list(epsinv.shape)))\n",
    "\n",
    "        epstol = 1e-16\n",
    "        if np.abs(std_eps) > epstol:\n",
    "            print(f\"Standard deviation exceeded {epstol} tolerance: {std_eps}, for i_q:{i_q}\")\n",
    "\n",
    "    if writing:\n",
    "        epsilon.write_epsmat(filename=\"test/epsilon/epsmat_qtm.h5\", epsinvmats=epsmats)\n",
    "\n",
    "\n",
    "epsinp.no_min_fftgrid = True\n",
    "epsilon = Epsilon.from_data(wfndata=wfndata, wfnqdata=wfnqdata, epsinp=epsinp)\n",
    "calculate_epsilon()"
   ]
  },
  {
   "cell_type": "code",
   "execution_count": 7,
   "metadata": {},
   "outputs": [
    {
     "name": "stderr",
     "output_type": "stream",
     "text": [
      "Vcoul calculation for qpts: 100%|██████████| 8/8 [00:00<00:00, 17982.01it/s]\n"
     ]
    },
    {
     "name": "stdout",
     "output_type": "stream",
     "text": [
      "vcoul: Vcoul:\n",
      "        * gspace = <qtm.gspace.gspc.GSpace object at 0x7d56ec545010>\n",
      "        * qpts = <qtm.gw.core.QPoints object at 0x7d56bc5d38d0>\n",
      "        * bare_coulomb_cutoff = 2.0\n",
      "        * avgcut = 1e-05\n",
      "        * l_gspace_q = <class 'list'> of length 8\n",
      "        * vcoul = <class 'list'> of length 8\n",
      "        * N_SAMPLES = 2500000.0\n",
      "        * N_SAMPLES_COARSE = 250000.0\n",
      "        * SEED = 5000\n",
      "        \n"
     ]
    },
    {
     "name": "stderr",
     "output_type": "stream",
     "text": [
      "Vcoul calculation for qpts: 100%|██████████| 8/8 [00:05<00:00,  1.56it/s]\n"
     ]
    }
   ],
   "source": [
    "from qtm.gw.sigma import Sigma\n",
    "\n",
    "sigma = Sigma.from_data(\n",
    "    wfndata=wfndata,\n",
    "    wfnqdata=wfnqdata,\n",
    "    sigmainp=sigmainp,\n",
    "    epsinp=epsinp,\n",
    "    l_epsmats=epsilon.l_epsinv,\n",
    "    rho=rho,\n",
    "    vxc=vxc,\n",
    ")"
   ]
  },
  {
   "cell_type": "code",
   "execution_count": 8,
   "metadata": {},
   "outputs": [
    {
     "name": "stderr",
     "output_type": "stream",
     "text": [
      "Sigma_X: 100%|██████████| 8/8 [00:00<00:00, 75.61it/s]\n",
      "Sigma_SX_Static: 100%|██████████| 8/8 [00:00<00:00, 74.19it/s]\n",
      "Sigma_CH_Static_Partial: 100%|██████████| 8/8 [00:00<00:00, 39.57it/s]\n",
      "Sigma_CH_Static_Exact: 100%|██████████| 8/8 [00:00<00:00, 99.27it/s]\n"
     ]
    }
   ],
   "source": [
    "# Calculate the quasiparticle energies.\n",
    "sigma.print_condition = False\n",
    "results_dict = sigma.calculate_static_cohsex()\n",
    "\n",
    "k_indices = sigma.l_k_indices\n",
    "num_bands = len(results_dict[k_indices[0]][\"Eqp1\"])\n",
    "\n",
    "eqp1_array = np.zeros((len(k_indices), num_bands))\n",
    "for i, k_idx in enumerate(k_indices):\n",
    "    eqp1_array[i, :] = results_dict[k_idx][\"Eqp1\"]"
   ]
  },
  {
   "cell_type": "code",
   "execution_count": 9,
   "metadata": {},
   "outputs": [
    {
     "name": "stdout",
     "output_type": "stream",
     "text": [
      "Quasiparticle energies (Eqp1):\n",
      "-6.760997  7.302883  7.303055  7.299997 10.848427 10.848878 10.844457 15.054266\n",
      "-3.850785 -1.139382  5.640210  5.636517 10.817296 11.579493 11.577671 15.093000\n",
      "-3.850713 -1.139732  5.640509  5.636530 10.817266 11.579541 11.577562 15.093033\n",
      "-1.803499 -1.802659  3.380840  3.376889  8.420505  8.421883 19.697087 19.697217\n",
      "-3.850688 -1.139823  5.640417  5.636727 10.817360 11.579803 11.577952 15.093085\n",
      "-1.803682 -1.802751  3.380909  3.377123  8.421066  8.421617 19.696966 19.697085\n",
      "-1.803722 -1.802455  3.380553  3.377231  8.420957  8.421618 19.697046 19.697046\n",
      "-3.851600 -1.141514  5.639899  5.640203 10.816857 11.582074 11.581970 15.093132\n"
     ]
    }
   ],
   "source": [
    "print(\"Quasiparticle energies (Eqp1):\")\n",
    "print_2d_matrix(eqp1_array, decimals=6)"
   ]
  },
  {
   "cell_type": "code",
   "execution_count": 10,
   "metadata": {},
   "outputs": [],
   "source": [
    "from kernel import KernelMtxEl\n",
    "\n",
    "q0 = [0.001, 0.001, 0.001]\n",
    "l_qpts = np.array(epsinp.qpts)\n",
    "l_qpts[0] *= 0\n",
    "qpts = QPoints.from_cryst(wfndata.kpts.recilat, None, *l_qpts)\n",
    "\n",
    "kernelclass = KernelMtxEl.from_BGW(\n",
    "    wfndata=wfndata,\n",
    "    epsinp=epsinp,\n",
    "    sigmainp=sigmainp,\n",
    "    q0=q0,\n",
    "    l_epsmats=epsilon.l_epsinv,\n",
    "    parallel=True,\n",
    ")"
   ]
  },
  {
   "cell_type": "code",
   "execution_count": 11,
   "metadata": {},
   "outputs": [],
   "source": [
    "data = kernelclass.kernel_mtxel()\n",
    "exc = data[\"exc\"]\n",
    "head = data[\"head\"]\n",
    "body = data[\"body\"]\n",
    "wings = data[\"wings\"]"
   ]
  },
  {
   "cell_type": "code",
   "execution_count": 12,
   "metadata": {},
   "outputs": [],
   "source": [
    "numq = kernelclass.qpts.numq\n",
    "numk = kernelclass.kpts.numk"
   ]
  },
  {
   "cell_type": "code",
   "execution_count": 13,
   "metadata": {},
   "outputs": [],
   "source": [
    "from intkernel import InterpMtxEl\n",
    "\n",
    "InterpClass = InterpMtxEl.from_BGW(\n",
    "    wfn_finedata=wfndata,\n",
    "    wfn_coarsedata=wfndata,\n",
    "    epsinp=epsinp,\n",
    "    sigmainp=sigmainp,\n",
    "    kernel=kernelclass,\n",
    ")"
   ]
  },
  {
   "cell_type": "code",
   "execution_count": 14,
   "metadata": {},
   "outputs": [
    {
     "name": "stdout",
     "output_type": "stream",
     "text": [
      "Interpolated quasiparticle energies (valence):\n",
      " 7.299997  7.303055  7.302883 -6.760997\n",
      " 5.636517  5.640210 -1.139382 -3.850785\n",
      " 5.636530  5.640509 -1.139732 -3.850713\n",
      " 3.376889  3.380840 -1.802659 -1.803499\n",
      " 5.636727  5.640417 -1.139823 -3.850688\n",
      " 3.377123  3.380909 -1.802751 -1.803682\n",
      " 3.377231  3.380553 -1.802455 -1.803722\n",
      " 5.640203  5.639899 -1.141514 -3.851600\n",
      "Interpolated quasiparticle energies (conduction):\n",
      "10.848427 10.848878 10.844457 15.054266\n",
      "10.817296 11.579493 11.577671 15.093000\n",
      "10.817266 11.579541 11.577562 15.093033\n",
      " 8.420505  8.421883 19.697087 19.697217\n",
      "10.817360 11.579803 11.577952 15.093085\n",
      " 8.421066  8.421617 19.696966 19.697085\n",
      " 8.420957  8.421618 19.697046 19.697046\n",
      "10.816857 11.582074 11.581970 15.093132\n"
     ]
    }
   ],
   "source": [
    "energyval = InterpClass.interp_energy(eqp1_array, 'val')\n",
    "energycon = InterpClass.interp_energy(eqp1_array, 'con')\n",
    "\n",
    "print(\"Interpolated quasiparticle energies (valence):\")\n",
    "print_2d_matrix(energyval, decimals=6)\n",
    "\n",
    "print(\"Interpolated quasiparticle energies (conduction):\")\n",
    "print_2d_matrix(energycon, decimals=6)\n"
   ]
  },
  {
   "cell_type": "code",
   "execution_count": 15,
   "metadata": {},
   "outputs": [
    {
     "name": "stdout",
     "output_type": "stream",
     "text": [
      "Interpolated quasiparticle energies (valence) are equal to the original: True\n",
      "Interpolated quasiparticle energies (conduction) are equal to the original: True\n"
     ]
    }
   ],
   "source": [
    "is_equal_val = np.allclose(energyval, np.flip(eqp1_array[:, :4], axis = -1))\n",
    "is_equal_con = np.allclose(energycon, eqp1_array[:, 4:])\n",
    "\n",
    "print(f\"Interpolated quasiparticle energies (valence) are equal to the original: {is_equal_val}\")\n",
    "print(f\"Interpolated quasiparticle energies (conduction) are equal to the original: {is_equal_con}\")"
   ]
  },
  {
   "cell_type": "code",
   "execution_count": 16,
   "metadata": {},
   "outputs": [
    {
     "name": "stdout",
     "output_type": "stream",
     "text": [
      "\n",
      " Selected part of fine_kernel is\n",
      "0.040035-0.000000j -0.024301+0.092700j -0.053412+0.017990j -0.030163-0.054210j -0.089081-0.136263j 0.007064+0.024259j 0.010095-0.039685j 0.002174+0.000260j\n",
      "-0.024301-0.092700j 0.102230+0.000000j 0.026699+0.040549j -0.147779+0.141689j 0.031831-0.035217j -0.172294+0.103509j 0.029551-0.000177j -0.001129-0.008178j\n",
      "-0.053412-0.017990j 0.026699-0.040549j 0.102231-0.000000j 0.036727+0.199586j -0.012200-0.047077j -0.001228+0.029526j 0.110343-0.170478j 0.000301+0.000144j\n",
      "-0.030163+0.054210j -0.147779-0.141689j 0.036727-0.199586j 0.080787+0.000000j -0.029473+0.002151j 0.013073+0.002983j -0.009758-0.009208j -0.012208+0.016893j\n",
      "-0.089081+0.136263j 0.031831+0.035217j -0.012200+0.047077j -0.029473-0.002151j 0.102230-0.000000j -0.192361-0.058470j 0.138536+0.150901j -0.005205+0.006196j\n",
      "0.007064-0.024259j -0.172294-0.103509j -0.001228-0.029526j 0.013073-0.002983j -0.192361+0.058470j 0.080753+0.000000j -0.011549-0.006803j -0.000217+0.000636j\n",
      "0.010095+0.039685j 0.029551+0.000177j 0.110343+0.170478j -0.009758+0.009208j 0.138536-0.150901j -0.011549+0.006803j 0.080776-0.000000j 0.002736+0.021343j\n",
      "0.002174-0.000260j -0.001129+0.008178j 0.000301-0.000144j -0.012208-0.016893j -0.005205-0.006196j -0.000217-0.000636j 0.002736-0.021343j 0.102181-0.000000j\n"
     ]
    }
   ],
   "source": [
    "fine_kernel = InterpClass.interp_kernel(head, wings, body, exc, sigma.vcoul)\n",
    "fine_kernel_selected = fine_kernel[:, :, 0, 0, 0, 0]\n",
    "print(f\"\\n Selected part of fine_kernel is\")\n",
    "\n",
    "print_2d_matrix(fine_kernel_selected, decimals=6)"
   ]
  },
  {
   "cell_type": "code",
   "execution_count": 17,
   "metadata": {},
   "outputs": [],
   "source": [
    "HBSE = InterpClass.construct_HBSE(fine_kernel, energyval, energycon)\n",
    "# print(f\"\\n HBSE is\")\n",
    "# print_2d_matrix(HBSE, decimals=6)\n",
    "\n",
    "HGW = InterpClass.construct_HBSE(0, energyval, energycon)"
   ]
  },
  {
   "cell_type": "code",
   "execution_count": 18,
   "metadata": {},
   "outputs": [
    {
     "name": "stdout",
     "output_type": "stream",
     "text": [
      "\n",
      " First ten eigenvalues from ELPA are\n",
      "[3.40685152 3.40944454 3.40983593 3.54746406 3.54761426 3.5527982\n",
      " 3.56810003 3.5765195  3.57686681 4.78473765]\n",
      "\n",
      " First ten eigenvalues from numpy are\n",
      "[3.40684974 3.40945343 3.40982313 3.54746106 3.54760155 3.55281361\n",
      " 3.56810667 3.57652016 3.57687365 4.78473588]\n"
     ]
    }
   ],
   "source": [
    "from diag import diag_elpa\n",
    "\n",
    "eigval_elpa, eigvec_elpa = diag_elpa(HBSE)\n",
    "eigval_numpy, eigvec_numpy = np.linalg.eigh(HBSE)\n",
    "\n",
    "print(f\"\\n First ten eigenvalues from ELPA are\")\n",
    "print(eigval_elpa[:10])\n",
    "print(f\"\\n First ten eigenvalues from numpy are\")\n",
    "print(eigval_numpy[:10])\n",
    "\n"
   ]
  },
  {
   "cell_type": "code",
   "execution_count": 19,
   "metadata": {},
   "outputs": [
    {
     "name": "stdout",
     "output_type": "stream",
     "text": [
      "\n",
      " First ten GW eigenvalues from ELPA are\n",
      "[3.54140242 3.54157498 3.5444601  3.54537206 3.54554461 3.54582293\n",
      " 3.54599548 3.54842974 3.54888061 5.03966478]\n",
      "\n",
      " First ten GW eigenvalues from numpy are\n",
      "[3.54140242 3.54157498 3.5444601  3.54537206 3.54554461 3.54582293\n",
      " 3.54599548 3.54842974 3.54888061 5.03966478]\n"
     ]
    }
   ],
   "source": [
    "eigval_GW_elpa, eigvec_GW_elpa = diag_elpa(HGW)\n",
    "eigval_GW_numpy, eigvec_GW_numpy = np.linalg.eigh(HGW)\n",
    "\n",
    "print(f\"\\n First ten GW eigenvalues from ELPA are\")\n",
    "print(eigval_GW_elpa[:10])\n",
    "\n",
    "print(f\"\\n First ten GW eigenvalues from numpy are\")\n",
    "print(eigval_GW_numpy[:10])\n"
   ]
  }
 ],
 "metadata": {
  "kernelspec": {
   "display_name": "qtm",
   "language": "python",
   "name": "python3"
  },
  "language_info": {
   "codemirror_mode": {
    "name": "ipython",
    "version": 3
   },
   "file_extension": ".py",
   "mimetype": "text/x-python",
   "name": "python",
   "nbconvert_exporter": "python",
   "pygments_lexer": "ipython3",
   "version": "3.11.10"
  }
 },
 "nbformat": 4,
 "nbformat_minor": 2
}
