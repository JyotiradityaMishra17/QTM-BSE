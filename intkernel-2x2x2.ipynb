{
 "cells": [
  {
   "cell_type": "code",
   "execution_count": 1,
   "metadata": {},
   "outputs": [],
   "source": [
    "import numpy as np\n",
    "import h5py\n",
    "import sys\n",
    "\n",
    "\n",
    "sys.path.append(\".\")\n",
    "dirname = \"./bgw_files/k-2x2x2/\""
   ]
  },
  {
   "cell_type": "code",
   "execution_count": 2,
   "metadata": {},
   "outputs": [],
   "source": [
    "def print_2d_matrix(matrix, decimals=3):\n",
    "    for row in matrix:\n",
    "        print(\" \".join(f\"{val:9.{decimals}f}\" for val in row))"
   ]
  },
  {
   "cell_type": "code",
   "execution_count": 3,
   "metadata": {},
   "outputs": [],
   "source": [
    "# epsinp and sigmain data.\n",
    "from qtm.interfaces.bgw.epsinp import Epsinp\n",
    "epsinp = Epsinp.from_epsilon_inp(filename=dirname+'epsilon.inp')\n",
    "\n",
    "from qtm.interfaces.bgw.sigmainp import Sigmainp\n",
    "sigmainp = Sigmainp.from_sigma_inp(filename=dirname+'sigma.inp')"
   ]
  },
  {
   "cell_type": "code",
   "execution_count": 4,
   "metadata": {},
   "outputs": [],
   "source": [
    "from qtm.interfaces.bgw import inp\n",
    "from qtm.interfaces.bgw.wfn2py import wfn2py\n",
    "\n",
    "# WFN data\n",
    "wfndata = wfn2py(dirname+'WFN.h5')\n",
    "wfnqdata = wfn2py(dirname+'WFNq.h5')\n",
    "\n",
    "# RHO data\n",
    "rho = inp.read_rho(dirname+\"RHO\")\n",
    "\n",
    "# Vxc data\n",
    "vxc = inp.read_vxc(dirname+\"vxc.dat\")"
   ]
  },
  {
   "cell_type": "code",
   "execution_count": 5,
   "metadata": {},
   "outputs": [
    {
     "name": "stderr",
     "output_type": "stream",
     "text": [
      "Vcoul calculation for qpts: 100%|██████████| 8/8 [00:00<00:00, 12856.10it/s]\n"
     ]
    }
   ],
   "source": [
    "from qtm.gw.core import QPoints\n",
    "from qtm.gw.epsilon import Epsilon\n",
    "\n",
    "epsilon = Epsilon.from_data(wfndata=wfndata, wfnqdata=wfnqdata, epsinp=epsinp)"
   ]
  },
  {
   "cell_type": "code",
   "execution_count": 6,
   "metadata": {},
   "outputs": [
    {
     "name": "stderr",
     "output_type": "stream",
     "text": [
      "Vcoul calculation for qpts: 100%|██████████| 8/8 [00:00<00:00, 17772.47it/s]\n",
      "Epsilon> q-pt index: 100%|██████████| 8/8 [00:00<00:00, 143.43it/s]"
     ]
    },
    {
     "name": "stdout",
     "output_type": "stream",
     "text": [
      "Standard deviation exceeded 1e-16 tolerance: 2.5494915419483335e-15, for i_q:0\n"
     ]
    },
    {
     "name": "stderr",
     "output_type": "stream",
     "text": [
      "\n"
     ]
    }
   ],
   "source": [
    "from tqdm import trange\n",
    "from qtm.gw.core import reorder_2d_matrix_sorted_gvecs, sort_cryst_like_BGW\n",
    "\n",
    "\n",
    "def calculate_epsilon(numq=None, writing=False):\n",
    "    epsmats = []\n",
    "    if numq is None:\n",
    "        numq = epsilon.qpts.numq\n",
    "\n",
    "    for i_q in trange(0, numq, desc=\"Epsilon> q-pt index\"):\n",
    "        # Create map between BGW's sorting order and QTm's sorting order\n",
    "        gkspc = epsilon.l_gq[i_q]\n",
    "        \n",
    "        if i_q == epsilon.qpts.index_q0:\n",
    "            key = gkspc.g_norm2\n",
    "        else:\n",
    "            key = gkspc.gk_norm2\n",
    "\n",
    "        indices_gspace_sorted = sort_cryst_like_BGW(\n",
    "            cryst=gkspc.g_cryst, key_array=key\n",
    "        )\n",
    "\n",
    "        # Calculate matrix elements\n",
    "        M = next(epsilon.matrix_elements(i_q=i_q))\n",
    "\n",
    "        # Calculate polarizability matrix (faster, but not memory-efficient)\n",
    "        chimat = epsilon.polarizability(M)\n",
    "\n",
    "        # Calculate polarizability matrix (memory-efficient)\n",
    "        # chimat = epsilon.polarizability_active(i_q)\n",
    "\n",
    "        # Calculate epsilon inverse matrix\n",
    "        epsinv = epsilon.epsilon_inverse(i_q=i_q, polarizability_matrix=chimat, store=True)\n",
    "\n",
    "\n",
    "        epsinv = reorder_2d_matrix_sorted_gvecs(epsinv, indices_gspace_sorted)\n",
    "        epsilon.l_epsinv[i_q] = epsinv\n",
    "        \n",
    "        # Compare the results with BGW's results\n",
    "        if i_q == epsilon.qpts.index_q0:\n",
    "            epsref = epsilon.read_epsmat(dirname + \"eps0mat.h5\")[0][0, 0]\n",
    "            if writing:\n",
    "                epsilon.write_epsmat(\n",
    "                    filename=\"test/epsilon/eps0mat_qtm.h5\", epsinvmats=[epsinv]\n",
    "                )\n",
    "        else:\n",
    "            epsref = np.array(epsilon.read_epsmat(dirname + \"epsmat.h5\")[i_q - 1][0, 0])\n",
    "            epsmats.append(epsinv)\n",
    "\n",
    "        # Calculate stddev between reference and calculated epsinv matrices\n",
    "        std_eps = np.std(epsref - epsinv) / np.sqrt(np.prod(list(epsinv.shape)))\n",
    "\n",
    "        epstol = 1e-16\n",
    "        if np.abs(std_eps) > epstol:\n",
    "            print(f\"Standard deviation exceeded {epstol} tolerance: {std_eps}, for i_q:{i_q}\")\n",
    "\n",
    "    if writing:\n",
    "        epsilon.write_epsmat(filename=\"test/epsilon/epsmat_qtm.h5\", epsinvmats=epsmats)\n",
    "\n",
    "\n",
    "epsinp.no_min_fftgrid = True\n",
    "epsilon = Epsilon.from_data(wfndata=wfndata, wfnqdata=wfnqdata, epsinp=epsinp)\n",
    "calculate_epsilon()"
   ]
  },
  {
   "cell_type": "code",
   "execution_count": 7,
   "metadata": {},
   "outputs": [
    {
     "name": "stderr",
     "output_type": "stream",
     "text": [
      "Vcoul calculation for qpts: 100%|██████████| 8/8 [00:00<00:00, 18226.20it/s]\n"
     ]
    },
    {
     "name": "stdout",
     "output_type": "stream",
     "text": [
      "vcoul: Vcoul:\n",
      "        * gspace = <qtm.gspace.gspc.GSpace object at 0x759279891490>\n",
      "        * qpts = <qtm.gw.core.QPoints object at 0x7592786b3bd0>\n",
      "        * bare_coulomb_cutoff = 2.0\n",
      "        * avgcut = 1e-05\n",
      "        * l_gspace_q = <class 'list'> of length 8\n",
      "        * vcoul = <class 'list'> of length 8\n",
      "        * N_SAMPLES = 2500000.0\n",
      "        * N_SAMPLES_COARSE = 250000.0\n",
      "        * SEED = 5000\n",
      "        \n"
     ]
    },
    {
     "name": "stderr",
     "output_type": "stream",
     "text": [
      "Vcoul calculation for qpts: 100%|██████████| 8/8 [00:05<00:00,  1.49it/s]\n"
     ]
    }
   ],
   "source": [
    "from qtm.gw.sigma import Sigma\n",
    "\n",
    "sigma = Sigma.from_data(\n",
    "    wfndata=wfndata,\n",
    "    wfnqdata=wfnqdata,\n",
    "    sigmainp=sigmainp,\n",
    "    epsinp=epsinp,\n",
    "    l_epsmats=epsilon.l_epsinv,\n",
    "    rho=rho,\n",
    "    vxc=vxc,\n",
    ")"
   ]
  },
  {
   "cell_type": "code",
   "execution_count": 8,
   "metadata": {},
   "outputs": [],
   "source": [
    "from kernel import KernelMtxEl\n",
    "\n",
    "q0 = [0.001, 0.001, 0.001]\n",
    "l_qpts = np.array(epsinp.qpts)\n",
    "l_qpts[0] *= 0\n",
    "qpts = QPoints.from_cryst(wfndata.kpts.recilat, None, *l_qpts)\n",
    "\n",
    "kernelclass = KernelMtxEl.from_BGW(\n",
    "    wfndata=wfndata,\n",
    "    epsinp=epsinp,\n",
    "    sigmainp=sigmainp,\n",
    "    q0=q0,\n",
    "    l_epsmats=epsilon.l_epsinv,\n",
    "    parallel=True,\n",
    ")"
   ]
  },
  {
   "cell_type": "code",
   "execution_count": 9,
   "metadata": {},
   "outputs": [],
   "source": [
    "data = kernelclass.kernel_mtxel()\n",
    "exc = data[\"exc\"]\n",
    "head = data[\"head\"]\n",
    "body = data[\"body\"]\n",
    "wings = data[\"wings\"]"
   ]
  },
  {
   "cell_type": "code",
   "execution_count": 10,
   "metadata": {},
   "outputs": [],
   "source": [
    "numq = kernelclass.qpts.numq\n",
    "numk = kernelclass.kpts.numk"
   ]
  },
  {
   "cell_type": "code",
   "execution_count": 11,
   "metadata": {},
   "outputs": [
    {
     "name": "stdout",
     "output_type": "stream",
     "text": [
      "ikf, ikc = 0, 1\n"
     ]
    }
   ],
   "source": [
    "ikf, ikc = np.random.randint(0, numk, size=2)\n",
    "print(f\"ikf, ikc = {ikf}, {ikc}\")"
   ]
  },
  {
   "cell_type": "code",
   "execution_count": 12,
   "metadata": {},
   "outputs": [],
   "source": [
    "from intkernel import InterpMtxEl\n",
    "\n",
    "InterpClass = InterpMtxEl.from_BGW(\n",
    "    wfn_finedata=wfndata,\n",
    "    wfn_coarsedata=wfndata,\n",
    "    epsinp=epsinp,\n",
    "    sigmainp=sigmainp,\n",
    "    kernel=kernelclass,\n",
    ")"
   ]
  },
  {
   "cell_type": "code",
   "execution_count": 13,
   "metadata": {},
   "outputs": [
    {
     "name": "stdout",
     "output_type": "stream",
     "text": [
      "coeff_val is\n",
      "1.000-0.000j -0.000+0.000j -0.000+0.000j 0.000-0.000j\n",
      "-0.000-0.000j 1.000+0.000j 0.000+0.000j -0.000+0.000j\n",
      "-0.000-0.000j 0.000-0.000j 1.000+0.000j -0.000+0.000j\n",
      "0.000+0.000j -0.000-0.000j -0.000+0.000j 1.000-0.000j\n",
      "\n",
      " coeff_con is\n",
      "-0.347+0.264j 0.760+0.405j 0.192+0.123j -0.049-0.119j\n",
      "-0.168+0.593j -0.694+0.108j 0.305-0.023j -0.157-0.093j\n",
      "0.168-0.179j -0.008-0.003j 0.889+0.380j 0.039+0.061j\n",
      "-0.306-0.707j 0.000-0.000j -0.001+0.000j 0.630-0.096j\n"
     ]
    }
   ],
   "source": [
    "coeff_val = InterpClass.coeff_mtxel(ikf, ikf, \"val\")\n",
    "coeff_con = InterpClass.coeff_mtxel(ikf, ikc, \"con\")\n",
    "\n",
    "\n",
    "print(f\"coeff_val is\")\n",
    "print_2d_matrix(coeff_val, decimals=3)\n",
    "\n",
    "print(f\"\\n coeff_con is\")\n",
    "print_2d_matrix(coeff_con, decimals=3)"
   ]
  },
  {
   "cell_type": "code",
   "execution_count": 14,
   "metadata": {},
   "outputs": [
    {
     "name": "stdout",
     "output_type": "stream",
     "text": [
      "\n",
      " randomarr is\n",
      "    0.732     0.244     0.802     0.401     0.555     0.570     0.944     0.397\n",
      "    0.291     0.807     0.230     0.947     0.707     0.643     0.627     0.883\n",
      "    0.502     0.963     0.454     0.399     0.752     0.051     0.559     0.787\n",
      "    0.489     0.755     0.690     0.809     0.578     0.885     0.487     0.662\n",
      "    0.814     0.238     0.827     0.944     0.704     0.262     0.437     0.486\n",
      "    0.342     0.768     0.056     0.792     0.818     0.008     0.539     0.784\n",
      "    0.711     0.686     0.707     0.318     0.895     0.499     0.430     0.245\n",
      "    0.271     0.455     0.055     0.021     0.819     0.566     0.757     0.887\n"
     ]
    }
   ],
   "source": [
    "randomarr = np.random.rand(numk, 8)\n",
    "print(f\"\\n randomarr is\")\n",
    "print_2d_matrix(randomarr, decimals=3)\n"
   ]
  },
  {
   "cell_type": "code",
   "execution_count": 15,
   "metadata": {},
   "outputs": [
    {
     "name": "stdout",
     "output_type": "stream",
     "text": [
      "\n",
      " energyval is\n",
      "    0.401     0.802     0.244     0.732\n",
      "    0.947     0.230     0.807     0.291\n",
      "    0.399     0.454     0.963     0.502\n",
      "    0.809     0.690     0.755     0.489\n",
      "    0.944     0.827     0.238     0.814\n",
      "    0.792     0.056     0.768     0.342\n",
      "    0.318     0.707     0.686     0.711\n",
      "    0.021     0.055     0.455     0.271\n",
      "\n",
      " energycon is\n",
      "    0.555     0.570     0.944     0.397\n",
      "    0.707     0.643     0.627     0.883\n",
      "    0.752     0.051     0.559     0.787\n",
      "    0.578     0.885     0.487     0.662\n",
      "    0.704     0.262     0.437     0.486\n",
      "    0.818     0.008     0.539     0.784\n",
      "    0.895     0.499     0.430     0.245\n",
      "    0.819     0.566     0.757     0.887\n"
     ]
    }
   ],
   "source": [
    "energyval = InterpClass.interp_energy(randomarr, \"val\")\n",
    "energycon = InterpClass.interp_energy(randomarr, \"con\")\n",
    "\n",
    "\n",
    "print(f\"\\n energyval is\")\n",
    "print_2d_matrix(energyval, decimals=3)\n",
    "\n",
    "print(f\"\\n energycon is\")\n",
    "print_2d_matrix(energycon, decimals=3)"
   ]
  },
  {
   "cell_type": "code",
   "execution_count": 16,
   "metadata": {},
   "outputs": [
    {
     "name": "stdout",
     "output_type": "stream",
     "text": [
      "Is the interpolated valence energy equal to the random array? True\n",
      "Is the interpolated conduction energy equal to the random array? True\n"
     ]
    }
   ],
   "source": [
    "is_equal_val = np.allclose(np.flip(randomarr[:, :4], axis = -1), energyval)\n",
    "is_equal_con = np.allclose(randomarr[:, 4:], energycon)\n",
    "\n",
    "print(f\"Is the interpolated valence energy equal to the random array? {is_equal_val}\")\n",
    "print(f\"Is the interpolated conduction energy equal to the random array? {is_equal_con}\")"
   ]
  },
  {
   "cell_type": "code",
   "execution_count": 17,
   "metadata": {},
   "outputs": [
    {
     "name": "stdout",
     "output_type": "stream",
     "text": [
      "\n",
      " fine_kernel is\n",
      "0.040-0.000j -0.024+0.093j -0.053+0.018j -0.030-0.054j -0.089-0.136j 0.007+0.024j 0.010-0.040j 0.002+0.000j\n",
      "-0.024-0.093j 0.102+0.000j 0.027+0.041j -0.148+0.142j 0.032-0.035j -0.172+0.104j 0.030-0.000j -0.001-0.008j\n",
      "-0.053-0.018j 0.027-0.041j 0.102-0.000j 0.037+0.200j -0.012-0.047j -0.001+0.030j 0.110-0.170j 0.000+0.000j\n",
      "-0.030+0.054j -0.148-0.142j 0.037-0.200j 0.081+0.000j -0.029+0.002j 0.013+0.003j -0.010-0.009j -0.012+0.017j\n",
      "-0.089+0.136j 0.032+0.035j -0.012+0.047j -0.029-0.002j 0.102-0.000j -0.192-0.058j 0.139+0.151j -0.005+0.006j\n",
      "0.007-0.024j -0.172-0.104j -0.001-0.030j 0.013-0.003j -0.192+0.058j 0.081+0.000j -0.012-0.007j -0.000+0.001j\n",
      "0.010+0.040j 0.030+0.000j 0.110+0.170j -0.010+0.009j 0.139-0.151j -0.012+0.007j 0.081-0.000j 0.003+0.021j\n",
      "0.002-0.000j -0.001+0.008j 0.000-0.000j -0.012-0.017j -0.005-0.006j -0.000-0.001j 0.003-0.021j 0.102-0.000j\n"
     ]
    }
   ],
   "source": [
    "fine_kernel = InterpClass.interp_kernel(head, wings, body, exc, sigma.vcoul)\n",
    "fine_kernel = fine_kernel[:, :, 0, 0, 0, 0]\n",
    "print(f\"\\n fine_kernel is\")\n",
    "\n",
    "print_2d_matrix(fine_kernel, decimals=3)"
   ]
  }
 ],
 "metadata": {
  "kernelspec": {
   "display_name": "qtm",
   "language": "python",
   "name": "python3"
  },
  "language_info": {
   "codemirror_mode": {
    "name": "ipython",
    "version": 3
   },
   "file_extension": ".py",
   "mimetype": "text/x-python",
   "name": "python",
   "nbconvert_exporter": "python",
   "pygments_lexer": "ipython3",
   "version": "3.11.10"
  }
 },
 "nbformat": 4,
 "nbformat_minor": 2
}
