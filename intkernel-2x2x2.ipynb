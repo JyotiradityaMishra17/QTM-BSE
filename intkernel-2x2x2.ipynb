{
 "cells": [
  {
   "cell_type": "code",
   "execution_count": 15,
   "metadata": {},
   "outputs": [],
   "source": [
    "import numpy as np\n",
    "import h5py\n",
    "import sys\n",
    "\n",
    "\n",
    "sys.path.append(\".\")\n",
    "dirname = \"./bgw_files/k-2x2x2/\""
   ]
  },
  {
   "cell_type": "code",
   "execution_count": 16,
   "metadata": {},
   "outputs": [],
   "source": [
    "def print_2d_matrix(matrix, decimals=3):\n",
    "    for row in matrix:\n",
    "        print(\" \".join(f\"{val:9.{decimals}f}\" for val in row))"
   ]
  },
  {
   "cell_type": "code",
   "execution_count": 17,
   "metadata": {},
   "outputs": [],
   "source": [
    "# epsinp and sigmain data.\n",
    "from qtm.interfaces.bgw.epsinp import Epsinp\n",
    "epsinp = Epsinp.from_epsilon_inp(filename=dirname+'epsilon.inp')\n",
    "\n",
    "from qtm.interfaces.bgw.sigmainp import Sigmainp\n",
    "sigmainp = Sigmainp.from_sigma_inp(filename=dirname+'sigma.inp')"
   ]
  },
  {
   "cell_type": "code",
   "execution_count": 18,
   "metadata": {},
   "outputs": [],
   "source": [
    "from qtm.interfaces.bgw import inp\n",
    "from qtm.interfaces.bgw.wfn2py import wfn2py\n",
    "\n",
    "# WFN data\n",
    "wfndata = wfn2py(dirname+'WFN.h5')\n",
    "wfnqdata = wfn2py(dirname+'WFNq.h5')\n",
    "\n",
    "# RHO data\n",
    "rho = inp.read_rho(dirname+\"RHO\")\n",
    "\n",
    "# Vxc data\n",
    "vxc = inp.read_vxc(dirname+\"vxc.dat\")"
   ]
  },
  {
   "cell_type": "code",
   "execution_count": 19,
   "metadata": {},
   "outputs": [
    {
     "name": "stderr",
     "output_type": "stream",
     "text": [
      "Vcoul calculation for qpts: 100%|██████████| 8/8 [00:00<00:00, 18935.91it/s]\n"
     ]
    }
   ],
   "source": [
    "from qtm.gw.core import QPoints\n",
    "from qtm.gw.epsilon import Epsilon\n",
    "\n",
    "epsilon = Epsilon.from_data(wfndata=wfndata, wfnqdata=wfnqdata, epsinp=epsinp)"
   ]
  },
  {
   "cell_type": "code",
   "execution_count": 20,
   "metadata": {},
   "outputs": [
    {
     "name": "stderr",
     "output_type": "stream",
     "text": [
      "Vcoul calculation for qpts: 100%|██████████| 8/8 [00:00<00:00, 17838.61it/s]\n",
      "Epsilon> q-pt index: 100%|██████████| 8/8 [00:00<00:00, 136.15it/s]"
     ]
    },
    {
     "name": "stdout",
     "output_type": "stream",
     "text": [
      "Standard deviation exceeded 1e-16 tolerance: 2.5494915419483335e-15, for i_q:0\n"
     ]
    },
    {
     "name": "stderr",
     "output_type": "stream",
     "text": [
      "\n"
     ]
    }
   ],
   "source": [
    "from tqdm import trange\n",
    "from qtm.gw.core import reorder_2d_matrix_sorted_gvecs, sort_cryst_like_BGW\n",
    "\n",
    "\n",
    "def calculate_epsilon(numq=None, writing=False):\n",
    "    epsmats = []\n",
    "    if numq is None:\n",
    "        numq = epsilon.qpts.numq\n",
    "\n",
    "    for i_q in trange(0, numq, desc=\"Epsilon> q-pt index\"):\n",
    "        # Create map between BGW's sorting order and QTm's sorting order\n",
    "        gkspc = epsilon.l_gq[i_q]\n",
    "        \n",
    "        if i_q == epsilon.qpts.index_q0:\n",
    "            key = gkspc.g_norm2\n",
    "        else:\n",
    "            key = gkspc.gk_norm2\n",
    "\n",
    "        indices_gspace_sorted = sort_cryst_like_BGW(\n",
    "            cryst=gkspc.g_cryst, key_array=key\n",
    "        )\n",
    "\n",
    "        # Calculate matrix elements\n",
    "        M = next(epsilon.matrix_elements(i_q=i_q))\n",
    "\n",
    "        # Calculate polarizability matrix (faster, but not memory-efficient)\n",
    "        chimat = epsilon.polarizability(M)\n",
    "\n",
    "        # Calculate polarizability matrix (memory-efficient)\n",
    "        # chimat = epsilon.polarizability_active(i_q)\n",
    "\n",
    "        # Calculate epsilon inverse matrix\n",
    "        epsinv = epsilon.epsilon_inverse(i_q=i_q, polarizability_matrix=chimat, store=True)\n",
    "\n",
    "\n",
    "        epsinv = reorder_2d_matrix_sorted_gvecs(epsinv, indices_gspace_sorted)\n",
    "        epsilon.l_epsinv[i_q] = epsinv\n",
    "        \n",
    "        # Compare the results with BGW's results\n",
    "        if i_q == epsilon.qpts.index_q0:\n",
    "            epsref = epsilon.read_epsmat(dirname + \"eps0mat.h5\")[0][0, 0]\n",
    "            if writing:\n",
    "                epsilon.write_epsmat(\n",
    "                    filename=\"test/epsilon/eps0mat_qtm.h5\", epsinvmats=[epsinv]\n",
    "                )\n",
    "        else:\n",
    "            epsref = np.array(epsilon.read_epsmat(dirname + \"epsmat.h5\")[i_q - 1][0, 0])\n",
    "            epsmats.append(epsinv)\n",
    "\n",
    "        # Calculate stddev between reference and calculated epsinv matrices\n",
    "        std_eps = np.std(epsref - epsinv) / np.sqrt(np.prod(list(epsinv.shape)))\n",
    "\n",
    "        epstol = 1e-16\n",
    "        if np.abs(std_eps) > epstol:\n",
    "            print(f\"Standard deviation exceeded {epstol} tolerance: {std_eps}, for i_q:{i_q}\")\n",
    "\n",
    "    if writing:\n",
    "        epsilon.write_epsmat(filename=\"test/epsilon/epsmat_qtm.h5\", epsinvmats=epsmats)\n",
    "\n",
    "\n",
    "epsinp.no_min_fftgrid = True\n",
    "epsilon = Epsilon.from_data(wfndata=wfndata, wfnqdata=wfnqdata, epsinp=epsinp)\n",
    "calculate_epsilon()"
   ]
  },
  {
   "cell_type": "code",
   "execution_count": 21,
   "metadata": {},
   "outputs": [],
   "source": [
    "from kernel import KernelMtxEl\n",
    "\n",
    "q0 = [0.001, 0.001, 0.001]\n",
    "l_qpts = np.array(epsinp.qpts)\n",
    "l_qpts[0] *= 0\n",
    "qpts = QPoints.from_cryst(wfndata.kpts.recilat, None, *l_qpts)\n",
    "\n",
    "kernelclass = KernelMtxEl.from_BGW(\n",
    "    wfndata=wfndata,\n",
    "    epsinp=epsinp,\n",
    "    sigmainp=sigmainp,\n",
    "    q0=q0,\n",
    "    l_epsmats=epsilon.l_epsinv,\n",
    "    parallel=True,\n",
    ")"
   ]
  },
  {
   "cell_type": "code",
   "execution_count": 22,
   "metadata": {},
   "outputs": [],
   "source": [
    "numq = kernelclass.qpts.numq\n",
    "numk = kernelclass.kpts.numk"
   ]
  },
  {
   "cell_type": "code",
   "execution_count": 23,
   "metadata": {},
   "outputs": [
    {
     "name": "stdout",
     "output_type": "stream",
     "text": [
      "ikf, ikc = 6, 7\n"
     ]
    }
   ],
   "source": [
    "ikf, ikc = np.random.randint(0, numk, size=2)\n",
    "print(f\"ikf, ikc = {ikf}, {ikc}\")"
   ]
  },
  {
   "cell_type": "code",
   "execution_count": 24,
   "metadata": {},
   "outputs": [],
   "source": [
    "from intkernel import InterpMtxEl\n",
    "\n",
    "InterpClass = InterpMtxEl.from_BGW(\n",
    "    wfn_finedata=wfndata,\n",
    "    wfn_coarsedata=wfndata,\n",
    "    epsinp=epsinp,\n",
    "    sigmainp=sigmainp,\n",
    "    kernel=kernelclass,\n",
    ")"
   ]
  },
  {
   "cell_type": "code",
   "execution_count": 25,
   "metadata": {},
   "outputs": [
    {
     "name": "stdout",
     "output_type": "stream",
     "text": [
      "coeff_val is\n",
      "1.000+0.000j 0.000-0.000j -0.000+0.000j -0.000-0.000j\n",
      "0.000+0.000j 1.000+0.000j 0.000-0.000j -0.000-0.000j\n",
      "-0.000-0.000j 0.000+0.000j 1.000-0.000j 0.000+0.000j\n",
      "-0.000+0.000j -0.000+0.000j 0.000-0.000j 1.000+0.000j\n",
      "\n",
      " coeff_con is\n",
      "-0.166+0.682j 0.037-0.011j 0.019+0.015j 0.589+0.398j\n",
      "0.502-0.019j -0.150+0.516j -0.316+0.106j -0.223+0.546j\n",
      "-0.001-0.003j -0.037-0.527j -0.662+0.533j -0.003-0.000j\n",
      "-0.033-0.741j 0.066+0.021j 0.017+0.040j -0.615-0.254j\n"
     ]
    }
   ],
   "source": [
    "coeff_val = InterpClass.coeff_mtxel(ikf, ikf, \"val\")\n",
    "coeff_con = InterpClass.coeff_mtxel(ikf, ikc, \"con\")\n",
    "\n",
    "\n",
    "print(f\"coeff_val is\")\n",
    "print_2d_matrix(coeff_val, decimals=3)\n",
    "\n",
    "print(f\"\\n coeff_con is\")\n",
    "print_2d_matrix(coeff_con, decimals=3)"
   ]
  },
  {
   "cell_type": "code",
   "execution_count": 26,
   "metadata": {},
   "outputs": [
    {
     "name": "stdout",
     "output_type": "stream",
     "text": [
      "\n",
      " randomarr is\n",
      "    0.599     0.975     0.417     0.571     0.063     0.313     0.054     0.453\n",
      "    0.448     0.321     0.210     0.213     0.923     0.356     0.036     0.908\n",
      "    0.099     0.379     0.008     0.804     0.947     0.380     0.406     0.202\n",
      "    0.043     0.284     0.128     0.268     0.515     0.969     0.310     0.955\n",
      "    0.928     0.744     0.793     0.706     0.101     0.882     0.740     0.605\n",
      "    0.039     0.427     0.016     0.549     0.655     0.387     0.326     0.923\n",
      "    0.801     0.861     0.087     0.709     0.572     0.938     0.522     0.431\n",
      "    0.368     0.139     0.810     0.931     0.959     0.469     0.402     0.134\n"
     ]
    }
   ],
   "source": [
    "randomarr = np.random.rand(numk, 8)\n",
    "print(f\"\\n randomarr is\")\n",
    "print_2d_matrix(randomarr, decimals=3)\n"
   ]
  },
  {
   "cell_type": "code",
   "execution_count": 27,
   "metadata": {},
   "outputs": [
    {
     "name": "stdout",
     "output_type": "stream",
     "text": [
      "\n",
      " energyval is\n",
      "    0.571     0.417     0.975     0.599\n",
      "    0.213     0.210     0.321     0.448\n",
      "    0.804     0.008     0.379     0.099\n",
      "    0.268     0.128     0.284     0.043\n",
      "    0.706     0.793     0.744     0.928\n",
      "    0.549     0.016     0.427     0.039\n",
      "    0.709     0.087     0.861     0.801\n",
      "    0.931     0.810     0.139     0.368\n",
      "\n",
      " energycon is\n",
      "    0.063     0.313     0.054     0.453\n",
      "    0.923     0.356     0.036     0.908\n",
      "    0.947     0.380     0.406     0.202\n",
      "    0.515     0.969     0.310     0.955\n",
      "    0.101     0.882     0.740     0.605\n",
      "    0.655     0.387     0.326     0.923\n",
      "    0.572     0.938     0.522     0.431\n",
      "    0.959     0.469     0.402     0.134\n"
     ]
    }
   ],
   "source": [
    "energyval = InterpClass.interp_energy(randomarr, \"val\")\n",
    "energycon = InterpClass.interp_energy(randomarr, \"con\")\n",
    "\n",
    "\n",
    "print(f\"\\n energyval is\")\n",
    "print_2d_matrix(energyval, decimals=3)\n",
    "\n",
    "print(f\"\\n energycon is\")\n",
    "print_2d_matrix(energycon, decimals=3)"
   ]
  },
  {
   "cell_type": "code",
   "execution_count": 28,
   "metadata": {},
   "outputs": [
    {
     "name": "stdout",
     "output_type": "stream",
     "text": [
      "Is the interpolated valence energy equal to the random array? True\n",
      "Is the interpolated conduction energy equal to the random array? True\n"
     ]
    }
   ],
   "source": [
    "is_equal_val = np.allclose(np.flip(randomarr[:, :4], axis = -1), energyval)\n",
    "is_equal_con = np.allclose(randomarr[:, 4:], energycon)\n",
    "\n",
    "print(f\"Is the interpolated valence energy equal to the random array? {is_equal_val}\")\n",
    "print(f\"Is the interpolated conduction energy equal to the random array? {is_equal_con}\")"
   ]
  }
 ],
 "metadata": {
  "kernelspec": {
   "display_name": "qtm",
   "language": "python",
   "name": "python3"
  },
  "language_info": {
   "codemirror_mode": {
    "name": "ipython",
    "version": 3
   },
   "file_extension": ".py",
   "mimetype": "text/x-python",
   "name": "python",
   "nbconvert_exporter": "python",
   "pygments_lexer": "ipython3",
   "version": "3.11.10"
  }
 },
 "nbformat": 4,
 "nbformat_minor": 2
}
