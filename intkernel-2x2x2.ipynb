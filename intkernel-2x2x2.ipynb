{
 "cells": [
  {
   "cell_type": "code",
   "execution_count": 1,
   "metadata": {},
   "outputs": [],
   "source": [
    "import numpy as np\n",
    "import h5py\n",
    "import sys\n",
    "\n",
    "\n",
    "sys.path.append(\".\")\n",
    "dirname = \"./bgw_files/k-2x2x2/\""
   ]
  },
  {
   "cell_type": "code",
   "execution_count": 2,
   "metadata": {},
   "outputs": [],
   "source": [
    "def print_2d_matrix(matrix, decimals=3):\n",
    "    for row in matrix:\n",
    "        print(\" \".join(f\"{val:9.{decimals}f}\" for val in row))"
   ]
  },
  {
   "cell_type": "code",
   "execution_count": 3,
   "metadata": {},
   "outputs": [],
   "source": [
    "# epsinp and sigmain data.\n",
    "from qtm.interfaces.bgw.epsinp import Epsinp\n",
    "epsinp = Epsinp.from_epsilon_inp(filename=dirname+'epsilon.inp')\n",
    "\n",
    "from qtm.interfaces.bgw.sigmainp import Sigmainp\n",
    "sigmainp = Sigmainp.from_sigma_inp(filename=dirname+'sigma.inp')"
   ]
  },
  {
   "cell_type": "code",
   "execution_count": 4,
   "metadata": {},
   "outputs": [],
   "source": [
    "from qtm.interfaces.bgw import inp\n",
    "from qtm.interfaces.bgw.wfn2py import wfn2py\n",
    "\n",
    "# WFN data\n",
    "wfndata = wfn2py(dirname+'WFN.h5')\n",
    "wfnqdata = wfn2py(dirname+'WFNq.h5')\n",
    "\n",
    "# RHO data\n",
    "rho = inp.read_rho(dirname+\"RHO\")\n",
    "\n",
    "# Vxc data\n",
    "vxc = inp.read_vxc(dirname+\"vxc.dat\")"
   ]
  },
  {
   "cell_type": "code",
   "execution_count": 5,
   "metadata": {},
   "outputs": [
    {
     "name": "stderr",
     "output_type": "stream",
     "text": [
      "Vcoul calculation for qpts: 100%|██████████| 8/8 [00:00<00:00, 12567.20it/s]\n"
     ]
    }
   ],
   "source": [
    "from qtm.gw.core import QPoints\n",
    "from qtm.gw.epsilon import Epsilon\n",
    "\n",
    "epsilon = Epsilon.from_data(wfndata=wfndata, wfnqdata=wfnqdata, epsinp=epsinp)"
   ]
  },
  {
   "cell_type": "code",
   "execution_count": 6,
   "metadata": {},
   "outputs": [
    {
     "name": "stderr",
     "output_type": "stream",
     "text": [
      "Vcoul calculation for qpts:   0%|          | 0/8 [00:00<?, ?it/s]"
     ]
    },
    {
     "name": "stderr",
     "output_type": "stream",
     "text": [
      "Vcoul calculation for qpts: 100%|██████████| 8/8 [00:00<00:00, 14469.35it/s]\n",
      "Epsilon> q-pt index: 100%|██████████| 8/8 [00:00<00:00, 110.99it/s]"
     ]
    },
    {
     "name": "stdout",
     "output_type": "stream",
     "text": [
      "Standard deviation exceeded 1e-16 tolerance: 2.5494915419483335e-15, for i_q:0\n"
     ]
    },
    {
     "name": "stderr",
     "output_type": "stream",
     "text": [
      "\n"
     ]
    }
   ],
   "source": [
    "from tqdm import trange\n",
    "from qtm.gw.core import reorder_2d_matrix_sorted_gvecs, sort_cryst_like_BGW\n",
    "\n",
    "\n",
    "def calculate_epsilon(numq=None, writing=False):\n",
    "    epsmats = []\n",
    "    if numq is None:\n",
    "        numq = epsilon.qpts.numq\n",
    "\n",
    "    for i_q in trange(0, numq, desc=\"Epsilon> q-pt index\"):\n",
    "        # Create map between BGW's sorting order and QTm's sorting order\n",
    "        gkspc = epsilon.l_gq[i_q]\n",
    "        \n",
    "        if i_q == epsilon.qpts.index_q0:\n",
    "            key = gkspc.g_norm2\n",
    "        else:\n",
    "            key = gkspc.gk_norm2\n",
    "\n",
    "        indices_gspace_sorted = sort_cryst_like_BGW(\n",
    "            cryst=gkspc.g_cryst, key_array=key\n",
    "        )\n",
    "\n",
    "        # Calculate matrix elements\n",
    "        M = next(epsilon.matrix_elements(i_q=i_q))\n",
    "\n",
    "        # Calculate polarizability matrix (faster, but not memory-efficient)\n",
    "        chimat = epsilon.polarizability(M)\n",
    "\n",
    "        # Calculate polarizability matrix (memory-efficient)\n",
    "        # chimat = epsilon.polarizability_active(i_q)\n",
    "\n",
    "        # Calculate epsilon inverse matrix\n",
    "        epsinv = epsilon.epsilon_inverse(i_q=i_q, polarizability_matrix=chimat, store=True)\n",
    "\n",
    "\n",
    "        epsinv = reorder_2d_matrix_sorted_gvecs(epsinv, indices_gspace_sorted)\n",
    "        epsilon.l_epsinv[i_q] = epsinv\n",
    "        \n",
    "        # Compare the results with BGW's results\n",
    "        if i_q == epsilon.qpts.index_q0:\n",
    "            epsref = epsilon.read_epsmat(dirname + \"eps0mat.h5\")[0][0, 0]\n",
    "            if writing:\n",
    "                epsilon.write_epsmat(\n",
    "                    filename=\"test/epsilon/eps0mat_qtm.h5\", epsinvmats=[epsinv]\n",
    "                )\n",
    "        else:\n",
    "            epsref = np.array(epsilon.read_epsmat(dirname + \"epsmat.h5\")[i_q - 1][0, 0])\n",
    "            epsmats.append(epsinv)\n",
    "\n",
    "        # Calculate stddev between reference and calculated epsinv matrices\n",
    "        std_eps = np.std(epsref - epsinv) / np.sqrt(np.prod(list(epsinv.shape)))\n",
    "\n",
    "        epstol = 1e-16\n",
    "        if np.abs(std_eps) > epstol:\n",
    "            print(f\"Standard deviation exceeded {epstol} tolerance: {std_eps}, for i_q:{i_q}\")\n",
    "\n",
    "    if writing:\n",
    "        epsilon.write_epsmat(filename=\"test/epsilon/epsmat_qtm.h5\", epsinvmats=epsmats)\n",
    "\n",
    "\n",
    "epsinp.no_min_fftgrid = True\n",
    "epsilon = Epsilon.from_data(wfndata=wfndata, wfnqdata=wfnqdata, epsinp=epsinp)\n",
    "calculate_epsilon()"
   ]
  },
  {
   "cell_type": "code",
   "execution_count": 7,
   "metadata": {},
   "outputs": [],
   "source": [
    "from kernel import KernelMtxEl\n",
    "\n",
    "q0 = [0.001, 0.001, 0.001]\n",
    "l_qpts = np.array(epsinp.qpts)\n",
    "l_qpts[0] *= 0\n",
    "qpts = QPoints.from_cryst(wfndata.kpts.recilat, None, *l_qpts)\n",
    "\n",
    "kernelclass = KernelMtxEl.from_BGW(\n",
    "    wfndata=wfndata,\n",
    "    epsinp=epsinp,\n",
    "    sigmainp=sigmainp,\n",
    "    q0=q0,\n",
    "    l_epsmats=epsilon.l_epsinv,\n",
    "    parallel=True,\n",
    ")"
   ]
  },
  {
   "cell_type": "code",
   "execution_count": 8,
   "metadata": {},
   "outputs": [],
   "source": [
    "data = kernelclass.kernel_mtxel()\n",
    "exc = data[\"exc\"]\n",
    "head = data[\"head\"]\n",
    "body = data[\"body\"]\n",
    "wings = data[\"wings\"]"
   ]
  },
  {
   "cell_type": "code",
   "execution_count": 9,
   "metadata": {},
   "outputs": [],
   "source": [
    "numq = kernelclass.qpts.numq\n",
    "numk = kernelclass.kpts.numk"
   ]
  },
  {
   "cell_type": "code",
   "execution_count": 10,
   "metadata": {},
   "outputs": [
    {
     "name": "stdout",
     "output_type": "stream",
     "text": [
      "ikf, ikc = 7, 5\n"
     ]
    }
   ],
   "source": [
    "ikf, ikc = np.random.randint(0, numk, size=2)\n",
    "print(f\"ikf, ikc = {ikf}, {ikc}\")"
   ]
  },
  {
   "cell_type": "code",
   "execution_count": 11,
   "metadata": {},
   "outputs": [],
   "source": [
    "from intkernel import InterpMtxEl\n",
    "\n",
    "InterpClass = InterpMtxEl.from_BGW(\n",
    "    wfn_finedata=wfndata,\n",
    "    wfn_coarsedata=wfndata,\n",
    "    epsinp=epsinp,\n",
    "    sigmainp=sigmainp,\n",
    "    kernel=kernelclass,\n",
    ")"
   ]
  },
  {
   "cell_type": "code",
   "execution_count": 12,
   "metadata": {},
   "outputs": [
    {
     "name": "stdout",
     "output_type": "stream",
     "text": [
      "coeff_val is\n",
      "1.000-0.000j -0.000-0.000j -0.000-0.000j 0.000+0.000j\n",
      "-0.000+0.000j 1.000+0.000j -0.000-0.000j -0.000-0.000j\n",
      "-0.000+0.000j -0.000+0.000j 1.000+0.000j -0.000-0.000j\n",
      "0.000-0.000j -0.000+0.000j -0.000+0.000j 1.000-0.000j\n",
      "\n",
      " coeff_con is\n",
      "-0.244-0.155j -0.130+0.730j 0.003+0.003j -0.579+0.178j\n",
      "0.000-0.001j 0.038-0.005j 0.991+0.128j 0.004-0.002j\n",
      "0.008+0.011j -0.440+0.894j 0.018-0.020j -0.071+0.001j\n",
      "0.038-0.271j 0.789-0.209j -0.001+0.003j -0.341-0.378j\n"
     ]
    }
   ],
   "source": [
    "coeff_val = InterpClass.coeff_mtxel(ikf, ikf, \"val\")\n",
    "coeff_con = InterpClass.coeff_mtxel(ikf, ikc, \"con\")\n",
    "\n",
    "\n",
    "print(f\"coeff_val is\")\n",
    "print_2d_matrix(coeff_val, decimals=3)\n",
    "\n",
    "print(f\"\\n coeff_con is\")\n",
    "print_2d_matrix(coeff_con, decimals=3)"
   ]
  },
  {
   "cell_type": "code",
   "execution_count": 13,
   "metadata": {},
   "outputs": [
    {
     "name": "stdout",
     "output_type": "stream",
     "text": [
      "\n",
      " randomarr is\n",
      "    0.790     0.263     0.615     0.188     0.226     0.466     0.743     0.886\n",
      "    0.888     0.490     0.148     0.371     0.610     0.474     0.312     0.245\n",
      "    0.117     0.018     0.819     0.951     0.524     0.741     0.780     0.691\n",
      "    0.285     0.030     0.830     0.387     0.767     0.494     0.442     0.849\n",
      "    0.063     0.996     0.842     0.526     0.444     0.311     0.363     0.140\n",
      "    0.652     0.972     0.685     0.599     0.563     0.091     0.997     0.428\n",
      "    0.712     0.244     0.409     0.521     0.868     0.631     0.935     0.300\n",
      "    0.784     0.417     0.130     0.414     0.814     0.348     0.395     0.115\n"
     ]
    }
   ],
   "source": [
    "randomarr = np.random.rand(numk, 8)\n",
    "print(f\"\\n randomarr is\")\n",
    "print_2d_matrix(randomarr, decimals=3)\n"
   ]
  },
  {
   "cell_type": "code",
   "execution_count": 14,
   "metadata": {},
   "outputs": [
    {
     "name": "stdout",
     "output_type": "stream",
     "text": [
      "\n",
      " energyval is\n",
      "    0.188     0.615     0.263     0.790\n",
      "    0.371     0.148     0.490     0.888\n",
      "    0.951     0.819     0.018     0.117\n",
      "    0.387     0.830     0.030     0.285\n",
      "    0.526     0.842     0.996     0.063\n",
      "    0.599     0.685     0.972     0.652\n",
      "    0.521     0.409     0.244     0.712\n",
      "    0.414     0.130     0.417     0.784\n",
      "\n",
      " energycon is\n",
      "    0.226     0.466     0.743     0.886\n",
      "    0.610     0.474     0.312     0.245\n",
      "    0.524     0.741     0.780     0.691\n",
      "    0.767     0.494     0.442     0.849\n",
      "    0.444     0.311     0.363     0.140\n",
      "    0.563     0.091     0.997     0.428\n",
      "    0.868     0.631     0.935     0.300\n",
      "    0.814     0.348     0.395     0.115\n"
     ]
    }
   ],
   "source": [
    "energyval = InterpClass.interp_energy(randomarr, \"val\")\n",
    "energycon = InterpClass.interp_energy(randomarr, \"con\")\n",
    "\n",
    "\n",
    "print(f\"\\n energyval is\")\n",
    "print_2d_matrix(energyval, decimals=3)\n",
    "\n",
    "print(f\"\\n energycon is\")\n",
    "print_2d_matrix(energycon, decimals=3)"
   ]
  },
  {
   "cell_type": "code",
   "execution_count": 15,
   "metadata": {},
   "outputs": [
    {
     "name": "stdout",
     "output_type": "stream",
     "text": [
      "Is the interpolated valence energy equal to the random array? True\n",
      "Is the interpolated conduction energy equal to the random array? True\n"
     ]
    }
   ],
   "source": [
    "is_equal_val = np.allclose(np.flip(randomarr[:, :4], axis = -1), energyval)\n",
    "is_equal_con = np.allclose(randomarr[:, 4:], energycon)\n",
    "\n",
    "print(f\"Is the interpolated valence energy equal to the random array? {is_equal_val}\")\n",
    "print(f\"Is the interpolated conduction energy equal to the random array? {is_equal_con}\")"
   ]
  },
  {
   "cell_type": "code",
   "execution_count": 16,
   "metadata": {},
   "outputs": [
    {
     "name": "stdout",
     "output_type": "stream",
     "text": [
      "\n",
      " fine_kernel is\n",
      "9627.569-0.000j -0.146+0.555j -0.320+0.108j -0.180-0.323j -0.535-0.818j 0.042+0.145j 0.060-0.237j 0.013+0.002j\n",
      "-0.146-0.555j 9627.955+0.000j 0.163+0.247j -0.893+0.856j 0.194-0.215j -1.041+0.625j 0.187-0.001j -0.007-0.051j\n",
      "-0.320-0.108j 0.163-0.247j 9627.955-0.000j 0.222+1.205j -0.074-0.287j -0.008+0.187j 0.667-1.030j 0.002+0.001j\n",
      "-0.180+0.323j -0.893-0.856j 0.222-1.205j 9627.822+0.000j -0.186+0.014j 0.084+0.019j -0.063-0.059j -0.078+0.107j\n",
      "-0.535+0.818j 0.194+0.215j -0.074+0.287j -0.186-0.014j 9627.955-0.000j -1.161-0.353j 0.837+0.912j -0.032+0.038j\n",
      "0.042-0.145j -1.041-0.625j -0.008-0.187j 0.084-0.019j -1.161+0.353j 9627.822+0.000j -0.074-0.044j -0.002+0.004j\n",
      "0.060+0.237j 0.187+0.001j 0.667+1.030j -0.063+0.059j 0.837-0.912j -0.074+0.044j 9627.822-0.000j 0.018+0.135j\n",
      "0.013-0.002j -0.007+0.051j 0.002-0.001j -0.078-0.107j -0.032-0.038j -0.002-0.004j 0.018-0.135j 9627.955-0.000j\n"
     ]
    }
   ],
   "source": [
    "fine_kernel = InterpClass.interp_kernel(head, wings, body, exc)\n",
    "fine_kernel = fine_kernel[:, :, 0, 0, 0, 0]\n",
    "print(f\"\\n fine_kernel is\")\n",
    "\n",
    "print_2d_matrix(fine_kernel, decimals=3)"
   ]
  }
 ],
 "metadata": {
  "kernelspec": {
   "display_name": "qtm",
   "language": "python",
   "name": "python3"
  },
  "language_info": {
   "codemirror_mode": {
    "name": "ipython",
    "version": 3
   },
   "file_extension": ".py",
   "mimetype": "text/x-python",
   "name": "python",
   "nbconvert_exporter": "python",
   "pygments_lexer": "ipython3",
   "version": "3.11.10"
  }
 },
 "nbformat": 4,
 "nbformat_minor": 2
}
