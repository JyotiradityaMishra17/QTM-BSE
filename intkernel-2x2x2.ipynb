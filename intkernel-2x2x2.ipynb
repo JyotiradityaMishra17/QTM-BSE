{
 "cells": [
  {
   "cell_type": "code",
   "execution_count": 33,
   "metadata": {},
   "outputs": [],
   "source": [
    "import numpy as np\n",
    "import h5py\n",
    "import sys\n",
    "\n",
    "\n",
    "sys.path.append(\".\")\n",
    "dirname = \"./bgw_files/k-2x2x2/\""
   ]
  },
  {
   "cell_type": "code",
   "execution_count": 34,
   "metadata": {},
   "outputs": [],
   "source": [
    "def print_2d_matrix(matrix, decimals=3):\n",
    "    for row in matrix:\n",
    "        print(\" \".join(f\"{val:9.{decimals}f}\" for val in row))"
   ]
  },
  {
   "cell_type": "code",
   "execution_count": 35,
   "metadata": {},
   "outputs": [],
   "source": [
    "# epsinp and sigmain data.\n",
    "from qtm.interfaces.bgw.epsinp import Epsinp\n",
    "epsinp = Epsinp.from_epsilon_inp(filename=dirname+'epsilon.inp')\n",
    "\n",
    "from qtm.interfaces.bgw.sigmainp import Sigmainp\n",
    "sigmainp = Sigmainp.from_sigma_inp(filename=dirname+'sigma.inp')"
   ]
  },
  {
   "cell_type": "code",
   "execution_count": 36,
   "metadata": {},
   "outputs": [],
   "source": [
    "from qtm.interfaces.bgw import inp\n",
    "from qtm.interfaces.bgw.wfn2py import wfn2py\n",
    "\n",
    "# WFN data\n",
    "wfndata = wfn2py(dirname+'WFN.h5')\n",
    "wfnqdata = wfn2py(dirname+'WFNq.h5')\n",
    "\n",
    "# RHO data\n",
    "rho = inp.read_rho(dirname+\"RHO\")\n",
    "\n",
    "# Vxc data\n",
    "vxc = inp.read_vxc(dirname+\"vxc.dat\")"
   ]
  },
  {
   "cell_type": "code",
   "execution_count": 37,
   "metadata": {},
   "outputs": [
    {
     "name": "stderr",
     "output_type": "stream",
     "text": [
      "Vcoul calculation for qpts: 100%|██████████| 8/8 [00:00<00:00, 16929.58it/s]\n"
     ]
    }
   ],
   "source": [
    "from qtm.gw.core import QPoints\n",
    "from qtm.gw.epsilon import Epsilon\n",
    "\n",
    "epsilon = Epsilon.from_data(wfndata=wfndata, wfnqdata=wfnqdata, epsinp=epsinp)"
   ]
  },
  {
   "cell_type": "code",
   "execution_count": 38,
   "metadata": {},
   "outputs": [
    {
     "name": "stderr",
     "output_type": "stream",
     "text": [
      "Vcoul calculation for qpts: 100%|██████████| 8/8 [00:00<00:00, 17242.77it/s]\n",
      "Epsilon> q-pt index: 100%|██████████| 8/8 [00:00<00:00, 139.53it/s]"
     ]
    },
    {
     "name": "stdout",
     "output_type": "stream",
     "text": [
      "Standard deviation exceeded 1e-16 tolerance: 2.5494915419483335e-15, for i_q:0\n"
     ]
    },
    {
     "name": "stderr",
     "output_type": "stream",
     "text": [
      "\n"
     ]
    }
   ],
   "source": [
    "from tqdm import trange\n",
    "from qtm.gw.core import reorder_2d_matrix_sorted_gvecs, sort_cryst_like_BGW\n",
    "\n",
    "\n",
    "def calculate_epsilon(numq=None, writing=False):\n",
    "    epsmats = []\n",
    "    if numq is None:\n",
    "        numq = epsilon.qpts.numq\n",
    "\n",
    "    for i_q in trange(0, numq, desc=\"Epsilon> q-pt index\"):\n",
    "        # Create map between BGW's sorting order and QTm's sorting order\n",
    "        gkspc = epsilon.l_gq[i_q]\n",
    "        \n",
    "        if i_q == epsilon.qpts.index_q0:\n",
    "            key = gkspc.g_norm2\n",
    "        else:\n",
    "            key = gkspc.gk_norm2\n",
    "\n",
    "        indices_gspace_sorted = sort_cryst_like_BGW(\n",
    "            cryst=gkspc.g_cryst, key_array=key\n",
    "        )\n",
    "\n",
    "        # Calculate matrix elements\n",
    "        M = next(epsilon.matrix_elements(i_q=i_q))\n",
    "\n",
    "        # Calculate polarizability matrix (faster, but not memory-efficient)\n",
    "        chimat = epsilon.polarizability(M)\n",
    "\n",
    "        # Calculate polarizability matrix (memory-efficient)\n",
    "        # chimat = epsilon.polarizability_active(i_q)\n",
    "\n",
    "        # Calculate epsilon inverse matrix\n",
    "        epsinv = epsilon.epsilon_inverse(i_q=i_q, polarizability_matrix=chimat, store=True)\n",
    "\n",
    "\n",
    "        epsinv = reorder_2d_matrix_sorted_gvecs(epsinv, indices_gspace_sorted)\n",
    "        epsilon.l_epsinv[i_q] = epsinv\n",
    "        \n",
    "        # Compare the results with BGW's results\n",
    "        if i_q == epsilon.qpts.index_q0:\n",
    "            epsref = epsilon.read_epsmat(dirname + \"eps0mat.h5\")[0][0, 0]\n",
    "            if writing:\n",
    "                epsilon.write_epsmat(\n",
    "                    filename=\"test/epsilon/eps0mat_qtm.h5\", epsinvmats=[epsinv]\n",
    "                )\n",
    "        else:\n",
    "            epsref = np.array(epsilon.read_epsmat(dirname + \"epsmat.h5\")[i_q - 1][0, 0])\n",
    "            epsmats.append(epsinv)\n",
    "\n",
    "        # Calculate stddev between reference and calculated epsinv matrices\n",
    "        std_eps = np.std(epsref - epsinv) / np.sqrt(np.prod(list(epsinv.shape)))\n",
    "\n",
    "        epstol = 1e-16\n",
    "        if np.abs(std_eps) > epstol:\n",
    "            print(f\"Standard deviation exceeded {epstol} tolerance: {std_eps}, for i_q:{i_q}\")\n",
    "\n",
    "    if writing:\n",
    "        epsilon.write_epsmat(filename=\"test/epsilon/epsmat_qtm.h5\", epsinvmats=epsmats)\n",
    "\n",
    "\n",
    "epsinp.no_min_fftgrid = True\n",
    "epsilon = Epsilon.from_data(wfndata=wfndata, wfnqdata=wfnqdata, epsinp=epsinp)\n",
    "calculate_epsilon()"
   ]
  },
  {
   "cell_type": "code",
   "execution_count": 39,
   "metadata": {},
   "outputs": [],
   "source": [
    "from kernel import KernelMtxEl\n",
    "\n",
    "q0 = [0.001, 0.001, 0.001]\n",
    "l_qpts = np.array(epsinp.qpts)\n",
    "l_qpts[0] *= 0\n",
    "qpts = QPoints.from_cryst(wfndata.kpts.recilat, None, *l_qpts)\n",
    "\n",
    "kernelclass = KernelMtxEl.from_BGW(\n",
    "    wfndata=wfndata,\n",
    "    epsinp=epsinp,\n",
    "    sigmainp=sigmainp,\n",
    "    q0=q0,\n",
    "    l_epsmats=epsilon.l_epsinv,\n",
    "    parallel=True,\n",
    ")"
   ]
  },
  {
   "cell_type": "code",
   "execution_count": 40,
   "metadata": {},
   "outputs": [],
   "source": [
    "data = kernelclass.kernel_mtxel()\n",
    "exc = data[\"exc\"]\n",
    "head = data[\"head\"]\n",
    "body = data[\"body\"]\n",
    "wings = data[\"wings\"]"
   ]
  },
  {
   "cell_type": "code",
   "execution_count": 41,
   "metadata": {},
   "outputs": [],
   "source": [
    "numq = kernelclass.qpts.numq\n",
    "numk = kernelclass.kpts.numk"
   ]
  },
  {
   "cell_type": "code",
   "execution_count": 42,
   "metadata": {},
   "outputs": [
    {
     "name": "stdout",
     "output_type": "stream",
     "text": [
      "ikf, ikc = 6, 4\n"
     ]
    }
   ],
   "source": [
    "ikf, ikc = np.random.randint(0, numk, size=2)\n",
    "print(f\"ikf, ikc = {ikf}, {ikc}\")"
   ]
  },
  {
   "cell_type": "code",
   "execution_count": 43,
   "metadata": {},
   "outputs": [],
   "source": [
    "from intkernel import InterpMtxEl\n",
    "\n",
    "InterpClass = InterpMtxEl.from_BGW(\n",
    "    wfn_finedata=wfndata,\n",
    "    wfn_coarsedata=wfndata,\n",
    "    epsinp=epsinp,\n",
    "    sigmainp=sigmainp,\n",
    "    kernel=kernelclass,\n",
    ")"
   ]
  },
  {
   "cell_type": "code",
   "execution_count": 44,
   "metadata": {},
   "outputs": [
    {
     "name": "stdout",
     "output_type": "stream",
     "text": [
      "coeff_val is\n",
      "1.000+0.000j 0.000-0.000j -0.000+0.000j -0.000-0.000j\n",
      "0.000+0.000j 1.000+0.000j 0.000-0.000j -0.000-0.000j\n",
      "-0.000-0.000j 0.000+0.000j 1.000-0.000j 0.000+0.000j\n",
      "-0.000+0.000j -0.000+0.000j 0.000-0.000j 1.000+0.000j\n",
      "\n",
      " coeff_con is\n",
      "0.113+0.490j 0.527+0.104j 0.157+0.294j -0.578+0.114j\n",
      "0.636-0.299j 0.030+0.025j -0.001+0.024j -0.327-0.631j\n",
      "-0.501+0.548j 0.029+0.063j -0.023+0.037j 0.472+0.469j\n",
      "0.003-0.002j 0.527-0.027j -0.570-0.630j -0.001-0.003j\n"
     ]
    }
   ],
   "source": [
    "coeff_val = InterpClass.coeff_mtxel(ikf, ikf, \"val\")\n",
    "coeff_con = InterpClass.coeff_mtxel(ikf, ikc, \"con\")\n",
    "\n",
    "\n",
    "print(f\"coeff_val is\")\n",
    "print_2d_matrix(coeff_val, decimals=3)\n",
    "\n",
    "print(f\"\\n coeff_con is\")\n",
    "print_2d_matrix(coeff_con, decimals=3)"
   ]
  },
  {
   "cell_type": "code",
   "execution_count": 45,
   "metadata": {},
   "outputs": [
    {
     "name": "stdout",
     "output_type": "stream",
     "text": [
      "\n",
      " randomarr is\n",
      "    0.497     0.085     0.552     0.970     0.255     0.021     0.272     0.687\n",
      "    0.977     0.672     0.503     0.375     0.446     0.803     0.507     0.575\n",
      "    0.440     0.324     0.166     0.230     0.695     0.266     0.739     0.888\n",
      "    0.062     0.691     0.151     0.453     0.625     0.932     0.777     0.828\n",
      "    0.915     0.886     0.031     0.680     0.820     0.339     0.965     0.155\n",
      "    0.180     0.404     0.073     0.830     0.673     0.301     0.189     0.959\n",
      "    0.224     0.459     0.792     0.069     0.729     0.070     0.466     0.402\n",
      "    0.621     0.175     0.279     0.080     0.476     0.831     0.263     0.549\n"
     ]
    }
   ],
   "source": [
    "randomarr = np.random.rand(numk, 8)\n",
    "print(f\"\\n randomarr is\")\n",
    "print_2d_matrix(randomarr, decimals=3)\n"
   ]
  },
  {
   "cell_type": "code",
   "execution_count": 46,
   "metadata": {},
   "outputs": [
    {
     "name": "stdout",
     "output_type": "stream",
     "text": [
      "\n",
      " energyval is\n",
      "    0.970     0.552     0.085     0.497\n",
      "    0.375     0.503     0.672     0.977\n",
      "    0.230     0.166     0.324     0.440\n",
      "    0.453     0.151     0.691     0.062\n",
      "    0.680     0.031     0.886     0.915\n",
      "    0.830     0.073     0.404     0.180\n",
      "    0.069     0.792     0.459     0.224\n",
      "    0.080     0.279     0.175     0.621\n",
      "\n",
      " energycon is\n",
      "    0.255     0.021     0.272     0.687\n",
      "    0.446     0.803     0.507     0.575\n",
      "    0.695     0.266     0.739     0.888\n",
      "    0.625     0.932     0.777     0.828\n",
      "    0.820     0.339     0.965     0.155\n",
      "    0.673     0.301     0.189     0.959\n",
      "    0.729     0.070     0.466     0.402\n",
      "    0.476     0.831     0.263     0.549\n"
     ]
    }
   ],
   "source": [
    "energyval = InterpClass.interp_energy(randomarr, \"val\")\n",
    "energycon = InterpClass.interp_energy(randomarr, \"con\")\n",
    "\n",
    "\n",
    "print(f\"\\n energyval is\")\n",
    "print_2d_matrix(energyval, decimals=3)\n",
    "\n",
    "print(f\"\\n energycon is\")\n",
    "print_2d_matrix(energycon, decimals=3)"
   ]
  },
  {
   "cell_type": "code",
   "execution_count": 47,
   "metadata": {},
   "outputs": [
    {
     "name": "stdout",
     "output_type": "stream",
     "text": [
      "Is the interpolated valence energy equal to the random array? True\n",
      "Is the interpolated conduction energy equal to the random array? True\n"
     ]
    }
   ],
   "source": [
    "is_equal_val = np.allclose(np.flip(randomarr[:, :4], axis = -1), energyval)\n",
    "is_equal_con = np.allclose(randomarr[:, 4:], energycon)\n",
    "\n",
    "print(f\"Is the interpolated valence energy equal to the random array? {is_equal_val}\")\n",
    "print(f\"Is the interpolated conduction energy equal to the random array? {is_equal_con}\")"
   ]
  },
  {
   "cell_type": "code",
   "execution_count": null,
   "metadata": {},
   "outputs": [
    {
     "name": "stdout",
     "output_type": "stream",
     "text": [
      "\n",
      " fine_kernel is\n",
      "9627.569-0.000j -0.146+0.555j -0.320+0.108j -0.180-0.323j -0.535-0.818j 0.042+0.145j 0.060-0.237j 0.013+0.002j\n",
      "-0.146-0.555j 9627.955+0.000j 0.163+0.247j -0.893+0.856j 0.194-0.215j -1.041+0.625j 0.187-0.001j -0.007-0.051j\n",
      "-0.320-0.108j 0.163-0.247j 9627.955-0.000j 0.222+1.205j -0.074-0.287j -0.008+0.187j 0.667-1.030j 0.002+0.001j\n",
      "-0.180+0.323j -0.893-0.856j 0.222-1.205j 9627.822+0.000j -0.186+0.014j 0.084+0.019j -0.063-0.059j -0.078+0.107j\n",
      "-0.535+0.818j 0.194+0.215j -0.074+0.287j -0.186-0.014j 9627.955-0.000j -1.161-0.353j 0.837+0.912j -0.032+0.038j\n",
      "0.042-0.145j -1.041-0.625j -0.008-0.187j 0.084-0.019j -1.161+0.353j 9627.822+0.000j -0.074-0.044j -0.002+0.004j\n",
      "0.060+0.237j 0.187+0.001j 0.667+1.030j -0.063+0.059j 0.837-0.912j -0.074+0.044j 9627.822-0.000j 0.018+0.135j\n",
      "0.013-0.002j -0.007+0.051j 0.002-0.001j -0.078-0.107j -0.032-0.038j -0.002-0.004j 0.018-0.135j 9627.955-0.000j\n"
     ]
    }
   ],
   "source": [
    "fine_kernel = InterpClass.interp_kernel(head, wings, body, exc)\n",
    "fine_kernel = fine_kernel[:, :, 0, 0, 0, 0]\n",
    "print(f\"\\n fine_kernel is\")\n",
    "\n",
    "print_2d_matrix(fine_kernel, decimals=3)"
   ]
  }
 ],
 "metadata": {
  "kernelspec": {
   "display_name": "qtm",
   "language": "python",
   "name": "python3"
  },
  "language_info": {
   "codemirror_mode": {
    "name": "ipython",
    "version": 3
   },
   "file_extension": ".py",
   "mimetype": "text/x-python",
   "name": "python",
   "nbconvert_exporter": "python",
   "pygments_lexer": "ipython3",
   "version": "3.11.10"
  }
 },
 "nbformat": 4,
 "nbformat_minor": 2
}
