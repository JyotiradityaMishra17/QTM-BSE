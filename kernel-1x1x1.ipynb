{
 "cells": [
  {
   "cell_type": "code",
   "execution_count": 1,
   "metadata": {},
   "outputs": [],
   "source": [
    "import numpy as np\n",
    "import h5py\n",
    "import sys\n",
    "\n",
    "\n",
    "sys.path.append(\".\")\n",
    "dirname = \"./bgw_files/k-1x1x1/\""
   ]
  },
  {
   "cell_type": "code",
   "execution_count": 2,
   "metadata": {},
   "outputs": [],
   "source": [
    "# epsinp and sigmain data.\n",
    "from qtm.interfaces.bgw.epsinp import Epsinp\n",
    "epsinp = Epsinp.from_epsilon_inp(filename=dirname+'epsilon.inp')\n",
    "\n",
    "from qtm.interfaces.bgw.sigmainp import Sigmainp\n",
    "sigmainp = Sigmainp.from_sigma_inp(filename=dirname+'sigma.inp')"
   ]
  },
  {
   "cell_type": "code",
   "execution_count": 3,
   "metadata": {},
   "outputs": [],
   "source": [
    "from qtm.interfaces.bgw import inp\n",
    "from qtm.interfaces.bgw.wfn2py import wfn2py\n",
    "\n",
    "# Read wfndata\n",
    "wfndata = wfn2py(dirname + \"WFN_co.h5\")\n",
    "wfnqdata = wfn2py(dirname + \"WFNq.h5\")\n",
    "\n",
    "# Read rho\n",
    "rho = inp.read_rho(dirname + \"RHO\")\n",
    "\n",
    "# Read vxc \n",
    "vxc = inp.read_vxc(dirname + \"vxc.dat\") "
   ]
  },
  {
   "cell_type": "code",
   "execution_count": 4,
   "metadata": {},
   "outputs": [
    {
     "name": "stderr",
     "output_type": "stream",
     "text": [
      "Vcoul calculation for qpts: 100%|██████████| 1/1 [00:00<00:00, 5555.37it/s]\n"
     ]
    }
   ],
   "source": [
    "from qtm.gw.core import QPoints\n",
    "from qtm.gw.epsilon import Epsilon\n",
    "\n",
    "epsilon = Epsilon.from_data(wfndata=wfndata, wfnqdata=wfnqdata, epsinp=epsinp)"
   ]
  },
  {
   "cell_type": "code",
   "execution_count": 5,
   "metadata": {},
   "outputs": [
    {
     "name": "stderr",
     "output_type": "stream",
     "text": [
      "Vcoul calculation for qpts: 100%|██████████| 1/1 [00:00<00:00, 4190.11it/s]\n",
      "Epsilon> q-pt index: 100%|██████████| 1/1 [00:00<00:00, 337.11it/s]"
     ]
    },
    {
     "name": "stdout",
     "output_type": "stream",
     "text": [
      "Standard deviation exceeded 1e-16 tolerance: 1.9894890166455426e-15, for i_q:0\n"
     ]
    },
    {
     "name": "stderr",
     "output_type": "stream",
     "text": [
      "\n"
     ]
    }
   ],
   "source": [
    "from tqdm import trange\n",
    "from qtm.gw.core import reorder_2d_matrix_sorted_gvecs, sort_cryst_like_BGW\n",
    "\n",
    "\n",
    "def calculate_epsilon(numq=None, writing=False):\n",
    "    epsmats = []\n",
    "    if numq is None:\n",
    "        numq = epsilon.qpts.numq\n",
    "\n",
    "    for i_q in trange(0, numq, desc=\"Epsilon> q-pt index\"):\n",
    "        # Create map between BGW's sorting order and QTm's sorting order\n",
    "        gkspc = epsilon.l_gq[i_q]\n",
    "        \n",
    "        # if i_q == epsilon.qpts.index_q0:\n",
    "        #     key = gkspc.g_norm2\n",
    "        # else:\n",
    "        #     key = gkspc.gk_norm2\n",
    "\n",
    "        key = gkspc.gk_norm2\n",
    "\n",
    "        indices_gspace_sorted = sort_cryst_like_BGW(\n",
    "            cryst=gkspc.g_cryst, key_array=key\n",
    "        )\n",
    "       \n",
    "\n",
    "        # Calculate matrix elements\n",
    "        M = next(epsilon.matrix_elements(i_q=i_q))\n",
    "\n",
    "        # Calculate polarizability matrix (faster, but not memory-efficient)\n",
    "        chimat = epsilon.polarizability(M)\n",
    "\n",
    "        # Calculate polarizability matrix (memory-efficient)\n",
    "        # chimat = epsilon.polarizability_active(i_q)\n",
    "\n",
    "        # Calculate epsilon inverse matrix\n",
    "        epsinv0 = epsilon.epsilon_inverse(i_q=i_q, polarizability_matrix=chimat, store=True)\n",
    "        epsinv = reorder_2d_matrix_sorted_gvecs(epsinv0, indices_gspace_sorted)\n",
    "\n",
    "        epsilon.l_epsinv[i_q] = epsinv\n",
    "\n",
    "        \n",
    "        # Compare the results with BGW's results\n",
    "        if i_q == epsilon.qpts.index_q0:\n",
    "            epsref = epsilon.read_epsmat(dirname + \"eps0mat.h5\")[0][0, 0]\n",
    "            if writing:\n",
    "                epsilon.write_epsmat(\n",
    "                    filename=\"test/epsilon/eps0mat_qtm.h5\", epsinvmats=[epsinv]\n",
    "                )\n",
    "        else:\n",
    "            epsref = np.array(epsilon.read_epsmat(dirname + \"epsmat.h5\")[i_q - 1][0, 0])\n",
    "            epsmats.append(epsinv)\n",
    "\n",
    "        # Calculate stddev between reference and calculated epsinv matrices\n",
    "        std_eps = np.std(epsref - epsinv) / np.sqrt(np.prod(list(epsinv.shape)))\n",
    "\n",
    "\n",
    "        epstol = 1e-16\n",
    "        if np.abs(std_eps) > epstol:\n",
    "            print(f\"Standard deviation exceeded {epstol} tolerance: {std_eps}, for i_q:{i_q}\")\n",
    "\n",
    "\n",
    "    if writing:\n",
    "        epsilon.write_epsmat(filename=\"test/epsilon/epsmat_qtm.h5\", epsinvmats=epsmats)\n",
    "\n",
    "\n",
    "epsinp.no_min_fftgrid = True\n",
    "epsilon = Epsilon.from_data(wfndata=wfndata, wfnqdata=wfnqdata, epsinp=epsinp)\n",
    "\n",
    "calculate_epsilon()"
   ]
  },
  {
   "cell_type": "code",
   "execution_count": 6,
   "metadata": {},
   "outputs": [],
   "source": [
    "from kernel import KernelMtxEl\n",
    "\n",
    "q0val = [0.001, 0.001, 0.001]\n",
    "l_qpts = np.array(epsinp.qpts)\n",
    "l_qpts[0] *= 0\n",
    "qpts = QPoints.from_cryst(wfndata.kpts.recilat, None, *l_qpts)\n"
   ]
  },
  {
   "cell_type": "code",
   "execution_count": 7,
   "metadata": {},
   "outputs": [],
   "source": [
    "kernelclass = KernelMtxEl.from_BGW(\n",
    "    wfndata=wfndata,\n",
    "    epsinp=epsinp,\n",
    "    sigmainp=sigmainp,\n",
    "    l_epsmats=epsilon.l_epsinv,\n",
    "    q0val=q0val,\n",
    "    parallel=False,\n",
    "    num_bands_val=1,\n",
    "    num_bands_con=1,\n",
    ")"
   ]
  },
  {
   "cell_type": "code",
   "execution_count": 8,
   "metadata": {},
   "outputs": [],
   "source": [
    "mvc = kernelclass.charge_mtxel.mvc(0)\n",
    "mvvp = kernelclass.charge_mtxel.mvvp(0, 0)\n",
    "mccp = kernelclass.charge_mtxel.mccp(0, 0)\n",
    "\n",
    "mvc = mvc[0, 0, :]\n",
    "mvvp = mvvp[0, 0, :]\n",
    "mccp = mccp[0, 0, :]"
   ]
  },
  {
   "cell_type": "code",
   "execution_count": 9,
   "metadata": {},
   "outputs": [],
   "source": [
    "# # print mvc in rows\n",
    "# for i in range(mvc.shape[0]):\n",
    "#     print(f\"Row {i+1}: {mvc[i]}\")"
   ]
  },
  {
   "cell_type": "code",
   "execution_count": 10,
   "metadata": {},
   "outputs": [],
   "source": [
    "# # print mvvp in rows\n",
    "# for i in range(mvvp.shape[0]):\n",
    "#     print(f\"Row {i+1}: {mvvp[i]}\")"
   ]
  },
  {
   "cell_type": "code",
   "execution_count": 11,
   "metadata": {},
   "outputs": [],
   "source": [
    "# # print mccp in rows\n",
    "# for i in range(mccp.shape[0]):\n",
    "#     print(f\"Row {i+1}: {mccp[i]}\")"
   ]
  },
  {
   "cell_type": "code",
   "execution_count": 12,
   "metadata": {},
   "outputs": [],
   "source": [
    "data = kernelclass.calc_kernel_mtxel()"
   ]
  },
  {
   "cell_type": "code",
   "execution_count": 13,
   "metadata": {},
   "outputs": [
    {
     "name": "stdout",
     "output_type": "stream",
     "text": [
      "The exc kernel is [[[[[[0.39326425+2.77555756e-17j]]]]]]\n",
      "The head kernel is [[[[[[1.-1.89016773e-19j]]]]]]\n",
      "The wings kernel is [[[[[[0.+0.j]]]]]]\n",
      "The body kernel is [[[[[[-0.020828-9.12308222e-09j]]]]]]\n"
     ]
    }
   ],
   "source": [
    "exc = data[\"exc\"]\n",
    "print(f\"The exc kernel is {exc}\")\n",
    "\n",
    "head = data[\"head\"]\n",
    "print(f\"The head kernel is {head}\")\n",
    "\n",
    "wings = data[\"wings\"]\n",
    "print(f\"The wings kernel is {wings}\")\n",
    "\n",
    "body = data[\"body\"]\n",
    "print(f\"The body kernel is {body}\")"
   ]
  },
  {
   "cell_type": "markdown",
   "metadata": {},
   "source": [
    "Calculate $W_{G, G'}(q, 0)$ "
   ]
  },
  {
   "cell_type": "code",
   "execution_count": 14,
   "metadata": {},
   "outputs": [],
   "source": [
    "norm_array = kernelclass.l_gq[0].g_norm2\n",
    "vq0g = np.where(norm_array == 0, 0, 1 / np.where(norm_array == 0, 1, norm_array))\n",
    "sort_order_0 = sort_cryst_like_BGW(\n",
    "    kernelclass.l_gq[0].g_cryst, norm_array\n",
    ")\n",
    "vq0g = vq0g[sort_order_0]\n",
    "\n",
    "# for i, value in enumerate(vq0g):\n",
    "#     print(f\"Row {i+1}: {value}\")"
   ]
  },
  {
   "cell_type": "code",
   "execution_count": 15,
   "metadata": {},
   "outputs": [],
   "source": [
    "i_q = 0\n",
    "epsinv = kernelclass.l_epsmats[i_q]\n",
    "epsinv = np.conjugate(epsinv)\n",
    "    \n",
    "sort_order = sort_cryst_like_BGW(\n",
    "    kernelclass.l_gq_epsinv[i_q].gk_cryst, kernelclass.l_gq_epsinv[i_q].gk_norm2\n",
    ")\n",
    "            \n",
    "# As given in the sigma code, I need to use another sorting.\n",
    "sort_order_QTM = np.argsort(sort_order)\n",
    "\n",
    "# But my matrices, vcoul, etc. are sorted according to BGW.\n",
    "sort_BGW = sort_cryst_like_BGW(\n",
    "    kernelclass.l_gq_epsinv[i_q].g_cryst, kernelclass.l_gq_epsinv[i_q].g_norm2\n",
    ")\n",
    "\n",
    "sort_order_BGW = sort_order_QTM[sort_BGW]\n",
    "\n",
    "epsiloninv = (\n",
    "    reorder_2d_matrix_sorted_gvecs(epsinv, sort_order_BGW)\n",
    ")\n",
    "\n",
    "# # Print epsinv in rows and columns\n",
    "# # Exclude the first row and column\n",
    "# epsiloninv_excluded = epsiloninv[1:, 1:]\n",
    "\n",
    "# # Print the modified epsinv in rows and columns\n",
    "# for row_idx, row in enumerate(epsiloninv_excluded):\n",
    "#     for col_idx, value in enumerate(row):\n",
    "        \n",
    "#         print(f\"Row {row_idx + 2}, Column {col_idx + 2}: {value}\")"
   ]
  },
  {
   "cell_type": "code",
   "execution_count": 16,
   "metadata": {},
   "outputs": [],
   "source": [
    "wcoul = np.zeros((len(mccp), len(mccp)), dtype=complex)\n",
    "wcoul[0, 0] = 1\n",
    "wcoul[0, 1:] = 0\n",
    "wcoul[1:, 0] = 0\n",
    "\n",
    "for i in range(1, len(epsiloninv)):\n",
    "    for j in range(1, len(epsiloninv)):\n",
    "        wcoul[i, j] = epsiloninv[j, i] * vq0g[j]\n",
    "\n",
    "for i in range(len(epsiloninv), len(wcoul)):\n",
    "    wcoul[i, i] = vq0g[i]\n",
    "\n",
    "# # Exclude the first row and column\n",
    "# wcoul_excluded = wcoul[1:15, 1:15]\n",
    "# # Print the modified wcoul in rows and columns\n",
    "# for row_idx, row in enumerate(wcoul_excluded):\n",
    "#     for col_idx, value in enumerate(row):\n",
    "#         print(f\"Row {row_idx + 2}, Column {col_idx + 2}: {value}\")"
   ]
  },
  {
   "cell_type": "code",
   "execution_count": 17,
   "metadata": {},
   "outputs": [],
   "source": [
    "# for row in range(wcoul.shape[0]):\n",
    "#     row_data = []\n",
    "#     for col in range(wcoul.shape[1]):\n",
    "#         row_data.append(f\"{wcoul[row, col]:.7g}\")\n",
    "#     print(\" | \".join(row_data))"
   ]
  },
  {
   "cell_type": "code",
   "execution_count": 18,
   "metadata": {},
   "outputs": [
    {
     "name": "stdout",
     "output_type": "stream",
     "text": [
      "The body kernel is (-0.02083082965554543-2.0935194876814875e-08j)\n"
     ]
    }
   ],
   "source": [
    "wcoul_body = wcoul[1:, 1:]\n",
    "mvvp_body = mvvp[1:]\n",
    "mccp_body = mccp[1:]\n",
    "\n",
    "bodyval = 0\n",
    "for i in range(wcoul_body.shape[0]):\n",
    "    for j in range(wcoul_body.shape[1]):\n",
    "        bodyval += mvvp_body[i] * np.conjugate(wcoul_body[j, i]) * (mccp_body[j])\n",
    "print(f\"The body kernel is {bodyval}\")"
   ]
  },
  {
   "cell_type": "code",
   "execution_count": 19,
   "metadata": {},
   "outputs": [],
   "source": [
    "from kernelv2 import KernelMtxElv2\n",
    "\n",
    "\n",
    "kernelclassv2 = KernelMtxElv2.from_BGW(\n",
    "    wfndata=wfndata,\n",
    "    epsinp=epsinp,\n",
    "    sigmainp=sigmainp,\n",
    "    l_epsmats=epsilon.l_epsinv,\n",
    "    q0val=q0val,\n",
    "    parallel=False,\n",
    "    num_bands_val=1,\n",
    "    num_bands_con=1,\n",
    ")"
   ]
  },
  {
   "cell_type": "code",
   "execution_count": 20,
   "metadata": {},
   "outputs": [
    {
     "name": "stdout",
     "output_type": "stream",
     "text": [
      "The exc kernel is [[[[[[0.39326425+2.77555756e-17j]]]]]]\n",
      "The head kernel is [[[[[[1.-1.89016773e-19j]]]]]]\n",
      "The wings kernel is [[[[[[0.+0.j]]]]]]\n",
      "The body kernel is [[[[[[-0.02083083+1.04335341e-08j]]]]]]\n"
     ]
    }
   ],
   "source": [
    "datav2 = kernelclassv2.kernel_mtxel()\n",
    "\n",
    "excv2 = datav2[\"exc\"]\n",
    "print(f\"The exc kernel is {excv2}\")\n",
    "\n",
    "headv2 = datav2[\"head\"]\n",
    "print(f\"The head kernel is {headv2}\")\n",
    "\n",
    "wingsv2 = datav2[\"wings\"]\n",
    "print(f\"The wings kernel is {wingsv2}\")\n",
    "\n",
    "bodyv2 = datav2[\"body\"]\n",
    "print(f\"The body kernel is {bodyv2}\")"
   ]
  }
 ],
 "metadata": {
  "kernelspec": {
   "display_name": "qtm",
   "language": "python",
   "name": "python3"
  },
  "language_info": {
   "codemirror_mode": {
    "name": "ipython",
    "version": 3
   },
   "file_extension": ".py",
   "mimetype": "text/x-python",
   "name": "python",
   "nbconvert_exporter": "python",
   "pygments_lexer": "ipython3",
   "version": "3.11.10"
  }
 },
 "nbformat": 4,
 "nbformat_minor": 2
}
