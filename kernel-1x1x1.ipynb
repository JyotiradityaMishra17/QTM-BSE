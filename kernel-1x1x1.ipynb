{
 "cells": [
  {
   "cell_type": "code",
   "execution_count": 1,
   "metadata": {},
   "outputs": [],
   "source": [
    "import numpy as np\n",
    "import h5py\n",
    "import sys\n",
    "\n",
    "\n",
    "sys.path.append(\".\")\n",
    "dirname = \"./bgw_files/k-1x1x1/\""
   ]
  },
  {
   "cell_type": "code",
   "execution_count": 2,
   "metadata": {},
   "outputs": [],
   "source": [
    "# epsinp and sigmain data.\n",
    "from qtm.interfaces.bgw.epsinp import Epsinp\n",
    "epsinp = Epsinp.from_epsilon_inp(filename=dirname+'epsilon.inp')\n",
    "\n",
    "from qtm.interfaces.bgw.sigmainp import Sigmainp\n",
    "sigmainp = Sigmainp.from_sigma_inp(filename=dirname+'sigma.inp')"
   ]
  },
  {
   "cell_type": "code",
   "execution_count": 3,
   "metadata": {},
   "outputs": [],
   "source": [
    "from qtm.interfaces.bgw import inp\n",
    "from qtm.interfaces.bgw.wfn2py import wfn2py\n",
    "\n",
    "# Read wfndata\n",
    "wfndata = wfn2py(dirname + \"WFN_co.h5\")\n",
    "wfnqdata = wfn2py(dirname + \"WFNq.h5\")\n",
    "\n",
    "# Read rho\n",
    "rho = inp.read_rho(dirname + \"RHO\")\n",
    "\n",
    "# Read vxc \n",
    "vxc = inp.read_vxc(dirname + \"vxc.dat\") "
   ]
  },
  {
   "cell_type": "code",
   "execution_count": 4,
   "metadata": {},
   "outputs": [
    {
     "name": "stderr",
     "output_type": "stream",
     "text": [
      "Vcoul calculation for qpts: 100%|██████████| 1/1 [00:00<00:00, 3486.54it/s]\n"
     ]
    }
   ],
   "source": [
    "from qtm.gw.core import QPoints\n",
    "from qtm.gw.epsilon import Epsilon\n",
    "\n",
    "epsilon = Epsilon.from_data(wfndata=wfndata, wfnqdata=wfnqdata, epsinp=epsinp)"
   ]
  },
  {
   "cell_type": "code",
   "execution_count": 5,
   "metadata": {},
   "outputs": [
    {
     "name": "stderr",
     "output_type": "stream",
     "text": [
      "Vcoul calculation for qpts: 100%|██████████| 1/1 [00:00<00:00, 5497.12it/s]\n",
      "Epsilon> q-pt index: 100%|██████████| 1/1 [00:00<00:00, 348.45it/s]"
     ]
    },
    {
     "name": "stdout",
     "output_type": "stream",
     "text": [
      "Standard deviation exceeded 1e-16 tolerance: 1.9894890166455426e-15, for i_q:0\n"
     ]
    },
    {
     "name": "stderr",
     "output_type": "stream",
     "text": [
      "\n"
     ]
    }
   ],
   "source": [
    "from tqdm import trange\n",
    "from qtm.gw.core import reorder_2d_matrix_sorted_gvecs, sort_cryst_like_BGW\n",
    "\n",
    "\n",
    "def calculate_epsilon(numq=None, writing=False):\n",
    "    epsmats = []\n",
    "    if numq is None:\n",
    "        numq = epsilon.qpts.numq\n",
    "\n",
    "    for i_q in trange(0, numq, desc=\"Epsilon> q-pt index\"):\n",
    "        # Create map between BGW's sorting order and QTm's sorting order\n",
    "        gkspc = epsilon.l_gq[i_q]\n",
    "        \n",
    "        if i_q == epsilon.qpts.index_q0:\n",
    "            key = gkspc.g_norm2\n",
    "        else:\n",
    "            key = gkspc.gk_norm2\n",
    "\n",
    "\n",
    "        indices_gspace_sorted = sort_cryst_like_BGW(\n",
    "            cryst=gkspc.g_cryst, key_array=key\n",
    "        )\n",
    "\n",
    "        # Calculate matrix elements\n",
    "        M = next(epsilon.matrix_elements(i_q=i_q))\n",
    "\n",
    "        # Calculate polarizability matrix (faster, but not memory-efficient)\n",
    "        chimat = epsilon.polarizability(M)\n",
    "\n",
    "        # Calculate polarizability matrix (memory-efficient)\n",
    "        # chimat = epsilon.polarizability_active(i_q)\n",
    "\n",
    "        # Calculate epsilon inverse matrix\n",
    "        epsinv0 = epsilon.epsilon_inverse(i_q=i_q, polarizability_matrix=chimat, store=True)\n",
    "        epsinv = reorder_2d_matrix_sorted_gvecs(epsinv0, indices_gspace_sorted)\n",
    "\n",
    "        epsilon.l_epsinv[i_q] = epsinv\n",
    "\n",
    "        \n",
    "        # Compare the results with BGW's results\n",
    "        if i_q == epsilon.qpts.index_q0:\n",
    "            epsref = epsilon.read_epsmat(dirname + \"eps0mat.h5\")[0][0, 0]\n",
    "            if writing:\n",
    "                epsilon.write_epsmat(\n",
    "                    filename=\"test/epsilon/eps0mat_qtm.h5\", epsinvmats=[epsinv]\n",
    "                )\n",
    "        else:\n",
    "            epsref = np.array(epsilon.read_epsmat(dirname + \"epsmat.h5\")[i_q - 1][0, 0])\n",
    "            epsmats.append(epsinv)\n",
    "\n",
    "        # Calculate stddev between reference and calculated epsinv matrices\n",
    "        std_eps = np.std(epsref - epsinv) / np.sqrt(np.prod(list(epsinv.shape)))\n",
    "\n",
    "\n",
    "        epstol = 1e-16\n",
    "        if np.abs(std_eps) > epstol:\n",
    "            print(f\"Standard deviation exceeded {epstol} tolerance: {std_eps}, for i_q:{i_q}\")\n",
    "\n",
    "\n",
    "    if writing:\n",
    "        epsilon.write_epsmat(filename=\"test/epsilon/epsmat_qtm.h5\", epsinvmats=epsmats)\n",
    "\n",
    "\n",
    "epsinp.no_min_fftgrid = True\n",
    "epsilon = Epsilon.from_data(wfndata=wfndata, wfnqdata=wfnqdata, epsinp=epsinp)\n",
    "\n",
    "calculate_epsilon()"
   ]
  },
  {
   "cell_type": "code",
   "execution_count": 6,
   "metadata": {},
   "outputs": [],
   "source": [
    "from kernel import KernelMtxEl\n",
    "\n",
    "q0 = [0.001, 0.001, 0.001]\n",
    "l_qpts = np.array(epsinp.qpts)\n",
    "l_qpts[0] *= 0\n",
    "qpts = QPoints.from_cryst(wfndata.kpts.recilat, None, *l_qpts)\n"
   ]
  },
  {
   "cell_type": "code",
   "execution_count": 7,
   "metadata": {},
   "outputs": [],
   "source": [
    "kernelclass = KernelMtxEl.from_BGW(\n",
    "    wfndata=wfndata,\n",
    "    epsinp=epsinp,\n",
    "    sigmainp=sigmainp,\n",
    "    l_epsmats=epsilon.l_epsinv,\n",
    "    q0=q0,\n",
    "    parallel=False,\n",
    "    num_bands_val=1,\n",
    "    num_bands_con=1,\n",
    ")"
   ]
  },
  {
   "cell_type": "code",
   "execution_count": 8,
   "metadata": {},
   "outputs": [
    {
     "name": "stdout",
     "output_type": "stream",
     "text": [
      "The exchange kernel is 0.3932642472+0.0000000000j.\n",
      "\n",
      "The head kernel is 1.0000000000-0.0000000000j.\n",
      "\n",
      "The wings kernel is 0.0000000000+0.0000000000j.\n",
      "\n",
      "The body kernel is -0.0208308297+0.0000000104j.\n",
      "\n"
     ]
    }
   ],
   "source": [
    "data = kernelclass.kernel_mtxel()\n",
    "\n",
    "exc = data[\"exc\"]\n",
    "exc = exc[0, 0, 0, 0, 0, 0]\n",
    "print(f\"The exchange kernel is {exc:.10f}.\\n\")\n",
    "\n",
    "head = data[\"head\"]\n",
    "head = head[0, 0, 0, 0, 0, 0]\n",
    "print(f\"The head kernel is {head:.10f}.\\n\")\n",
    "\n",
    "wings = data[\"wings\"]\n",
    "wings = wings[0, 0, 0, 0, 0, 0]\n",
    "print(f\"The wings kernel is {wings:.10f}.\\n\")\n",
    "\n",
    "body = data[\"body\"]\n",
    "body = body[0, 0, 0, 0, 0, 0]\n",
    "print(f\"The body kernel is {body:.10f}.\\n\")"
   ]
  }
 ],
 "metadata": {
  "kernelspec": {
   "display_name": "qtm",
   "language": "python",
   "name": "python3"
  },
  "language_info": {
   "codemirror_mode": {
    "name": "ipython",
    "version": 3
   },
   "file_extension": ".py",
   "mimetype": "text/x-python",
   "name": "python",
   "nbconvert_exporter": "python",
   "pygments_lexer": "ipython3",
   "version": "3.11.10"
  }
 },
 "nbformat": 4,
 "nbformat_minor": 2
}
