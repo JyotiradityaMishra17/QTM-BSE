{
 "cells": [
  {
   "cell_type": "code",
   "execution_count": 1,
   "metadata": {},
   "outputs": [],
   "source": [
    "import numpy as np\n",
    "import h5py\n",
    "import sys\n",
    "\n",
    "\n",
    "sys.path.append(\".\")\n",
    "dirname = \"./bgw_files/k-1x1x1/\""
   ]
  },
  {
   "cell_type": "code",
   "execution_count": 2,
   "metadata": {},
   "outputs": [],
   "source": [
    "# epsinp and sigmain data.\n",
    "from qtm.interfaces.bgw.epsinp import Epsinp\n",
    "epsinp = Epsinp.from_epsilon_inp(filename=dirname+'epsilon.inp')\n",
    "\n",
    "from qtm.interfaces.bgw.sigmainp import Sigmainp\n",
    "sigmainp = Sigmainp.from_sigma_inp(filename=dirname+'sigma.inp')"
   ]
  },
  {
   "cell_type": "code",
   "execution_count": 3,
   "metadata": {},
   "outputs": [],
   "source": [
    "from qtm.interfaces.bgw import inp\n",
    "from qtm.interfaces.bgw.wfn2py import wfn2py\n",
    "\n",
    "# Read wfndata\n",
    "wfndata = wfn2py(dirname + \"WFN_co.h5\")\n",
    "wfnqdata = wfn2py(dirname + \"WFNq.h5\")\n",
    "\n",
    "# Read rho\n",
    "rho = inp.read_rho(dirname + \"RHO\")\n",
    "\n",
    "# Read vxc \n",
    "vxc = inp.read_vxc(dirname + \"vxc.dat\") "
   ]
  },
  {
   "cell_type": "code",
   "execution_count": 4,
   "metadata": {},
   "outputs": [
    {
     "name": "stderr",
     "output_type": "stream",
     "text": [
      "Vcoul calculation for qpts: 100%|██████████| 1/1 [00:00<00:00, 5966.29it/s]\n"
     ]
    }
   ],
   "source": [
    "from qtm.gw.core import QPoints\n",
    "from qtm.gw.epsilon import Epsilon\n",
    "\n",
    "epsilon = Epsilon.from_data(wfndata=wfndata, wfnqdata=wfnqdata, epsinp=epsinp)"
   ]
  },
  {
   "cell_type": "code",
   "execution_count": 5,
   "metadata": {},
   "outputs": [
    {
     "name": "stderr",
     "output_type": "stream",
     "text": [
      "Vcoul calculation for qpts: 100%|██████████| 1/1 [00:00<00:00, 5940.94it/s]\n",
      "Epsilon> q-pt index: 100%|██████████| 1/1 [00:00<00:00, 372.17it/s]"
     ]
    },
    {
     "name": "stdout",
     "output_type": "stream",
     "text": [
      "Standard deviation exceeded 1e-16 tolerance: 1.9894890166455426e-15, for i_q:0\n"
     ]
    },
    {
     "name": "stderr",
     "output_type": "stream",
     "text": [
      "\n"
     ]
    }
   ],
   "source": [
    "from tqdm import trange\n",
    "from qtm.gw.core import reorder_2d_matrix_sorted_gvecs, sort_cryst_like_BGW\n",
    "\n",
    "\n",
    "def calculate_epsilon(numq=None, writing=False):\n",
    "    epsmats = []\n",
    "    if numq is None:\n",
    "        numq = epsilon.qpts.numq\n",
    "\n",
    "    for i_q in trange(0, numq, desc=\"Epsilon> q-pt index\"):\n",
    "        # Create map between BGW's sorting order and QTm's sorting order\n",
    "        gkspc = epsilon.l_gq[i_q]\n",
    "        \n",
    "        # if i_q == epsilon.qpts.index_q0:\n",
    "        #     key = gkspc.g_norm2\n",
    "        # else:\n",
    "        #     key = gkspc.gk_norm2\n",
    "\n",
    "        key = gkspc.gk_norm2\n",
    "\n",
    "        indices_gspace_sorted = sort_cryst_like_BGW(\n",
    "            cryst=gkspc.g_cryst, key_array=key\n",
    "        )\n",
    "       \n",
    "\n",
    "        # Calculate matrix elements\n",
    "        M = next(epsilon.matrix_elements(i_q=i_q))\n",
    "\n",
    "        # Calculate polarizability matrix (faster, but not memory-efficient)\n",
    "        chimat = epsilon.polarizability(M)\n",
    "\n",
    "        # Calculate polarizability matrix (memory-efficient)\n",
    "        # chimat = epsilon.polarizability_active(i_q)\n",
    "\n",
    "        # Calculate epsilon inverse matrix\n",
    "        epsinv0 = epsilon.epsilon_inverse(i_q=i_q, polarizability_matrix=chimat, store=True)\n",
    "        epsinv = reorder_2d_matrix_sorted_gvecs(epsinv0, indices_gspace_sorted)\n",
    "\n",
    "        epsilon.l_epsinv[i_q] = epsinv\n",
    "\n",
    "        \n",
    "        # Compare the results with BGW's results\n",
    "        if i_q == epsilon.qpts.index_q0:\n",
    "            epsref = epsilon.read_epsmat(dirname + \"eps0mat.h5\")[0][0, 0]\n",
    "            if writing:\n",
    "                epsilon.write_epsmat(\n",
    "                    filename=\"test/epsilon/eps0mat_qtm.h5\", epsinvmats=[epsinv]\n",
    "                )\n",
    "        else:\n",
    "            epsref = np.array(epsilon.read_epsmat(dirname + \"epsmat.h5\")[i_q - 1][0, 0])\n",
    "            epsmats.append(epsinv)\n",
    "\n",
    "        # Calculate stddev between reference and calculated epsinv matrices\n",
    "        std_eps = np.std(epsref - epsinv) / np.sqrt(np.prod(list(epsinv.shape)))\n",
    "\n",
    "\n",
    "        epstol = 1e-16\n",
    "        if np.abs(std_eps) > epstol:\n",
    "            print(f\"Standard deviation exceeded {epstol} tolerance: {std_eps}, for i_q:{i_q}\")\n",
    "\n",
    "\n",
    "    if writing:\n",
    "        epsilon.write_epsmat(filename=\"test/epsilon/epsmat_qtm.h5\", epsinvmats=epsmats)\n",
    "\n",
    "\n",
    "epsinp.no_min_fftgrid = True\n",
    "epsilon = Epsilon.from_data(wfndata=wfndata, wfnqdata=wfnqdata, epsinp=epsinp)\n",
    "\n",
    "calculate_epsilon()"
   ]
  },
  {
   "cell_type": "code",
   "execution_count": 6,
   "metadata": {},
   "outputs": [],
   "source": [
    "from kernel import KernelMtxEl\n",
    "\n",
    "q0val = [0.001, 0.001, 0.001]\n",
    "l_qpts = np.array(epsinp.qpts)\n",
    "l_qpts[0] *= 0\n",
    "qpts = QPoints.from_cryst(wfndata.kpts.recilat, None, *l_qpts)\n"
   ]
  },
  {
   "cell_type": "code",
   "execution_count": 7,
   "metadata": {},
   "outputs": [],
   "source": [
    "kernelclass = KernelMtxEl.from_BGW(\n",
    "    wfndata=wfndata,\n",
    "    epsinp=epsinp,\n",
    "    sigmainp=sigmainp,\n",
    "    l_epsmats=epsilon.l_epsinv,\n",
    "    q0val=q0val,\n",
    "    parallel=False,\n",
    "    num_bands_val=1,\n",
    "    num_bands_con=1,\n",
    ")"
   ]
  },
  {
   "cell_type": "code",
   "execution_count": 8,
   "metadata": {},
   "outputs": [],
   "source": [
    "mvc = kernelclass.charge_mtxel.mvc(0)\n",
    "mvvp = kernelclass.charge_mtxel.mvvp(0, 0)\n",
    "mccp = kernelclass.charge_mtxel.mccp(0, 0)\n",
    "\n",
    "mvc = mvc[0, 0, :]\n",
    "mvvp = mvvp[0, 0, :]\n",
    "mccp = mccp[0, 0, :]"
   ]
  },
  {
   "cell_type": "code",
   "execution_count": 9,
   "metadata": {},
   "outputs": [],
   "source": [
    "# # print mvc in rows\n",
    "# for i in range(mvc.shape[0]):\n",
    "#     print(f\"Row {i+1}: {mvc[i]}\")"
   ]
  },
  {
   "cell_type": "code",
   "execution_count": 10,
   "metadata": {},
   "outputs": [],
   "source": [
    "# # print mvvp in rows\n",
    "# for i in range(mvvp.shape[0]):\n",
    "#     print(f\"Row {i+1}: {mvvp[i]}\")"
   ]
  },
  {
   "cell_type": "code",
   "execution_count": 11,
   "metadata": {},
   "outputs": [],
   "source": [
    "# # print mccp in rows\n",
    "# for i in range(mccp.shape[0]):\n",
    "#     print(f\"Row {i+1}: {mccp[i]}\")"
   ]
  },
  {
   "cell_type": "code",
   "execution_count": 12,
   "metadata": {},
   "outputs": [],
   "source": [
    "data = kernelclass.calc_kernel_mtxel()"
   ]
  },
  {
   "cell_type": "code",
   "execution_count": 13,
   "metadata": {},
   "outputs": [
    {
     "name": "stdout",
     "output_type": "stream",
     "text": [
      "The exc kernel is [[[[[[0.39326425+2.77555756e-17j]]]]]]\n",
      "The head kernel is [[[[[[1.-1.89016773e-19j]]]]]]\n",
      "The wings kernel is [[[[[[0.+0.j]]]]]]\n",
      "The body kernel is [[[[[[-0.020828-9.12308222e-09j]]]]]]\n"
     ]
    }
   ],
   "source": [
    "exc = data[\"exc\"]\n",
    "print(f\"The exc kernel is {exc}\")\n",
    "\n",
    "head = data[\"head\"]\n",
    "print(f\"The head kernel is {head}\")\n",
    "\n",
    "wings = data[\"wings\"]\n",
    "print(f\"The wings kernel is {wings}\")\n",
    "\n",
    "body = data[\"body\"]\n",
    "print(f\"The body kernel is {body}\")"
   ]
  },
  {
   "cell_type": "markdown",
   "metadata": {},
   "source": [
    "Calculate $W_{G, G'}(q, 0)$ "
   ]
  },
  {
   "cell_type": "code",
   "execution_count": 14,
   "metadata": {},
   "outputs": [],
   "source": [
    "norm_array = kernelclass.l_gq[0].g_norm2\n",
    "vq0g = np.where(norm_array == 0, 0, 1 / np.where(norm_array == 0, 1, norm_array))\n",
    "sort_order_0 = sort_cryst_like_BGW(\n",
    "    kernelclass.l_gq[0].g_cryst, norm_array\n",
    ")\n",
    "vq0g = vq0g[sort_order_0]\n",
    "\n",
    "# for i, value in enumerate(vq0g):\n",
    "#     print(f\"Row {i+1}: {value}\")"
   ]
  },
  {
   "cell_type": "code",
   "execution_count": 15,
   "metadata": {},
   "outputs": [],
   "source": [
    "i_q = 0\n",
    "epsinv = kernelclass.l_epsmats[i_q]\n",
    "epsinv = np.conjugate(epsinv)\n",
    "    \n",
    "sort_order = sort_cryst_like_BGW(\n",
    "    kernelclass.l_gq_epsinv[i_q].gk_cryst, kernelclass.l_gq_epsinv[i_q].gk_norm2\n",
    ")\n",
    "            \n",
    "# As given in the sigma code, I need to use another sorting.\n",
    "sort_order_QTM = np.argsort(sort_order)\n",
    "\n",
    "# But my matrices, vcoul, etc. are sorted according to BGW.\n",
    "sort_BGW = sort_cryst_like_BGW(\n",
    "    kernelclass.l_gq_epsinv[i_q].g_cryst, kernelclass.l_gq_epsinv[i_q].g_norm2\n",
    ")\n",
    "\n",
    "sort_order_BGW = sort_order_QTM[sort_BGW]\n",
    "\n",
    "epsiloninv = (\n",
    "    reorder_2d_matrix_sorted_gvecs(epsinv, sort_order_BGW)\n",
    ")\n",
    "\n",
    "# # Print epsinv in rows and columns\n",
    "# # Exclude the first row and column\n",
    "# epsiloninv_excluded = epsiloninv[1:, 1:]\n",
    "\n",
    "# # Print the modified epsinv in rows and columns\n",
    "# for row_idx, row in enumerate(epsiloninv_excluded):\n",
    "#     for col_idx, value in enumerate(row):\n",
    "        \n",
    "#         print(f\"Row {row_idx + 2}, Column {col_idx + 2}: {value}\")"
   ]
  },
  {
   "cell_type": "code",
   "execution_count": 16,
   "metadata": {},
   "outputs": [
    {
     "name": "stdout",
     "output_type": "stream",
     "text": [
      "Row 2, Column 2: (0.7231673221062815+5.952640332278535e-21j)\n",
      "Row 2, Column 3: (-0.00938159571519793+1.9243440210863934e-06j)\n",
      "Row 2, Column 4: (-0.009388520143503689+2.7461936405165256e-06j)\n",
      "Row 2, Column 5: (-0.009393546608738049-1.5928194270633177e-06j)\n",
      "Row 2, Column 6: (0.009574931881070912+2.1666085261531803e-07j)\n",
      "Row 2, Column 7: (0.009571409418301596-4.9322776734594835e-08j)\n",
      "Row 2, Column 8: (0.009563225678594705+1.5829620818967005e-06j)\n",
      "Row 2, Column 9: (0.15531890453231015+1.199961795676428e-06j)\n",
      "Row 2, Column 10: (-0.03600521229523887-9.766019794058247e-07j)\n",
      "Row 2, Column 11: (-0.036005327138782565+2.2465886033250723e-06j)\n",
      "Row 2, Column 12: (-0.0360055912282337+1.1521709666044322e-06j)\n",
      "Row 2, Column 13: (0.03611918226109624+2.8220523925712743e-06j)\n",
      "Row 2, Column 14: (0.03611884586119633-4.831680153487085e-07j)\n",
      "Row 2, Column 15: (0.03611881479449673-1.861305826011002e-07j)\n",
      "Row 3, Column 2: (-0.009369078588677105-1.921776519958363e-06j)\n",
      "Row 3, Column 3: (0.692245539839088+9.301000519185214e-23j)\n",
      "Row 3, Column 4: (0.0060613283089858225-4.62678602987933e-07j)\n",
      "Row 3, Column 5: (0.006065829927766291+2.320432778904385e-07j)\n",
      "Row 3, Column 6: (-0.006115219849233929-1.0346336419154363e-06j)\n",
      "Row 3, Column 7: (-0.00611120426804369+2.3137753245441425e-06j)\n",
      "Row 3, Column 8: (0.1860175489638582+1.9062341548830795e-07j)\n",
      "Row 3, Column 9: (0.009246806560961968-3.3808631521673366e-07j)\n",
      "Row 3, Column 10: (-0.03606409817620759-3.8632357406126804e-07j)\n",
      "Row 3, Column 11: (-0.03606476603460283+6.48548777374881e-07j)\n",
      "Row 3, Column 12: (-0.03643514680970635+9.43019516127362e-07j)\n",
      "Row 3, Column 13: (0.03560725687596036-6.435410168654127e-07j)\n",
      "Row 3, Column 14: (0.03577357963809728+8.704549405365671e-07j)\n",
      "Row 3, Column 15: (0.035772828429227084+1.6356717785584194e-07j)\n",
      "Row 4, Column 2: (-0.009375993778261848-2.7425296099728374e-06j)\n",
      "Row 4, Column 3: (0.006061328308985826+4.62678602987933e-07j)\n",
      "Row 4, Column 4: (0.6922470426895921+2.790300155755564e-22j)\n",
      "Row 4, Column 5: (0.006070830145459449+6.607487517270381e-08j)\n",
      "Row 4, Column 6: (-0.006121143010759464+3.370946564340442e-07j)\n",
      "Row 4, Column 7: (0.1860160600801895-9.077402467814496e-07j)\n",
      "Row 4, Column 8: (-0.006110856241917175+1.4527357967958452e-06j)\n",
      "Row 4, Column 9: (0.009252866712846237+8.365453663855473e-08j)\n",
      "Row 4, Column 10: (-0.03606390750883321-1.300339233265858e-06j)\n",
      "Row 4, Column 11: (-0.03643460444095805+7.374124816535226e-08j)\n",
      "Row 4, Column 12: (-0.03606514693435557+6.449739365397737e-07j)\n",
      "Row 4, Column 13: (0.035774082158658335+8.692646995706635e-07j)\n",
      "Row 4, Column 14: (0.035606725673234405-2.490226835433362e-07j)\n",
      "Row 4, Column 15: (0.035772800732580275-1.8003628575637546e-06j)\n",
      "Row 5, Column 2: (-0.009381013537078356+1.590694253169808e-06j)\n",
      "Row 5, Column 3: (0.0060658299277663-2.3204327789043828e-07j)\n",
      "Row 5, Column 4: (0.00607083014545945-6.607487517270381e-08j)\n",
      "Row 5, Column 5: (0.6922485188147591+2.5577751427759336e-22j)\n",
      "Row 5, Column 6: (0.1860148048160738+3.5437358812236895e-07j)\n",
      "Row 5, Column 7: (-0.0061217565168139865+1.8362995092322334e-07j)\n",
      "Row 5, Column 8: (-0.006115373973371874-1.071171722456645e-06j)\n",
      "Row 5, Column 9: (0.009258968353076616-2.603330090162527e-07j)\n",
      "Row 5, Column 10: (-0.03643396986575922+1.5532366654994342e-07j)\n",
      "Row 5, Column 11: (-0.0360640533850082-9.578161668373187e-07j)\n",
      "Row 5, Column 12: (-0.036064830240297156-3.336403462399298e-08j)\n",
      "Row 5, Column 13: (0.03577383254559651+6.666731241977583e-07j)\n",
      "Row 5, Column 14: (0.0357732707236063-1.238305580437491e-06j)\n",
      "Row 5, Column 15: (0.03560589728667464-1.0020673221171486e-06j)\n",
      "Row 6, Column 2: (0.009549415765647806-2.1608347583690298e-07j)\n",
      "Row 6, Column 3: (-0.006107071663040595+1.0332550508321962e-06j)\n",
      "Row 6, Column 4: (-0.006112986932286836-3.3664549678106047e-07j)\n",
      "Row 6, Column 5: (0.18576695056034387-3.53901405265627e-07j)\n",
      "Row 6, Column 6: (0.6928719034647159+0j)\n",
      "Row 6, Column 7: (0.0061650510744241365+2.096850010436265e-07j)\n",
      "Row 6, Column 8: (0.006157749856789466+2.540945518745956e-07j)\n",
      "Row 6, Column 9: (-0.009428391564261042-1.1492722250710727e-06j)\n",
      "Row 6, Column 10: (0.03616116915356343+6.778790904570435e-07j)\n",
      "Row 6, Column 11: (0.03608561801445567+1.2416534895259944e-06j)\n",
      "Row 6, Column 12: (0.03608646189096158-1.4361570882718841e-06j)\n",
      "Row 6, Column 13: (-0.035803221230115166+7.77525733058777e-07j)\n",
      "Row 6, Column 14: (-0.03580260160149925+9.284949835976527e-07j)\n",
      "Row 6, Column 15: (-0.035328935766138644+1.26989067775274e-07j)\n",
      "Row 7, Column 2: (0.00954590268984518+4.9191337087841875e-08j)\n",
      "Row 7, Column 3: (-0.00610306143238623-2.31069234917797e-06j)\n",
      "Row 7, Column 4: (0.18576820415189077+9.065307340037729e-07j)\n",
      "Row 7, Column 5: (-0.006113599620879087-1.8338527435105104e-07j)\n",
      "Row 7, Column 6: (0.0061650510744241434-2.0968500104362674e-07j)\n",
      "Row 7, Column 7: (0.6928708550810719-4.650500259592607e-23j)\n",
      "Row 7, Column 8: (0.006153715017409278+3.956915502984516e-07j)\n",
      "Row 7, Column 9: (-0.009423790279653765+2.6127303341688426e-06j)\n",
      "Row 7, Column 10: (0.03608541007573643+1.4640337095513152e-06j)\n",
      "Row 7, Column 11: (0.03616186447882721+2.3021992837016598e-07j)\n",
      "Row 7, Column 12: (0.036086808798250894-1.62843642812445e-06j)\n",
      "Row 7, Column 13: (-0.0358035152530274+8.869906214823912e-08j)\n",
      "Row 7, Column 14: (-0.03532984678545886-2.9850321887788353e-08j)\n",
      "Row 7, Column 15: (-0.035802089720991394+1.686136900000542e-06j)\n",
      "Row 8, Column 2: (0.009537740758883213-1.5787436661738722e-06j)\n",
      "Row 8, Column 3: (0.1857696910517058-1.9036942051829855e-07j)\n",
      "Row 8, Column 4: (-0.006102713869984952-1.4508001081282496e-06j)\n",
      "Row 8, Column 5: (-0.00610722558181681+1.0697444464379922e-06j)\n",
      "Row 8, Column 6: (0.006157749856789459-2.5409455187459425e-07j)\n",
      "Row 8, Column 7: (0.006153715017409279-3.956915502984512e-07j)\n",
      "Row 8, Column 8: (0.6928694022235085-7.440800415348171e-22j)\n",
      "Row 8, Column 9: (-0.009416488115560428+3.8492737083763084e-06j)\n",
      "Row 8, Column 10: (0.03608594171541826-7.239644413454327e-07j)\n",
      "Row 8, Column 11: (0.03608626541893461-9.958677481927205e-07j)\n",
      "Row 8, Column 12: (0.0361624462580234-1.0574244658017269e-07j)\n",
      "Row 8, Column 13: (-0.035330400052229545-1.764795527073315e-07j)\n",
      "Row 8, Column 14: (-0.0358028419897509-5.251375350779231e-07j)\n",
      "Row 8, Column 15: (-0.035802432816897906+1.0148465659429442e-06j)\n",
      "Row 9, Column 2: (0.15469886960407228-1.1951715338077276e-06j)\n",
      "Row 9, Column 3: (0.009222197652558484+3.3718655213541405e-07j)\n",
      "Row 9, Column 4: (0.009228241676310133-8.343190336337099e-08j)\n",
      "Row 9, Column 5: (0.009234327077993258+2.59640174021701e-07j)\n",
      "Row 9, Column 6: (-0.009415845480222892+1.1477429222392797e-06j)\n",
      "Row 9, Column 7: (-0.009411250318410029-2.6092536505671766e-06j)\n",
      "Row 9, Column 8: (-0.009403957871092255-3.844151592785111e-06j)\n",
      "Row 9, Column 9: (0.7237236759333506-5.952640332278535e-21j)\n",
      "Row 9, Column 10: (0.03577994535163004+1.4813507169660672e-06j)\n",
      "Row 9, Column 11: (0.035779919771012095-9.539244682107044e-07j)\n",
      "Row 9, Column 12: (0.03578020725455582-2.020323728791635e-06j)\n",
      "Row 9, Column 13: (-0.03589589165753138-1.926654731027294e-06j)\n",
      "Row 9, Column 14: (-0.035895548121772564-7.629719957886238e-07j)\n",
      "Row 9, Column 15: (-0.035895637193055115-3.3138375217005594e-07j)\n",
      "Row 10, Column 2: (-0.03596918007905471+9.756246449754826e-07j)\n",
      "Row 10, Column 3: (-0.03607614059167452+3.864525740701073e-07j)\n",
      "Row 10, Column 4: (-0.03607594986063309+1.3007734386414764e-06j)\n",
      "Row 10, Column 5: (-0.03644613578767108-1.5537553176269085e-07j)\n",
      "Row 10, Column 6: (0.03622150710180644-6.790101886607909e-07j)\n",
      "Row 10, Column 7: (0.036145621613594345-1.4664765727734023e-06j)\n",
      "Row 10, Column 8: (0.036146154140361667+7.251724368282702e-07j)\n",
      "Row 10, Column 9: (0.03588740150823575-1.4857995849860143e-06j)\n",
      "Row 10, Column 10: (0.4753191385150662-8.719687986736138e-23j)\n",
      "Row 10, Column 11: (0.045480596650202765-4.294691837923901e-08j)\n",
      "Row 10, Column 12: (0.04548027543607339+2.976327479787266e-07j)\n",
      "Row 10, Column 13: (-0.045388365639337354+2.5053600594437337e-07j)\n",
      "Row 10, Column 14: (-0.04538840831997421-1.2422865702311703e-07j)\n",
      "Row 10, Column 15: (0.1823868085859173+6.654957363737148e-08j)\n",
      "Row 11, Column 2: (-0.03596929480766868-2.2443403297815598e-06j)\n",
      "Row 11, Column 3: (-0.03607680867307904-6.487653388369077e-07j)\n",
      "Row 11, Column 4: (-0.036446770574765336-7.376587162170729e-08j)\n",
      "Row 11, Column 5: (-0.03607609578551857+9.581359979382014e-07j)\n",
      "Row 11, Column 6: (0.03614582989927683-1.2437252926712017e-06j)\n",
      "Row 11, Column 7: (0.03622220358727881-2.306040696589481e-07j)\n",
      "Row 11, Column 8: (0.036146478384004505+9.975294371827015e-07j)\n",
      "Row 11, Column 9: (0.03588737585079278+9.567893428224042e-07j)\n",
      "Row 11, Column 10: (0.04548059665020272+4.294691837923741e-08j)\n",
      "Row 11, Column 11: (0.4753189732405501+1.395150077877782e-22j)\n",
      "Row 11, Column 12: (0.04548032704460464+3.151980165426297e-07j)\n",
      "Row 11, Column 13: (-0.045388296890105546+1.5984996013364222e-07j)\n",
      "Row 11, Column 14: (0.1823869295488293-4.594901502620309e-07j)\n",
      "Row 11, Column 15: (-0.045388597894591445-2.0754911798380712e-08j)\n",
      "Row 12, Column 2: (-0.03596955863283228-1.1510179315102493e-06j)\n",
      "Row 12, Column 3: (-0.03644731312461977-9.433344063750294e-07j)\n",
      "Row 12, Column 4: (-0.036077189700020655-6.45189304301674e-07j)\n",
      "Row 12, Column 5: (-0.036076872900212734+3.3375175442338e-08j)\n",
      "Row 12, Column 6: (0.036146675183861554+1.4385534370097505e-06j)\n",
      "Row 12, Column 7: (0.03614702266999485+1.6311536110921776e-06j)\n",
      "Row 12, Column 8: (0.036222786337222465+1.0591888673457521e-07j)\n",
      "Row 12, Column 9: (0.03588766419772175+2.0263912680475442e-06j)\n",
      "Row 12, Column 10: (0.04548027543607338-2.97632747978727e-07j)\n",
      "Row 12, Column 11: (0.04548032704460463-3.151980165426306e-07j)\n",
      "Row 12, Column 12: (0.47531889479301376+3.0518907953576483e-23j)\n",
      "Row 12, Column 13: (0.18238714793760652+1.931533900795589e-06j)\n",
      "Row 12, Column 14: (-0.04538818242981767+1.6654750792022822e-07j)\n",
      "Row 12, Column 15: (-0.045388270404012214+2.8017898623961883e-07j)\n",
      "Row 13, Column 2: (0.03601094206548429-2.8135954042377315e-06j)\n",
      "Row 13, Column 3: (0.03554797967131058+6.424696815280634e-07j)\n",
      "Row 13, Column 4: (0.035714527231507795-8.678175905818753e-07j)\n",
      "Row 13, Column 5: (0.0357142780339895-6.655632796692895e-07j)\n",
      "Row 13, Column 6: (-0.035791307696312724-7.772670111118459e-07j)\n",
      "Row 13, Column 7: (-0.03579160162138871-8.86695475057342e-08j)\n",
      "Row 13, Column 8: (-0.03531864384983167+1.7642082907732355e-07j)\n",
      "Row 13, Column 9: (-0.03593176062729034+1.9285799407683585e-06j)\n",
      "Row 13, Column 10: (-0.04529767966205043-2.5003543487897884e-07j)\n",
      "Row 13, Column 11: (-0.04529761105017969-1.5953057983321205e-07j)\n",
      "Row 13, Column 12: (0.1820227383246515-1.927674695094104e-06j)\n",
      "Row 13, Column 13: (0.47791125865228873-5.580600311511128e-22j)\n",
      "Row 13, Column 14: (0.04521105841699215+3.1522855901402185e-07j)\n",
      "Row 13, Column 15: (0.04521126913276283+3.275798547411654e-07j)\n",
      "Row 14, Column 2: (0.0360106066736911+4.817200811148508e-07j)\n",
      "Row 14, Column 3: (0.03571402554751819-8.690058500933358e-07j)\n",
      "Row 14, Column 4: (0.035547449352904666+2.4860812286470085e-07j)\n",
      "Row 14, Column 5: (0.035713717147292816+1.2362441103959687e-06j)\n",
      "Row 14, Column 6: (-0.035790688273878435-9.281860265822649e-07j)\n",
      "Row 14, Column 7: (-0.03531809076716071+2.984038918322718e-08j)\n",
      "Row 14, Column 8: (-0.03579092858214081+5.249627953880255e-07j)\n",
      "Row 14, Column 9: (-0.03593141674825339+7.637343955558447e-07j)\n",
      "Row 14, Column 10: (-0.04529772225741137+1.2398044810414658e-07j)\n",
      "Row 14, Column 11: (0.1820225203722152+4.585720887116035e-07j)\n",
      "Row 14, Column 12: (-0.04529749681858349-1.6621474591596408e-07j)\n",
      "Row 14, Column 13: (0.04521105841699215-3.1522855901402344e-07j)\n",
      "Row 14, Column 14: (0.47791161531362125-4.1854502336333457e-22j)\n",
      "Row 14, Column 15: (0.04521131751450506-9.17698424797831e-08j)\n",
      "Row 15, Column 2: (0.03601057570009065+1.8557279559128992e-07j)\n",
      "Row 15, Column 3: (0.035713275589223464-1.6329487928733683e-07j)\n",
      "Row 15, Column 4: (0.03571324793868464+1.797365702294998e-06j)\n",
      "Row 15, Column 5: (0.035546622345402+1.0003991298738387e-06j)\n",
      "Row 15, Column 6: (-0.035317180050982486-1.2694681212062822e-07j)\n",
      "Row 15, Column 7: (-0.03579017656369898-1.6855758373848453e-06j)\n",
      "Row 15, Column 8: (-0.03579051954544023-1.0145088754097385e-06j)\n",
      "Row 15, Column 9: (-0.03593150590854046+3.3171488738459805e-07j)\n",
      "Row 15, Column 10: (0.18202239965098713-6.641660755590352e-08j)\n",
      "Row 15, Column 11: (-0.045297911453258455+2.0713443474208835e-08j)\n",
      "Row 15, Column 12: (-0.04529758461700556-2.796191884847428e-07j)\n",
      "Row 15, Column 13: (0.04521126913276283-3.2757985474116577e-07j)\n",
      "Row 15, Column 14: (0.04521131751450506+9.176984247978224e-08j)\n",
      "Row 15, Column 15: (0.4779116837035936-2.790300155755564e-22j)\n"
     ]
    }
   ],
   "source": [
    "wcoul = np.zeros((len(mccp), len(mccp)), dtype=complex)\n",
    "wcoul[0, 0] = 1\n",
    "wcoul[0, 1:] = 0\n",
    "wcoul[1:, 0] = 0\n",
    "\n",
    "for i in range(1, len(epsiloninv)):\n",
    "    for j in range(1, len(epsiloninv)):\n",
    "        wcoul[i, j] = epsiloninv[j, i] * vq0g[j]\n",
    "\n",
    "for i in range(len(epsiloninv), len(wcoul)):\n",
    "    wcoul[i, i] = vq0g[i]\n",
    "\n",
    "# Exclude the first row and column\n",
    "wcoul_excluded = wcoul[1:15, 1:15]\n",
    "# Print the modified wcoul in rows and columns\n",
    "for row_idx, row in enumerate(wcoul_excluded):\n",
    "    for col_idx, value in enumerate(row):\n",
    "        print(f\"Row {row_idx + 2}, Column {col_idx + 2}: {value}\")"
   ]
  },
  {
   "cell_type": "code",
   "execution_count": 17,
   "metadata": {},
   "outputs": [
    {
     "name": "stdout",
     "output_type": "stream",
     "text": [
      "1+0j | 0+0j | 0+0j | 0+0j | 0+0j | 0+0j | 0+0j | 0+0j | 0+0j | 0+0j | 0+0j | 0+0j | 0+0j | 0+0j | 0+0j | 0+0j | 0+0j | 0+0j | 0+0j | 0+0j | 0+0j | 0+0j | 0+0j | 0+0j | 0+0j | 0+0j | 0+0j\n",
      "0+0j | 0.7231673+5.95264e-21j | -0.009381596+1.924344e-06j | -0.00938852+2.746194e-06j | -0.009393547-1.592819e-06j | 0.009574932+2.166609e-07j | 0.009571409-4.932278e-08j | 0.009563226+1.582962e-06j | 0.1553189+1.199962e-06j | -0.03600521-9.76602e-07j | -0.03600533+2.246589e-06j | -0.03600559+1.152171e-06j | 0.03611918+2.822052e-06j | 0.03611885-4.83168e-07j | 0.03611881-1.861306e-07j | 0+0j | 0+0j | 0+0j | 0+0j | 0+0j | 0+0j | 0+0j | 0+0j | 0+0j | 0+0j | 0+0j | 0+0j\n",
      "0+0j | -0.009369079-1.921777e-06j | 0.6922455+9.301001e-23j | 0.006061328-4.626786e-07j | 0.00606583+2.320433e-07j | -0.00611522-1.034634e-06j | -0.006111204+2.313775e-06j | 0.1860175+1.906234e-07j | 0.009246807-3.380863e-07j | -0.0360641-3.863236e-07j | -0.03606477+6.485488e-07j | -0.03643515+9.430195e-07j | 0.03560726-6.43541e-07j | 0.03577358+8.704549e-07j | 0.03577283+1.635672e-07j | 0+0j | 0+0j | 0+0j | 0+0j | 0+0j | 0+0j | 0+0j | 0+0j | 0+0j | 0+0j | 0+0j | 0+0j\n",
      "0+0j | -0.009375994-2.74253e-06j | 0.006061328+4.626786e-07j | 0.692247+2.7903e-22j | 0.00607083+6.607488e-08j | -0.006121143+3.370947e-07j | 0.1860161-9.077402e-07j | -0.006110856+1.452736e-06j | 0.009252867+8.365454e-08j | -0.03606391-1.300339e-06j | -0.0364346+7.374125e-08j | -0.03606515+6.449739e-07j | 0.03577408+8.692647e-07j | 0.03560673-2.490227e-07j | 0.0357728-1.800363e-06j | 0+0j | 0+0j | 0+0j | 0+0j | 0+0j | 0+0j | 0+0j | 0+0j | 0+0j | 0+0j | 0+0j | 0+0j\n",
      "0+0j | -0.009381014+1.590694e-06j | 0.00606583-2.320433e-07j | 0.00607083-6.607488e-08j | 0.6922485+2.557775e-22j | 0.1860148+3.543736e-07j | -0.006121757+1.8363e-07j | -0.006115374-1.071172e-06j | 0.009258968-2.60333e-07j | -0.03643397+1.553237e-07j | -0.03606405-9.578162e-07j | -0.03606483-3.336403e-08j | 0.03577383+6.666731e-07j | 0.03577327-1.238306e-06j | 0.0356059-1.002067e-06j | 0+0j | 0+0j | 0+0j | 0+0j | 0+0j | 0+0j | 0+0j | 0+0j | 0+0j | 0+0j | 0+0j | 0+0j\n",
      "0+0j | 0.009549416-2.160835e-07j | -0.006107072+1.033255e-06j | -0.006112987-3.366455e-07j | 0.185767-3.539014e-07j | 0.6928719+0j | 0.006165051+2.09685e-07j | 0.00615775+2.540946e-07j | -0.009428392-1.149272e-06j | 0.03616117+6.778791e-07j | 0.03608562+1.241653e-06j | 0.03608646-1.436157e-06j | -0.03580322+7.775257e-07j | -0.0358026+9.28495e-07j | -0.03532894+1.269891e-07j | 0+0j | 0+0j | 0+0j | 0+0j | 0+0j | 0+0j | 0+0j | 0+0j | 0+0j | 0+0j | 0+0j | 0+0j\n",
      "0+0j | 0.009545903+4.919134e-08j | -0.006103061-2.310692e-06j | 0.1857682+9.065307e-07j | -0.0061136-1.833853e-07j | 0.006165051-2.09685e-07j | 0.6928709-4.6505e-23j | 0.006153715+3.956916e-07j | -0.00942379+2.61273e-06j | 0.03608541+1.464034e-06j | 0.03616186+2.302199e-07j | 0.03608681-1.628436e-06j | -0.03580352+8.869906e-08j | -0.03532985-2.985032e-08j | -0.03580209+1.686137e-06j | 0+0j | 0+0j | 0+0j | 0+0j | 0+0j | 0+0j | 0+0j | 0+0j | 0+0j | 0+0j | 0+0j | 0+0j\n",
      "0+0j | 0.009537741-1.578744e-06j | 0.1857697-1.903694e-07j | -0.006102714-1.4508e-06j | -0.006107226+1.069744e-06j | 0.00615775-2.540946e-07j | 0.006153715-3.956916e-07j | 0.6928694-7.4408e-22j | -0.009416488+3.849274e-06j | 0.03608594-7.239644e-07j | 0.03608627-9.958677e-07j | 0.03616245-1.057424e-07j | -0.0353304-1.764796e-07j | -0.03580284-5.251375e-07j | -0.03580243+1.014847e-06j | 0+0j | 0+0j | 0+0j | 0+0j | 0+0j | 0+0j | 0+0j | 0+0j | 0+0j | 0+0j | 0+0j | 0+0j\n",
      "0+0j | 0.1546989-1.195172e-06j | 0.009222198+3.371866e-07j | 0.009228242-8.34319e-08j | 0.009234327+2.596402e-07j | -0.009415845+1.147743e-06j | -0.00941125-2.609254e-06j | -0.009403958-3.844152e-06j | 0.7237237-5.95264e-21j | 0.03577995+1.481351e-06j | 0.03577992-9.539245e-07j | 0.03578021-2.020324e-06j | -0.03589589-1.926655e-06j | -0.03589555-7.62972e-07j | -0.03589564-3.313838e-07j | 0+0j | 0+0j | 0+0j | 0+0j | 0+0j | 0+0j | 0+0j | 0+0j | 0+0j | 0+0j | 0+0j | 0+0j\n",
      "0+0j | -0.03596918+9.756246e-07j | -0.03607614+3.864526e-07j | -0.03607595+1.300773e-06j | -0.03644614-1.553755e-07j | 0.03622151-6.790102e-07j | 0.03614562-1.466477e-06j | 0.03614615+7.251724e-07j | 0.0358874-1.4858e-06j | 0.4753191-8.719688e-23j | 0.0454806-4.294692e-08j | 0.04548028+2.976327e-07j | -0.04538837+2.50536e-07j | -0.04538841-1.242287e-07j | 0.1823868+6.654957e-08j | 0+0j | 0+0j | 0+0j | 0+0j | 0+0j | 0+0j | 0+0j | 0+0j | 0+0j | 0+0j | 0+0j | 0+0j\n",
      "0+0j | -0.03596929-2.24434e-06j | -0.03607681-6.487653e-07j | -0.03644677-7.376587e-08j | -0.0360761+9.58136e-07j | 0.03614583-1.243725e-06j | 0.0362222-2.306041e-07j | 0.03614648+9.975294e-07j | 0.03588738+9.567893e-07j | 0.0454806+4.294692e-08j | 0.475319+1.39515e-22j | 0.04548033+3.15198e-07j | -0.0453883+1.5985e-07j | 0.1823869-4.594902e-07j | -0.0453886-2.075491e-08j | 0+0j | 0+0j | 0+0j | 0+0j | 0+0j | 0+0j | 0+0j | 0+0j | 0+0j | 0+0j | 0+0j | 0+0j\n",
      "0+0j | -0.03596956-1.151018e-06j | -0.03644731-9.433344e-07j | -0.03607719-6.451893e-07j | -0.03607687+3.337518e-08j | 0.03614668+1.438553e-06j | 0.03614702+1.631154e-06j | 0.03622279+1.059189e-07j | 0.03588766+2.026391e-06j | 0.04548028-2.976327e-07j | 0.04548033-3.15198e-07j | 0.4753189+3.051891e-23j | 0.1823871+1.931534e-06j | -0.04538818+1.665475e-07j | -0.04538827+2.80179e-07j | 0+0j | 0+0j | 0+0j | 0+0j | 0+0j | 0+0j | 0+0j | 0+0j | 0+0j | 0+0j | 0+0j | 0+0j\n",
      "0+0j | 0.03601094-2.813595e-06j | 0.03554798+6.424697e-07j | 0.03571453-8.678176e-07j | 0.03571428-6.655633e-07j | -0.03579131-7.77267e-07j | -0.0357916-8.866955e-08j | -0.03531864+1.764208e-07j | -0.03593176+1.92858e-06j | -0.04529768-2.500354e-07j | -0.04529761-1.595306e-07j | 0.1820227-1.927675e-06j | 0.4779113-5.5806e-22j | 0.04521106+3.152286e-07j | 0.04521127+3.275799e-07j | 0+0j | 0+0j | 0+0j | 0+0j | 0+0j | 0+0j | 0+0j | 0+0j | 0+0j | 0+0j | 0+0j | 0+0j\n",
      "0+0j | 0.03601061+4.817201e-07j | 0.03571403-8.690059e-07j | 0.03554745+2.486081e-07j | 0.03571372+1.236244e-06j | -0.03579069-9.28186e-07j | -0.03531809+2.984039e-08j | -0.03579093+5.249628e-07j | -0.03593142+7.637344e-07j | -0.04529772+1.239804e-07j | 0.1820225+4.585721e-07j | -0.0452975-1.662147e-07j | 0.04521106-3.152286e-07j | 0.4779116-4.18545e-22j | 0.04521132-9.176984e-08j | 0+0j | 0+0j | 0+0j | 0+0j | 0+0j | 0+0j | 0+0j | 0+0j | 0+0j | 0+0j | 0+0j | 0+0j\n",
      "0+0j | 0.03601058+1.855728e-07j | 0.03571328-1.632949e-07j | 0.03571325+1.797366e-06j | 0.03554662+1.000399e-06j | -0.03531718-1.269468e-07j | -0.03579018-1.685576e-06j | -0.03579052-1.014509e-06j | -0.03593151+3.317149e-07j | 0.1820224-6.641661e-08j | -0.04529791+2.071344e-08j | -0.04529758-2.796192e-07j | 0.04521127-3.275799e-07j | 0.04521132+9.176984e-08j | 0.4779117-2.7903e-22j | 0+0j | 0+0j | 0+0j | 0+0j | 0+0j | 0+0j | 0+0j | 0+0j | 0+0j | 0+0j | 0+0j | 0+0j\n",
      "0+0j | 0+0j | 0+0j | 0+0j | 0+0j | 0+0j | 0+0j | 0+0j | 0+0j | 0+0j | 0+0j | 0+0j | 0+0j | 0+0j | 0+0j | 0.3294205+0j | 0+0j | 0+0j | 0+0j | 0+0j | 0+0j | 0+0j | 0+0j | 0+0j | 0+0j | 0+0j | 0+0j\n",
      "0+0j | 0+0j | 0+0j | 0+0j | 0+0j | 0+0j | 0+0j | 0+0j | 0+0j | 0+0j | 0+0j | 0+0j | 0+0j | 0+0j | 0+0j | 0+0j | 0.3294205+0j | 0+0j | 0+0j | 0+0j | 0+0j | 0+0j | 0+0j | 0+0j | 0+0j | 0+0j | 0+0j\n",
      "0+0j | 0+0j | 0+0j | 0+0j | 0+0j | 0+0j | 0+0j | 0+0j | 0+0j | 0+0j | 0+0j | 0+0j | 0+0j | 0+0j | 0+0j | 0+0j | 0+0j | 0.3294205+0j | 0+0j | 0+0j | 0+0j | 0+0j | 0+0j | 0+0j | 0+0j | 0+0j | 0+0j\n",
      "0+0j | 0+0j | 0+0j | 0+0j | 0+0j | 0+0j | 0+0j | 0+0j | 0+0j | 0+0j | 0+0j | 0+0j | 0+0j | 0+0j | 0+0j | 0+0j | 0+0j | 0+0j | 0.3294205+0j | 0+0j | 0+0j | 0+0j | 0+0j | 0+0j | 0+0j | 0+0j | 0+0j\n",
      "0+0j | 0+0j | 0+0j | 0+0j | 0+0j | 0+0j | 0+0j | 0+0j | 0+0j | 0+0j | 0+0j | 0+0j | 0+0j | 0+0j | 0+0j | 0+0j | 0+0j | 0+0j | 0+0j | 0.3294205+0j | 0+0j | 0+0j | 0+0j | 0+0j | 0+0j | 0+0j | 0+0j\n",
      "0+0j | 0+0j | 0+0j | 0+0j | 0+0j | 0+0j | 0+0j | 0+0j | 0+0j | 0+0j | 0+0j | 0+0j | 0+0j | 0+0j | 0+0j | 0+0j | 0+0j | 0+0j | 0+0j | 0+0j | 0.3294205+0j | 0+0j | 0+0j | 0+0j | 0+0j | 0+0j | 0+0j\n",
      "0+0j | 0+0j | 0+0j | 0+0j | 0+0j | 0+0j | 0+0j | 0+0j | 0+0j | 0+0j | 0+0j | 0+0j | 0+0j | 0+0j | 0+0j | 0+0j | 0+0j | 0+0j | 0+0j | 0+0j | 0+0j | 0.3294205+0j | 0+0j | 0+0j | 0+0j | 0+0j | 0+0j\n",
      "0+0j | 0+0j | 0+0j | 0+0j | 0+0j | 0+0j | 0+0j | 0+0j | 0+0j | 0+0j | 0+0j | 0+0j | 0+0j | 0+0j | 0+0j | 0+0j | 0+0j | 0+0j | 0+0j | 0+0j | 0+0j | 0+0j | 0.3294205+0j | 0+0j | 0+0j | 0+0j | 0+0j\n",
      "0+0j | 0+0j | 0+0j | 0+0j | 0+0j | 0+0j | 0+0j | 0+0j | 0+0j | 0+0j | 0+0j | 0+0j | 0+0j | 0+0j | 0+0j | 0+0j | 0+0j | 0+0j | 0+0j | 0+0j | 0+0j | 0+0j | 0+0j | 0.3294205+0j | 0+0j | 0+0j | 0+0j\n",
      "0+0j | 0+0j | 0+0j | 0+0j | 0+0j | 0+0j | 0+0j | 0+0j | 0+0j | 0+0j | 0+0j | 0+0j | 0+0j | 0+0j | 0+0j | 0+0j | 0+0j | 0+0j | 0+0j | 0+0j | 0+0j | 0+0j | 0+0j | 0+0j | 0.3294205+0j | 0+0j | 0+0j\n",
      "0+0j | 0+0j | 0+0j | 0+0j | 0+0j | 0+0j | 0+0j | 0+0j | 0+0j | 0+0j | 0+0j | 0+0j | 0+0j | 0+0j | 0+0j | 0+0j | 0+0j | 0+0j | 0+0j | 0+0j | 0+0j | 0+0j | 0+0j | 0+0j | 0+0j | 0.3294205+0j | 0+0j\n",
      "0+0j | 0+0j | 0+0j | 0+0j | 0+0j | 0+0j | 0+0j | 0+0j | 0+0j | 0+0j | 0+0j | 0+0j | 0+0j | 0+0j | 0+0j | 0+0j | 0+0j | 0+0j | 0+0j | 0+0j | 0+0j | 0+0j | 0+0j | 0+0j | 0+0j | 0+0j | 0.3294205+0j\n"
     ]
    }
   ],
   "source": [
    "for row in range(wcoul.shape[0]):\n",
    "    row_data = []\n",
    "    for col in range(wcoul.shape[1]):\n",
    "        row_data.append(f\"{wcoul[row, col]:.7g}\")\n",
    "    print(\" | \".join(row_data))"
   ]
  },
  {
   "cell_type": "code",
   "execution_count": 18,
   "metadata": {},
   "outputs": [
    {
     "name": "stdout",
     "output_type": "stream",
     "text": [
      "1-2.713627e-19j\n",
      "0.2551328+1.364681e-07j\n",
      "0.4264408-3.906275e-06j\n",
      "0.4258757-9.362311e-07j\n",
      "0.4234961-1.729757e-06j\n",
      "0.4234961+1.729757e-06j\n",
      "0.4258757+9.362311e-07j\n",
      "0.4264408+3.906275e-06j\n",
      "0.2551328-1.364681e-07j\n",
      "0.2976161-1.530232e-06j\n",
      "0.2955457-1.174972e-06j\n",
      "0.2950541-2.494651e-06j\n",
      "0.2950541+2.494651e-06j\n",
      "0.2955457+1.174972e-06j\n",
      "0.2976161+1.530232e-06j\n",
      "0.2721664-3.77815e-08j\n",
      "0.2729211-1.096804e-07j\n",
      "0.2760775-1.534221e-07j\n",
      "0.1545191-4.363413e-07j\n",
      "0.1543571-6.476026e-07j\n",
      "0.1545626+1.916415e-07j\n",
      "0.1545626-1.916415e-07j\n",
      "0.1543571+6.476026e-07j\n",
      "0.1545191+4.363413e-07j\n",
      "0.2760775+1.534221e-07j\n",
      "0.2729211+1.096804e-07j\n",
      "0.2721664+3.77815e-08j\n"
     ]
    }
   ],
   "source": [
    "for row in range(mvvp.shape[0]):\n",
    "    row_data = []\n",
    "    row_data.append(f\"{mvvp[row]:.7g}\")\n",
    "    print(\" | \".join(row_data))"
   ]
  },
  {
   "cell_type": "code",
   "execution_count": 19,
   "metadata": {},
   "outputs": [
    {
     "name": "stdout",
     "output_type": "stream",
     "text": [
      "The body kernel is (-0.02083082965554543-2.0935194876814875e-08j)\n"
     ]
    }
   ],
   "source": [
    "wcoul_body = wcoul[1:, 1:]\n",
    "mvvp_body = mvvp[1:]\n",
    "mccp_body = mccp[1:]\n",
    "\n",
    "bodyval = 0\n",
    "for i in range(wcoul_body.shape[0]):\n",
    "    for j in range(wcoul_body.shape[1]):\n",
    "        bodyval += mvvp_body[i] * np.conjugate(wcoul_body[j, i]) * (mccp_body[j])\n",
    "print(f\"The body kernel is {bodyval}\")"
   ]
  },
  {
   "cell_type": "code",
   "execution_count": 20,
   "metadata": {},
   "outputs": [],
   "source": [
    "from kernelv2 import KernelMtxElv2\n",
    "\n",
    "\n",
    "kernelclassv2 = KernelMtxElv2.from_BGW(\n",
    "    wfndata=wfndata,\n",
    "    epsinp=epsinp,\n",
    "    sigmainp=sigmainp,\n",
    "    l_epsmats=epsilon.l_epsinv,\n",
    "    q0val=q0val,\n",
    "    parallel=False,\n",
    "    num_bands_val=1,\n",
    "    num_bands_con=1,\n",
    ")"
   ]
  },
  {
   "cell_type": "code",
   "execution_count": 21,
   "metadata": {},
   "outputs": [
    {
     "name": "stdout",
     "output_type": "stream",
     "text": [
      "The exc kernel is [[[[[[0.39326425+2.77555756e-17j]]]]]]\n",
      "The head kernel is [[[[[[1.-1.89016773e-19j]]]]]]\n",
      "The wings kernel is [[[[[[0.+0.j]]]]]]\n",
      "The body kernel is [[[[[[-0.02083083+1.04335341e-08j]]]]]]\n"
     ]
    }
   ],
   "source": [
    "datav2 = kernelclassv2.kernel_mtxel()\n",
    "\n",
    "excv2 = datav2[\"exc\"]\n",
    "print(f\"The exc kernel is {excv2}\")\n",
    "\n",
    "headv2 = datav2[\"head\"]\n",
    "print(f\"The head kernel is {headv2}\")\n",
    "\n",
    "wingsv2 = datav2[\"wings\"]\n",
    "print(f\"The wings kernel is {wingsv2}\")\n",
    "\n",
    "bodyv2 = datav2[\"body\"]\n",
    "print(f\"The body kernel is {bodyv2}\")"
   ]
  }
 ],
 "metadata": {
  "kernelspec": {
   "display_name": "qtm",
   "language": "python",
   "name": "python3"
  },
  "language_info": {
   "codemirror_mode": {
    "name": "ipython",
    "version": 3
   },
   "file_extension": ".py",
   "mimetype": "text/x-python",
   "name": "python",
   "nbconvert_exporter": "python",
   "pygments_lexer": "ipython3",
   "version": "3.11.10"
  }
 },
 "nbformat": 4,
 "nbformat_minor": 2
}
