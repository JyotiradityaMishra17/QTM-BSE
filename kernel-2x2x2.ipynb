{
 "cells": [
  {
   "cell_type": "code",
   "execution_count": 20,
   "metadata": {},
   "outputs": [],
   "source": [
    "import numpy as np\n",
    "import h5py\n",
    "import sys\n",
    "\n",
    "\n",
    "sys.path.append(\".\")\n",
    "dirname = \"./bgw_files/k-2x2x2/\""
   ]
  },
  {
   "cell_type": "code",
   "execution_count": 21,
   "metadata": {},
   "outputs": [],
   "source": [
    "# epsinp and sigmain data.\n",
    "from qtm.interfaces.bgw.epsinp import Epsinp\n",
    "epsinp = Epsinp.from_epsilon_inp(filename=dirname+'epsilon.inp')\n",
    "\n",
    "from qtm.interfaces.bgw.sigmainp import Sigmainp\n",
    "sigmainp = Sigmainp.from_sigma_inp(filename=dirname+'sigma.inp')"
   ]
  },
  {
   "cell_type": "code",
   "execution_count": 22,
   "metadata": {},
   "outputs": [],
   "source": [
    "from qtm.interfaces.bgw import inp\n",
    "from qtm.interfaces.bgw.wfn2py import wfn2py\n",
    "\n",
    "# Read wfndata\n",
    "wfndata = wfn2py(dirname + \"WFN.h5\")\n",
    "wfnqdata = wfn2py(dirname + \"WFNq.h5\")\n",
    "\n",
    "# Read rho\n",
    "rho = inp.read_rho(dirname + \"RHO\")\n",
    "\n",
    "# Read vxc \n",
    "vxc = inp.read_vxc(dirname + \"vxc.dat\") "
   ]
  },
  {
   "cell_type": "code",
   "execution_count": 23,
   "metadata": {},
   "outputs": [
    {
     "name": "stderr",
     "output_type": "stream",
     "text": [
      "Vcoul calculation for qpts: 100%|██████████| 8/8 [00:00<00:00, 17772.47it/s]\n"
     ]
    }
   ],
   "source": [
    "from qtm.gw.core import QPoints\n",
    "from qtm.gw.epsilon import Epsilon\n",
    "\n",
    "epsilon = Epsilon.from_data(wfndata=wfndata, wfnqdata=wfnqdata, epsinp=epsinp)"
   ]
  },
  {
   "cell_type": "code",
   "execution_count": 24,
   "metadata": {},
   "outputs": [
    {
     "name": "stderr",
     "output_type": "stream",
     "text": [
      "Vcoul calculation for qpts: 100%|██████████| 8/8 [00:00<00:00, 12529.66it/s]\n",
      "Epsilon> q-pt index: 100%|██████████| 8/8 [00:00<00:00, 128.94it/s]"
     ]
    },
    {
     "name": "stdout",
     "output_type": "stream",
     "text": [
      "Standard deviation exceeded 1e-16 tolerance: 2.5494915419483335e-15, for i_q:0\n"
     ]
    },
    {
     "name": "stderr",
     "output_type": "stream",
     "text": [
      "\n"
     ]
    }
   ],
   "source": [
    "from tqdm import trange\n",
    "from qtm.gw.core import reorder_2d_matrix_sorted_gvecs, sort_cryst_like_BGW\n",
    "\n",
    "\n",
    "def calculate_epsilon(numq=None, writing=False):\n",
    "    epsmats = []\n",
    "    if numq is None:\n",
    "        numq = epsilon.qpts.numq\n",
    "\n",
    "    for i_q in trange(0, numq, desc=\"Epsilon> q-pt index\"):\n",
    "        # Create map between BGW's sorting order and QTm's sorting order\n",
    "        gkspc = epsilon.l_gq[i_q]\n",
    "        \n",
    "        if i_q == epsilon.qpts.index_q0:\n",
    "            key = gkspc.g_norm2\n",
    "        else:\n",
    "            key = gkspc.gk_norm2\n",
    "\n",
    "        indices_gspace_sorted = sort_cryst_like_BGW(\n",
    "            cryst=gkspc.g_cryst, key_array=key\n",
    "        )\n",
    "       \n",
    "\n",
    "        # Calculate matrix elements\n",
    "        M = next(epsilon.matrix_elements(i_q=i_q))\n",
    "\n",
    "        # Calculate polarizability matrix (faster, but not memory-efficient)\n",
    "        chimat = epsilon.polarizability(M)\n",
    "\n",
    "        # Calculate polarizability matrix (memory-efficient)\n",
    "        # chimat = epsilon.polarizability_active(i_q)\n",
    "\n",
    "        # Calculate epsilon inverse matrix\n",
    "        epsinv0 = epsilon.epsilon_inverse(i_q=i_q, polarizability_matrix=chimat, store=True)\n",
    "        epsinv = reorder_2d_matrix_sorted_gvecs(epsinv0, indices_gspace_sorted)\n",
    "\n",
    "        epsilon.l_epsinv[i_q] = epsinv\n",
    "\n",
    "        \n",
    "        # Compare the results with BGW's results\n",
    "        if i_q == epsilon.qpts.index_q0:\n",
    "            epsref = epsilon.read_epsmat(dirname + \"eps0mat.h5\")[0][0, 0]\n",
    "            if writing:\n",
    "                epsilon.write_epsmat(\n",
    "                    filename=\"test/epsilon/eps0mat_qtm.h5\", epsinvmats=[epsinv]\n",
    "                )\n",
    "        else:\n",
    "            epsref = np.array(epsilon.read_epsmat(dirname + \"epsmat.h5\")[i_q - 1][0, 0])\n",
    "            epsmats.append(epsinv)\n",
    "\n",
    "        # Calculate stddev between reference and calculated epsinv matrices\n",
    "        std_eps = np.std(epsref - epsinv) / np.sqrt(np.prod(list(epsinv.shape)))\n",
    "\n",
    "\n",
    "        epstol = 1e-16\n",
    "        if np.abs(std_eps) > epstol:\n",
    "            print(f\"Standard deviation exceeded {epstol} tolerance: {std_eps}, for i_q:{i_q}\")\n",
    "\n",
    "\n",
    "    if writing:\n",
    "        epsilon.write_epsmat(filename=\"test/epsilon/epsmat_qtm.h5\", epsinvmats=epsmats)\n",
    "\n",
    "\n",
    "epsinp.no_min_fftgrid = True\n",
    "epsilon = Epsilon.from_data(wfndata=wfndata, wfnqdata=wfnqdata, epsinp=epsinp)\n",
    "\n",
    "calculate_epsilon()"
   ]
  },
  {
   "cell_type": "code",
   "execution_count": 25,
   "metadata": {},
   "outputs": [],
   "source": [
    "from kernel import KernelMtxEl\n",
    "\n",
    "q0val = [0.001, 0.001, 0.001]\n"
   ]
  },
  {
   "cell_type": "code",
   "execution_count": 26,
   "metadata": {},
   "outputs": [],
   "source": [
    "kernelclass = KernelMtxEl.from_BGW(\n",
    "    wfndata=wfndata,\n",
    "    epsinp=epsinp,\n",
    "    sigmainp=sigmainp,\n",
    "    l_epsmats=epsilon.l_epsinv,\n",
    "    q0val=q0val,\n",
    "    parallel=False,\n",
    "    num_bands_val=1,\n",
    "    num_bands_con=1,\n",
    ")"
   ]
  },
  {
   "cell_type": "code",
   "execution_count": 27,
   "metadata": {},
   "outputs": [],
   "source": [
    "data = kernelclass.calc_kernel_mtxel()"
   ]
  },
  {
   "cell_type": "code",
   "execution_count": 28,
   "metadata": {},
   "outputs": [
    {
     "name": "stdout",
     "output_type": "stream",
     "text": [
      "(8, 8, 1, 1, 1, 1)\n",
      "0.47881-0.00000j | -0.02994-0.11418j | -0.07084-0.02386j | -0.06933+0.12470j | -0.10282+0.15727j | 0.01616-0.05548j | 0.02306+0.09088j | 0.00050-0.00007j\n",
      "-0.02994-0.11418j | 0.21656+0.00000j | 0.02322-0.03526j | -0.01349-0.01293j | 0.02786+0.03082j | -0.01573-0.00945j | -0.10018-0.00079j | -0.00211+0.01527j\n",
      "-0.07084-0.02386j | 0.02322-0.03526j | 0.21656+0.00000j | 0.00335-0.01821j | -0.01061+0.04092j | 0.00415+0.10010j | 0.01008+0.01557j | 0.00049-0.00024j\n",
      "-0.06933+0.12470j | -0.01349-0.01293j | 0.00335-0.01821j | 0.24228-0.00000j | 0.09993+0.00717j | 0.00642-0.00146j | -0.00472+0.00445j | 0.05010+0.06913j\n",
      "-0.10282+0.15727j | 0.02786+0.03082j | -0.01061+0.04092j | 0.09993+0.00717j | 0.21656+0.00000j | -0.01754+0.00533j | 0.01264-0.01377j | -0.00966-0.01149j\n",
      "0.01616-0.05548j | -0.01573-0.00945j | 0.00415+0.10010j | 0.00642-0.00146j | -0.01754+0.00533j | 0.24235+0.00000j | -0.00570+0.00336j | 0.00109+0.00256j\n",
      "0.02306+0.09088j | -0.10018-0.00079j | 0.01008+0.01557j | -0.00472+0.00445j | 0.01264-0.01377j | -0.00570+0.00336j | 0.24230+0.00000j | -0.01136+0.08742j\n",
      "0.00050-0.00007j | -0.00211+0.01527j | 0.00049-0.00024j | 0.05010+0.06913j | -0.00966-0.01149j | 0.00109+0.00256j | -0.01136+0.08742j | 0.21664+0.00000j\n"
     ]
    }
   ],
   "source": [
    "exc = data[\"exc\"]\n",
    "print(exc.shape)\n",
    "exc = exc[:, :, 0, 0, 0, 0]\n",
    "\n",
    "for row in range(exc.shape[0]):\n",
    "    row_data = []\n",
    "    for col in range(exc.shape[1]):\n",
    "        row_data.append(f\"{exc[row, col]:.5f}\")\n",
    "    print(\" | \".join(row_data))"
   ]
  },
  {
   "cell_type": "code",
   "execution_count": 29,
   "metadata": {},
   "outputs": [
    {
     "name": "stdout",
     "output_type": "stream",
     "text": [
      "1.00000-0.00000j | -0.05016-0.19131j | -0.11326-0.03814j | -0.12329+0.21733j | -0.17991+0.27518j | 0.02843-0.09821j | 0.04308+0.15990j | -0.00000+0.00000j\n",
      "-0.05016-0.19131j | 1.00000+0.00000j | 0.04481-0.06806j | -0.24097-0.23319j | 0.05318+0.05884j | -0.28182-0.17010j | -0.03101+0.00090j | -0.00024+0.00175j\n",
      "-0.11326-0.03814j | 0.04481-0.06806j | 1.00000-0.00000j | 0.06072-0.32644j | -0.02049+0.07906j | 0.00142+0.03097j | 0.18195+0.27839j | 0.00017-0.00008j\n",
      "-0.12329+0.21733j | -0.24097-0.23319j | 0.06072-0.32644j | 1.00000-0.00000j | 0.03087+0.00288j | -0.04309+0.00855j | 0.03204-0.02999j | 0.01672+0.02048j\n",
      "-0.17991+0.27518j | 0.05318+0.05884j | -0.02049+0.07906j | 0.03087+0.00288j | 1.00000+0.00000j | -0.31441+0.09672j | 0.22525-0.24866j | -0.00121-0.00144j\n",
      "0.02843-0.09821j | -0.28182-0.17010j | 0.00142+0.03097j | -0.04309+0.00855j | -0.31441+0.09672j | 1.00000+0.00000j | 0.03747-0.02293j | 0.00345-0.00052j\n",
      "0.04308+0.15990j | -0.03101+0.00090j | 0.18195+0.27839j | 0.03204-0.02999j | 0.22525-0.24866j | 0.03747-0.02293j | 1.00000+0.00000j | -0.00522+0.02679j\n",
      "-0.00000+0.00000j | -0.00024+0.00175j | 0.00017-0.00008j | 0.01672+0.02048j | -0.00121-0.00144j | 0.00345-0.00052j | -0.00522+0.02679j | 1.00000-0.00000j\n"
     ]
    }
   ],
   "source": [
    "head = data[\"head\"]\n",
    "head = head[:, :, 0, 0, 0, 0]\n",
    "\n",
    "for row in range(head.shape[0]):\n",
    "    row_data = []\n",
    "    for col in range(head.shape[1]):\n",
    "        row_data.append(f\"{head[row, col]:.5f}\")\n",
    "    print(\" | \".join(row_data))"
   ]
  },
  {
   "cell_type": "code",
   "execution_count": 30,
   "metadata": {},
   "outputs": [
    {
     "name": "stdout",
     "output_type": "stream",
     "text": [
      "0.00000+0.00000j | -0.03187-0.12155j | -0.07195-0.02423j | 0.02096-0.03695j | -0.11429+0.17483j | -0.00484+0.01670j | -0.00732-0.02719j | -0.00000+0.00000j\n",
      "-0.03187-0.12155j | 0.00000+0.00000j | 0.00750-0.01138j | -0.11628-0.11212j | 0.00890+0.00985j | -0.13604-0.08147j | 0.00650-0.00020j | -0.00011+0.00079j\n",
      "-0.07195-0.02423j | 0.00750-0.01138j | 0.00000+0.00000j | 0.02952-0.15721j | -0.00343+0.01322j | -0.00029-0.00650j | 0.08784+0.13399j | 0.00004-0.00002j\n",
      "0.02096-0.03695j | -0.11628-0.11212j | 0.02952-0.15721j | 0.00000+0.00000j | -0.00647-0.00063j | -0.00130+0.00026j | 0.00097-0.00091j | -0.00158-0.00282j\n",
      "-0.11429+0.17483j | 0.00890+0.00985j | -0.00343+0.01322j | -0.00647-0.00063j | 0.00000+0.00000j | -0.15163+0.04607j | 0.10869-0.11963j | -0.00051-0.00061j\n",
      "-0.00484+0.01670j | -0.13604-0.08147j | -0.00029-0.00650j | -0.00130+0.00026j | -0.15163+0.04607j | 0.00000+0.00000j | 0.00113-0.00069j | 0.00144-0.00072j\n",
      "-0.00732-0.02719j | 0.00650-0.00020j | 0.08784+0.13399j | 0.00097-0.00091j | 0.10869-0.11963j | 0.00113-0.00069j | 0.00000+0.00000j | 0.00021-0.00332j\n",
      "-0.00000+0.00000j | -0.00011+0.00079j | 0.00004-0.00002j | -0.00158-0.00282j | -0.00051-0.00061j | 0.00144-0.00072j | 0.00021-0.00332j | 0.00000+0.00000j\n"
     ]
    }
   ],
   "source": [
    "wings = data[\"wings\"]\n",
    "wings = wings[:, :, 0, 0, 0, 0]\n",
    "\n",
    "for row in range(wings.shape[0]):\n",
    "    row_data = []\n",
    "    for col in range(wings.shape[1]):\n",
    "        row_data.append(f\"{wings[row, col]:.5f}\")\n",
    "    print(\" | \".join(row_data))"
   ]
  },
  {
   "cell_type": "code",
   "execution_count": 31,
   "metadata": {},
   "outputs": [
    {
     "name": "stdout",
     "output_type": "stream",
     "text": [
      "0.26829+0.00000j | -0.09855-0.37586j | -0.22032-0.07421j | -0.20946+0.37986j | -0.35675+0.54570j | 0.04916-0.16834j | 0.06834+0.27634j | 0.01063-0.00128j\n",
      "-0.09855-0.37586j | 0.12974-0.00000j | 0.16075-0.24413j | -0.30650-0.28890j | 0.19212+0.21255j | -0.35483-0.21229j | -0.07330-0.00212j | -0.00980+0.07101j\n",
      "-0.22032-0.07421j | 0.16075-0.24413j | 0.12974+0.00000j | 0.07330-0.41063j | -0.07345+0.28342j | 0.00284+0.07327j | 0.22336+0.35309j | 0.00243-0.00116j\n",
      "-0.20946+0.37986j | -0.30650-0.28890j | 0.07330-0.41063j | 0.04804-0.00000j | 0.07319+0.00438j | 0.15222-0.03334j | -0.11334+0.10668j | 0.03408+0.05245j\n",
      "-0.35675+0.54570j | 0.19212+0.21255j | -0.07345+0.28342j | 0.07319+0.00438j | 0.12974+0.00000j | -0.39591+0.11839j | 0.28907-0.30673j | -0.04502-0.05359j\n",
      "0.04916-0.16834j | -0.35483-0.21229j | 0.00284+0.07327j | 0.15222-0.03334j | -0.39591+0.11839j | 0.04796-0.00000j | -0.13392+0.07982j | -0.00712+0.00528j\n",
      "0.06834+0.27634j | -0.07330-0.00212j | 0.22336+0.35309j | -0.11334+0.10668j | 0.28907-0.30673j | -0.13392+0.07982j | 0.04802+0.00000j | -0.00514+0.06437j\n",
      "0.01063-0.00128j | -0.00980+0.07101j | 0.00243-0.00116j | 0.03408+0.05245j | -0.04502-0.05359j | -0.00712+0.00528j | -0.00514+0.06437j | 0.12961+0.00000j\n"
     ]
    }
   ],
   "source": [
    "body = data[\"body\"]\n",
    "body = body[:, :, 0, 0, 0, 0]\n",
    "\n",
    "for row in range(body.shape[0]):\n",
    "    row_data = []\n",
    "    for col in range(body.shape[1]):\n",
    "        row_data.append(f\"{body[row, col]:.5f}\")\n",
    "    print(\" | \".join(row_data))"
   ]
  },
  {
   "cell_type": "markdown",
   "metadata": {},
   "source": [
    "Kernelv2"
   ]
  },
  {
   "cell_type": "code",
   "execution_count": 32,
   "metadata": {},
   "outputs": [],
   "source": [
    "from kernelv2 import KernelMtxElv2\n",
    "\n",
    "kernelclassv2 = KernelMtxElv2.from_BGW(\n",
    "    wfndata=wfndata,\n",
    "    epsinp=epsinp,\n",
    "    sigmainp=sigmainp,\n",
    "    l_epsmats=epsilon.l_epsinv,\n",
    "    q0val=q0val,\n",
    "    parallel=False,\n",
    "    num_bands_val=1,\n",
    "    num_bands_con=1,\n",
    ")"
   ]
  },
  {
   "cell_type": "code",
   "execution_count": 33,
   "metadata": {},
   "outputs": [],
   "source": [
    "datav2 = kernelclassv2.kernel_mtxel()"
   ]
  },
  {
   "cell_type": "code",
   "execution_count": 34,
   "metadata": {},
   "outputs": [
    {
     "name": "stdout",
     "output_type": "stream",
     "text": [
      "(8, 8, 1, 1, 1, 1)\n",
      "0.47881-0.00000j | -0.02994+0.11418j | -0.07084+0.02386j | -0.06933-0.12470j | -0.10282-0.15727j | 0.01616+0.05548j | 0.02306-0.09088j | 0.00050+0.00007j\n",
      "-0.02994-0.11418j | 0.21656+0.00000j | 0.02322+0.03526j | -0.01349+0.01293j | 0.02786-0.03082j | -0.01573+0.00945j | -0.10018+0.00079j | -0.00211-0.01527j\n",
      "-0.07084-0.02386j | 0.02322-0.03526j | 0.21656+0.00000j | 0.00335+0.01821j | -0.01061-0.04092j | 0.00415-0.10010j | 0.01008-0.01557j | 0.00049+0.00024j\n",
      "-0.06933+0.12470j | -0.01349-0.01293j | 0.00335-0.01821j | 0.24228-0.00000j | 0.09993-0.00717j | 0.00642+0.00146j | -0.00472-0.00445j | 0.05010-0.06913j\n",
      "-0.10282+0.15727j | 0.02786+0.03082j | -0.01061+0.04092j | 0.09993+0.00717j | 0.21656+0.00000j | -0.01754-0.00533j | 0.01264+0.01377j | -0.00966+0.01149j\n",
      "0.01616-0.05548j | -0.01573-0.00945j | 0.00415+0.10010j | 0.00642-0.00146j | -0.01754+0.00533j | 0.24235+0.00000j | -0.00570-0.00336j | 0.00109-0.00256j\n",
      "0.02306+0.09088j | -0.10018-0.00079j | 0.01008+0.01557j | -0.00472+0.00445j | 0.01264-0.01377j | -0.00570+0.00336j | 0.24230+0.00000j | -0.01136-0.08742j\n",
      "0.00050-0.00007j | -0.00211+0.01527j | 0.00049-0.00024j | 0.05010+0.06913j | -0.00966-0.01149j | 0.00109+0.00256j | -0.01136+0.08742j | 0.21664+0.00000j\n"
     ]
    }
   ],
   "source": [
    "exc = datav2[\"exc\"]\n",
    "print(exc.shape)\n",
    "exc = exc[:, :, 0, 0, 0, 0]\n",
    "\n",
    "for row in range(exc.shape[0]):\n",
    "    row_data = []\n",
    "    for col in range(exc.shape[1]):\n",
    "        row_data.append(f\"{exc[row, col]:.5f}\")\n",
    "    print(\" | \".join(row_data))"
   ]
  },
  {
   "cell_type": "code",
   "execution_count": 35,
   "metadata": {},
   "outputs": [
    {
     "name": "stdout",
     "output_type": "stream",
     "text": [
      "1.00000-0.00000j | -0.05016+0.19131j | -0.11326+0.03815j | -0.11955-0.21940j | -0.17990-0.27519j | 0.02876+0.09811j | 0.03840-0.16109j | -0.00000-0.00000j\n",
      "-0.05016-0.19131j | 1.00000+0.00000j | 0.04481+0.06806j | -0.24317+0.23088j | 0.05318-0.05883j | -0.28255+0.16888j | -0.03099+0.00139j | -0.00024-0.00175j\n",
      "-0.11326-0.03814j | 0.04481-0.06806j | 1.00000-0.00000j | 0.05944+0.32668j | -0.02049-0.07906j | 0.00114-0.03098j | 0.17941-0.28003j | 0.00017+0.00008j\n",
      "-0.12329+0.21733j | -0.24097-0.23319j | 0.06072-0.32644j | 1.00000-0.00000j | 0.03097-0.00156j | -0.04255-0.01090j | 0.03180+0.03024j | 0.01426-0.02226j\n",
      "-0.17991+0.27518j | 0.05318+0.05884j | -0.02049+0.07906j | 0.03087+0.00288j | 1.00000+0.00000j | -0.31508-0.09453j | 0.22864+0.24555j | -0.00121+0.00144j\n",
      "0.02843-0.09821j | -0.28182-0.17010j | 0.00142+0.03097j | -0.04309+0.00855j | -0.31441+0.09672j | 1.00000+0.00000j | 0.03819+0.02171j | -0.00276-0.00213j\n",
      "0.04308+0.15990j | -0.03101+0.00090j | 0.18195+0.27839j | 0.03204-0.02999j | 0.22525-0.24866j | 0.03747-0.02293j | 1.00000+0.00000j | -0.00179-0.02724j\n",
      "-0.00000+0.00000j | -0.00024+0.00175j | 0.00017-0.00008j | 0.01672+0.02048j | -0.00121-0.00144j | 0.00345-0.00052j | -0.00522+0.02679j | 1.00000-0.00000j\n"
     ]
    }
   ],
   "source": [
    "head = datav2[\"head\"]\n",
    "head = head[:, :, 0, 0, 0, 0]\n",
    "\n",
    "for row in range(head.shape[0]):\n",
    "    row_data = []\n",
    "    for col in range(head.shape[1]):\n",
    "        row_data.append(f\"{head[row, col]:.5f}\")\n",
    "    print(\" | \".join(row_data))"
   ]
  },
  {
   "cell_type": "code",
   "execution_count": 36,
   "metadata": {},
   "outputs": [
    {
     "name": "stdout",
     "output_type": "stream",
     "text": [
      "0.00000+0.00000j | -0.02333+0.08898j | -0.05267+0.01774j | 0.00326+0.00598j | -0.08366-0.12797j | -0.00079-0.00267j | -0.00105+0.00439j | -0.00000-0.00000j\n",
      "-0.02333-0.08898j | 0.00000+0.00000j | 0.00232+0.00352j | -0.11858+0.11375j | 0.00279-0.00309j | -0.13811+0.08333j | 0.04011-0.00100j | -0.00030-0.00214j\n",
      "-0.05267-0.01774j | 0.00232-0.00352j | 0.00000+0.00000j | 0.02920+0.16007j | -0.00106-0.00408j | -0.00158+0.04008j | 0.08831-0.13697j | 0.00007+0.00003j\n",
      "0.00336-0.00592j | -0.11867-0.11366j | 0.02968-0.15999j | 0.00000+0.00000j | -0.04004+0.00247j | -0.00204-0.00052j | 0.00153+0.00145j | -0.01148+0.01606j\n",
      "-0.08366+0.12797j | 0.00279+0.00309j | -0.00106+0.00408j | -0.03998-0.00327j | 0.00000+0.00000j | -0.15416-0.04714j | 0.11123+0.12108j | -0.00135+0.00161j\n",
      "-0.00077+0.00268j | -0.13844-0.08277j | -0.00174-0.04008j | -0.00207+0.00041j | -0.15433+0.04658j | 0.00000+0.00000j | 0.00183+0.00104j | -0.00049+0.00048j\n",
      "-0.00117-0.00436j | 0.04012-0.00036j | 0.08877+0.13667j | 0.00154-0.00144j | 0.11120-0.12111j | 0.00180-0.00110j | 0.00000+0.00000j | 0.00234+0.02026j\n",
      "-0.00000+0.00000j | -0.00030+0.00214j | 0.00007-0.00003j | -0.01169-0.01591j | -0.00135-0.00161j | -0.00001-0.00069j | 0.00291-0.02018j | 0.00000+0.00000j\n"
     ]
    }
   ],
   "source": [
    "wings = datav2[\"wings\"]\n",
    "wings = wings[:, :, 0, 0, 0, 0]\n",
    "\n",
    "for row in range(wings.shape[0]):\n",
    "    row_data = []\n",
    "    for col in range(wings.shape[1]):\n",
    "        row_data.append(f\"{wings[row, col]:.5f}\")\n",
    "    print(\" | \".join(row_data))"
   ]
  },
  {
   "cell_type": "code",
   "execution_count": 37,
   "metadata": {},
   "outputs": [
    {
     "name": "stdout",
     "output_type": "stream",
     "text": [
      "0.26817-0.00000j | -0.08153+0.31100j | -0.18194+0.06127j | -0.20934-0.37247j | -0.29583-0.45250j | 0.04821+0.16606j | 0.07117-0.27145j | 0.01449+0.00175j\n",
      "-0.08153-0.31100j | 0.12970+0.00000j | 0.16278+0.24723j | -0.30883+0.29937j | 0.19464-0.21534j | -0.36171+0.21783j | -0.03912-0.00074j | -0.01049-0.07604j\n",
      "-0.18194-0.06129j | 0.16278-0.24722j | 0.12970-0.00000j | 0.07857+0.41863j | -0.07438-0.28700j | 0.00175-0.03908j | 0.23426-0.35654j | 0.00258+0.00123j\n",
      "-0.20592+0.37437j | -0.31217-0.29588j | 0.07557-0.41918j | 0.04805+0.00000j | 0.03898-0.00339j | 0.14062+0.03321j | -0.10485-0.09916j | 0.02133-0.02572j\n",
      "-0.29583+0.45251j | 0.19464+0.21534j | -0.07437+0.28700j | 0.03906+0.00221j | 0.12970-0.00000j | -0.40338-0.12386j | 0.28837+0.31948j | -0.04819+0.05735j\n",
      "0.04851-0.16597j | -0.36221-0.21699j | 0.00148+0.03909j | 0.14116-0.03079j | -0.40411+0.12147j | 0.04797+0.00000j | -0.12487-0.07282j | 0.00588+0.00131j\n",
      "0.06688+0.27254j | -0.03911-0.00136j | 0.22927+0.35977j | -0.10509+0.09891j | 0.29384-0.31446j | -0.12413+0.07407j | 0.04802-0.00000j | -0.00660-0.03385j\n",
      "0.01449-0.00175j | -0.01049+0.07604j | 0.00258-0.00123j | 0.01780+0.02827j | -0.04819-0.05735j | -0.00501+0.00335j | -0.00226+0.03441j | 0.12956-0.00000j\n"
     ]
    }
   ],
   "source": [
    "body = datav2[\"body\"]\n",
    "body = body[:, :, 0, 0, 0, 0]\n",
    "\n",
    "for row in range(body.shape[0]):\n",
    "    row_data = []\n",
    "    for col in range(body.shape[1]):\n",
    "        row_data.append(f\"{body[row, col]:.5f}\")\n",
    "    print(\" | \".join(row_data))"
   ]
  }
 ],
 "metadata": {
  "kernelspec": {
   "display_name": "qtm",
   "language": "python",
   "name": "python3"
  },
  "language_info": {
   "codemirror_mode": {
    "name": "ipython",
    "version": 3
   },
   "file_extension": ".py",
   "mimetype": "text/x-python",
   "name": "python",
   "nbconvert_exporter": "python",
   "pygments_lexer": "ipython3",
   "version": "3.11.10"
  }
 },
 "nbformat": 4,
 "nbformat_minor": 2
}
