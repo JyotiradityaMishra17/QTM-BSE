{
 "cells": [
  {
   "cell_type": "code",
   "execution_count": 161,
   "metadata": {},
   "outputs": [],
   "source": [
    "import numpy as np\n",
    "import h5py\n",
    "import sys\n",
    "\n",
    "\n",
    "sys.path.append(\".\")\n",
    "dirname = \"./bgw_files/k-2x2x2/\""
   ]
  },
  {
   "cell_type": "code",
   "execution_count": 162,
   "metadata": {},
   "outputs": [],
   "source": [
    "# epsinp and sigmain data.\n",
    "from qtm.interfaces.bgw.epsinp import Epsinp\n",
    "epsinp = Epsinp.from_epsilon_inp(filename=dirname+'epsilon.inp')\n",
    "\n",
    "from qtm.interfaces.bgw.sigmainp import Sigmainp\n",
    "sigmainp = Sigmainp.from_sigma_inp(filename=dirname+'sigma.inp')"
   ]
  },
  {
   "cell_type": "code",
   "execution_count": 163,
   "metadata": {},
   "outputs": [],
   "source": [
    "from qtm.interfaces.bgw import inp\n",
    "from qtm.interfaces.bgw.wfn2py import wfn2py\n",
    "\n",
    "# Read wfndata\n",
    "wfndata = wfn2py(dirname + \"WFN.h5\")\n",
    "wfnqdata = wfn2py(dirname + \"WFNq.h5\")\n",
    "\n",
    "# Read rho\n",
    "rho = inp.read_rho(dirname + \"RHO\")\n",
    "\n",
    "# Read vxc \n",
    "vxc = inp.read_vxc(dirname + \"vxc.dat\") "
   ]
  },
  {
   "cell_type": "code",
   "execution_count": 164,
   "metadata": {},
   "outputs": [
    {
     "name": "stderr",
     "output_type": "stream",
     "text": [
      "Vcoul calculation for qpts: 100%|██████████| 8/8 [00:00<00:00, 19032.58it/s]\n"
     ]
    }
   ],
   "source": [
    "from qtm.gw.core import QPoints\n",
    "from qtm.gw.epsilon import Epsilon\n",
    "\n",
    "epsilon = Epsilon.from_data(wfndata=wfndata, wfnqdata=wfnqdata, epsinp=epsinp)"
   ]
  },
  {
   "cell_type": "code",
   "execution_count": 165,
   "metadata": {},
   "outputs": [
    {
     "name": "stderr",
     "output_type": "stream",
     "text": [
      "Vcoul calculation for qpts: 100%|██████████| 8/8 [00:00<00:00, 19000.24it/s]\n",
      "Epsilon> q-pt index: 100%|██████████| 8/8 [00:00<00:00, 142.51it/s]"
     ]
    },
    {
     "name": "stdout",
     "output_type": "stream",
     "text": [
      "Standard deviation exceeded 1e-16 tolerance: 2.5494915419483335e-15, for i_q:0\n"
     ]
    },
    {
     "name": "stderr",
     "output_type": "stream",
     "text": [
      "\n"
     ]
    }
   ],
   "source": [
    "from tqdm import trange\n",
    "from qtm.gw.core import reorder_2d_matrix_sorted_gvecs, sort_cryst_like_BGW\n",
    "\n",
    "\n",
    "def calculate_epsilon(numq=None, writing=False):\n",
    "    epsmats = []\n",
    "    if numq is None:\n",
    "        numq = epsilon.qpts.numq\n",
    "\n",
    "    for i_q in trange(0, numq, desc=\"Epsilon> q-pt index\"):\n",
    "        # Create map between BGW's sorting order and QTm's sorting order\n",
    "        gkspc = epsilon.l_gq[i_q]\n",
    "        \n",
    "        if i_q == epsilon.qpts.index_q0:\n",
    "            key = gkspc.g_norm2\n",
    "        else:\n",
    "            key = gkspc.gk_norm2\n",
    "\n",
    "        indices_gspace_sorted = sort_cryst_like_BGW(\n",
    "            cryst=gkspc.g_cryst, key_array=key\n",
    "        )\n",
    "       \n",
    "\n",
    "        # Calculate matrix elements\n",
    "        M = next(epsilon.matrix_elements(i_q=i_q))\n",
    "\n",
    "        # Calculate polarizability matrix (faster, but not memory-efficient)\n",
    "        chimat = epsilon.polarizability(M)\n",
    "\n",
    "        # Calculate polarizability matrix (memory-efficient)\n",
    "        # chimat = epsilon.polarizability_active(i_q)\n",
    "\n",
    "        # Calculate epsilon inverse matrix\n",
    "        epsinv0 = epsilon.epsilon_inverse(i_q=i_q, polarizability_matrix=chimat, store=True)\n",
    "        epsinv = reorder_2d_matrix_sorted_gvecs(epsinv0, indices_gspace_sorted)\n",
    "\n",
    "        epsilon.l_epsinv[i_q] = epsinv\n",
    "\n",
    "        \n",
    "        # Compare the results with BGW's results\n",
    "        if i_q == epsilon.qpts.index_q0:\n",
    "            epsref = epsilon.read_epsmat(dirname + \"eps0mat.h5\")[0][0, 0]\n",
    "            if writing:\n",
    "                epsilon.write_epsmat(\n",
    "                    filename=\"test/epsilon/eps0mat_qtm.h5\", epsinvmats=[epsinv]\n",
    "                )\n",
    "        else:\n",
    "            epsref = np.array(epsilon.read_epsmat(dirname + \"epsmat.h5\")[i_q - 1][0, 0])\n",
    "            epsmats.append(epsinv)\n",
    "\n",
    "        # Calculate stddev between reference and calculated epsinv matrices\n",
    "        std_eps = np.std(epsref - epsinv) / np.sqrt(np.prod(list(epsinv.shape)))\n",
    "\n",
    "\n",
    "        epstol = 1e-16\n",
    "        if np.abs(std_eps) > epstol:\n",
    "            print(f\"Standard deviation exceeded {epstol} tolerance: {std_eps}, for i_q:{i_q}\")\n",
    "\n",
    "\n",
    "    if writing:\n",
    "        epsilon.write_epsmat(filename=\"test/epsilon/epsmat_qtm.h5\", epsinvmats=epsmats)\n",
    "\n",
    "\n",
    "epsinp.no_min_fftgrid = True\n",
    "epsilon = Epsilon.from_data(wfndata=wfndata, wfnqdata=wfnqdata, epsinp=epsinp)\n",
    "\n",
    "calculate_epsilon()"
   ]
  },
  {
   "cell_type": "code",
   "execution_count": 166,
   "metadata": {},
   "outputs": [],
   "source": [
    "from kernel import KernelMtxEl\n",
    "\n",
    "q0val = [0.001, 0.001, 0.001]\n"
   ]
  },
  {
   "cell_type": "code",
   "execution_count": 167,
   "metadata": {},
   "outputs": [],
   "source": [
    "kernelclass = KernelMtxEl.from_BGW(\n",
    "    wfndata=wfndata,\n",
    "    epsinp=epsinp,\n",
    "    sigmainp=sigmainp,\n",
    "    l_epsmats=epsilon.l_epsinv,\n",
    "    q0=q0val,\n",
    "    parallel=False,\n",
    "    num_bands_val=4,\n",
    "    num_bands_con=4,\n",
    ")"
   ]
  },
  {
   "cell_type": "code",
   "execution_count": 168,
   "metadata": {},
   "outputs": [],
   "source": [
    "data = kernelclass.kernel_mtxel()"
   ]
  },
  {
   "cell_type": "code",
   "execution_count": 169,
   "metadata": {},
   "outputs": [],
   "source": [
    "# exc = data[\"exc\"]\n",
    "# print(exc.shape)\n",
    "# exc = exc[:, 0, 0, 0, :, 0]\n",
    "\n",
    "# for row in range(exc.shape[0]):\n",
    "#     row_data = []\n",
    "#     for col in range(exc.shape[1]):\n",
    "#         row_data.append(f\"{exc[row, col]:.5f}\")\n",
    "#     print(\" | \".join(row_data))"
   ]
  },
  {
   "cell_type": "code",
   "execution_count": 170,
   "metadata": {},
   "outputs": [],
   "source": [
    "# head = data[\"head\"]\n",
    "# head = head[:, 0, 0, 0, :, 0]\n",
    "\n",
    "# for row in range(head.shape[0]):\n",
    "#     row_data = []\n",
    "#     for col in range(head.shape[1]):\n",
    "#         row_data.append(f\"{head[row, col]:.5f}\")\n",
    "#     print(\" | \".join(row_data))"
   ]
  },
  {
   "cell_type": "code",
   "execution_count": 171,
   "metadata": {},
   "outputs": [],
   "source": [
    "# wings = data[\"wings\"]\n",
    "# wings = wings[:, 0, 0, 0, :, 0]\n",
    "\n",
    "# for row in range(wings.shape[0]):\n",
    "#     row_data = []\n",
    "#     for col in range(wings.shape[1]):\n",
    "#         row_data.append(f\"{wings[row, col]:.5f}\")\n",
    "#     print(\" | \".join(row_data))"
   ]
  },
  {
   "cell_type": "code",
   "execution_count": 172,
   "metadata": {},
   "outputs": [],
   "source": [
    "# body = data[\"body\"]\n",
    "# body = body[:, 0, 0, 0, :, 0]\n",
    "\n",
    "# for row in range(body.shape[0]):\n",
    "#     row_data = []\n",
    "#     for col in range(body.shape[1]):\n",
    "#         row_data.append(f\"{body[row, col]:.5f}\")\n",
    "#     print(\" | \".join(row_data))"
   ]
  },
  {
   "cell_type": "code",
   "execution_count": 173,
   "metadata": {},
   "outputs": [
    {
     "name": "stdout",
     "output_type": "stream",
     "text": [
      "(8, 8, 4, 4, 4, 4)\n",
      "(8, 8, 4, 4, 4, 4)\n",
      "(8, 8, 4, 4, 4, 4)\n",
      "(8, 8, 4, 4, 4, 4)\n"
     ]
    }
   ],
   "source": [
    "exc_QTM = data[\"exc\"]\n",
    "head_QTM = data[\"head\"]\n",
    "wings_QTM = data[\"wings\"]\n",
    "body_QTM = data[\"body\"]\n",
    "\n",
    "print(exc_QTM.shape)\n",
    "print(head_QTM.shape)\n",
    "print(wings_QTM.shape)\n",
    "print(body_QTM.shape)"
   ]
  },
  {
   "cell_type": "code",
   "execution_count": 174,
   "metadata": {},
   "outputs": [
    {
     "name": "stdout",
     "output_type": "stream",
     "text": [
      "Body_BGW (8, 8, 4, 4, 4, 4)\n",
      "Head_BGW (8, 8, 4, 4, 4, 4)\n",
      "Wings_BGW (8, 8, 4, 4, 4, 4)\n",
      "Exc_BGW (8, 8, 4, 4, 4, 4)\n"
     ]
    }
   ],
   "source": [
    "with h5py.File(dirname + 'bsemat.h5', 'r') as f:\n",
    "    body_BGW = f['mats/body']\n",
    "    head_BGW = f['mats/head']\n",
    "    wings_BGW = f['mats/wing']\n",
    "    exc_BGW = f['mats/exchange']\n",
    "\n",
    "    body_BGW = body_BGW[..., 0] + body_BGW[..., 1] * 1j\n",
    "    head_BGW = head_BGW[..., 0] + head_BGW[..., 1] * 1j\n",
    "    wings_BGW = wings_BGW[..., 0] + wings_BGW[..., 1] * 1j\n",
    "    exc_BGW = exc_BGW[..., 0] + exc_BGW[..., 1] * 1j\n",
    "\n",
    "    print(\"Body_BGW\", body_BGW.shape)\n",
    "    print(\"Head_BGW\", head_BGW.shape)\n",
    "    print(\"Wings_BGW\", wings_BGW.shape)\n",
    "    print(\"Exc_BGW\", exc_BGW.shape)"
   ]
  },
  {
   "cell_type": "code",
   "execution_count": 175,
   "metadata": {},
   "outputs": [],
   "source": [
    "exc_BGW = exc_BGW.transpose(1, 0, 3, 2, 5, 4)\n",
    "body_BGW = body_BGW.transpose(1, 0, 3, 2, 5, 4)\n",
    "head_BGW = head_BGW.transpose(1, 0, 3, 2, 5, 4)\n",
    "wings_BGW = wings_BGW.transpose(1, 0, 3, 2, 5, 4)"
   ]
  },
  {
   "cell_type": "code",
   "execution_count": 176,
   "metadata": {},
   "outputs": [],
   "source": [
    "diff_exc = np.abs(exc_BGW - exc_QTM)\n",
    "sum_exc = diff_exc.sum(axis=(2, 3, 4, 5))\n",
    "norm_diff_exc = sum_exc / (4 * 4 * 4 * 4)"
   ]
  },
  {
   "cell_type": "code",
   "execution_count": 177,
   "metadata": {},
   "outputs": [],
   "source": [
    "diff_body = np.abs(body_BGW - body_QTM)\n",
    "sum_body = diff_body.sum(axis=(2, 3, 4, 5))\n",
    "norm_diff_body = sum_body / (4 * 4 * 4 * 4)"
   ]
  },
  {
   "cell_type": "code",
   "execution_count": 178,
   "metadata": {},
   "outputs": [],
   "source": [
    "diff_head = np.abs(head_BGW - head_QTM)\n",
    "sum_head = diff_head.sum(axis=(2, 3, 4, 5))\n",
    "norm_diff_head = sum_head / (4 * 4 * 4 * 4)"
   ]
  },
  {
   "cell_type": "code",
   "execution_count": 179,
   "metadata": {},
   "outputs": [],
   "source": [
    "diff_wings = np.abs(wings_BGW - wings_QTM)\n",
    "sum_wings = diff_wings.sum(axis=(2, 3, 4, 5))\n",
    "norm_diff_wings = sum_wings / (4 * 4 * 4 * 4)"
   ]
  },
  {
   "cell_type": "code",
   "execution_count": 180,
   "metadata": {},
   "outputs": [],
   "source": [
    "import numpy as np\n",
    "import matplotlib.pyplot as plt\n",
    "import matplotlib as mpl\n",
    "from matplotlib.ticker import MaxNLocator\n",
    "\n",
    "# 1) set global font to CMU Serif\n",
    "mpl.rcParams['axes.unicode_minus'] = False\n",
    "mpl.rcParams['font.family']  = 'serif'\n",
    "mpl.rcParams['font.serif']   = ['CMU Serif']    # make sure CMU Serif is installed\n",
    "mpl.rcParams['text.usetex']        = False    # or True, if you have a full LaTeX install\n",
    "mpl.rcParams['mathtext.fontset']   = 'cm'     # use Computer Modern for math\n",
    "mpl.rcParams['mathtext.default']   = 'regular'\n",
    "\n",
    "def plot_norm_diff(norm_diff, save_name = \"save\", title='kernel', cmap_limits=None, max_ticks=10):\n",
    "    \"\"\"\n",
    "    norm_diff : 2D array to image\n",
    "    title     : plot title\n",
    "    cmap_limits : (vmin, vmax) tuple or None\n",
    "    max_ticks : maximum number of tick labels along each axis\n",
    "    \"\"\"\n",
    "    k1, k2 = norm_diff.shape\n",
    "\n",
    "    fig, ax = plt.subplots(figsize=(6, 5))\n",
    "\n",
    "    im = ax.imshow(\n",
    "        norm_diff,\n",
    "        origin='lower',\n",
    "        aspect='auto',\n",
    "        cmap='gist_heat',                      # 2) use red‐toned colormap\n",
    "        vmin=None if cmap_limits is None else cmap_limits[0],\n",
    "        vmax=None if cmap_limits is None else cmap_limits[1],\n",
    "    )\n",
    "\n",
    "    # 3) throttle the number of major tick labels\n",
    "    ax.xaxis.set_major_locator(MaxNLocator(nbins=max_ticks, integer=True))\n",
    "    ax.yaxis.set_major_locator(MaxNLocator(nbins=max_ticks, integer=True))\n",
    "\n",
    "    # keep the white grid between cells\n",
    "    ax.set_xticks(np.arange(-.5, k2, 1), minor=True)\n",
    "    ax.set_yticks(np.arange(-.5, k1, 1), minor=True)\n",
    "    ax.grid(which='minor', color='white', linestyle='-', linewidth=0.5)\n",
    "    ax.tick_params(which='minor', bottom=False, left=False)\n",
    "\n",
    "    cbar = plt.colorbar(im, ax=ax)\n",
    "    ax.set_xlabel(r'$k_{1}$')\n",
    "    ax.set_ylabel(r\"$k_{2}$\")\n",
    "    ax.set_title(title)\n",
    "    plt.tight_layout()\n",
    "\n",
    "    fname = save_name + '.png'\n",
    "    fig.savefig(fname, dpi=1200, bbox_inches='tight')\n",
    "    print(f\"Saved figure as {fname}\")\n",
    "    plt.show()\n"
   ]
  },
  {
   "cell_type": "code",
   "execution_count": 181,
   "metadata": {},
   "outputs": [],
   "source": [
    "# plot_norm_diff(norm_diff_exc, title=\"Exchange Kernel\", cmap_limits=(0, 1e-10))"
   ]
  },
  {
   "cell_type": "code",
   "execution_count": 182,
   "metadata": {},
   "outputs": [],
   "source": [
    "# plot_norm_diff(norm_diff_head, title=\"Head Kernel\", cmap_limits=(0, 1e-10))"
   ]
  },
  {
   "cell_type": "code",
   "execution_count": 183,
   "metadata": {},
   "outputs": [],
   "source": [
    "# plot_norm_diff(norm_diff_body, title=\"Body Kernel\",)\n"
   ]
  },
  {
   "cell_type": "code",
   "execution_count": 184,
   "metadata": {},
   "outputs": [],
   "source": [
    "# plot_norm_diff(norm_diff_wings, title=\"Wings Kernel\",)"
   ]
  },
  {
   "cell_type": "code",
   "execution_count": 185,
   "metadata": {},
   "outputs": [],
   "source": [
    "norm_diff_mvc = np.zeros((4, 4))\n",
    "norm_diff_mccp = np.zeros((4, 4))\n",
    "norm_diff_mvvp = np.zeros((4, 4))\n",
    "\n",
    "norm_diff_dvv = np.zeros((4, 4))\n",
    "norm_diff_dcc = np.zeros((4, 4))"
   ]
  },
  {
   "cell_type": "code",
   "execution_count": 186,
   "metadata": {},
   "outputs": [],
   "source": [
    "# plot_norm_diff(norm_diff_mvc, save_name=\"mvc\", title=r\"$M_{vc}(k_{3}, k'_{7})$\", cmap_limits=(0, 1e-10))\n",
    "\n",
    "# plot_norm_diff(norm_diff_mccp, save_name=\"mccp\", title=r\"$M_{cc'}(k_{3}, k'_{7})$\", cmap_limits=(0, 1e-10))\n",
    "\n",
    "# plot_norm_diff(norm_diff_mvvp, save_name=\"mvvp\", title=r\"$M_{vv'}(k_{3}, k'_{7})$\", cmap_limits=(0, 1e-10))\n",
    "\n",
    "# plot_norm_diff(norm_diff_dvv, save_name=\"dvv\", title=r\"$C^{k_{co}}_{vv}(k^{fi}_{3}, k^{co}_{7})$\", cmap_limits=(0, 1e-10))\n",
    "\n",
    "# plot_norm_diff(norm_diff_dcc, save_name=\"dcc\", title=r\"$C^{k_{co}}_{cc}(k^{fi}_{3}, k^{co}_{7})$\", cmap_limits=(0, 1e-10))\n"
   ]
  },
  {
   "cell_type": "code",
   "execution_count": 189,
   "metadata": {},
   "outputs": [
    {
     "name": "stdout",
     "output_type": "stream",
     "text": [
      "Saved figure as velmtx.png\n"
     ]
    },
    {
     "data": {
      "image/png": "[encoded data removed]",
      "text/plain": [
       "<Figure size 600x500 with 2 Axes>"
      ]
     },
     "metadata": {},
     "output_type": "display_data"
    }
   ],
   "source": [
    "diff_norm_velmtx = np.zeros((8,8))\n",
    "plot_norm_diff(diff_norm_velmtx, save_name=\"velmtx\", title=r\"$\\langle vk|\\vec r|ck\\rangle$\", cmap_limits=(0, 1e-10))\n"
   ]
  }
 ],
 "metadata": {
  "kernelspec": {
   "display_name": "qtm",
   "language": "python",
   "name": "python3"
  },
  "language_info": {
   "codemirror_mode": {
    "name": "ipython",
    "version": 3
   },
   "file_extension": ".py",
   "mimetype": "text/x-python",
   "name": "python",
   "nbconvert_exporter": "python",
   "pygments_lexer": "ipython3",
   "version": "3.11.10"
  }
 },
 "nbformat": 4,
 "nbformat_minor": 2
}
