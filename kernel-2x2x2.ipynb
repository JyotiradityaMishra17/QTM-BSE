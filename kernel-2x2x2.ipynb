{
 "cells": [
  {
   "cell_type": "code",
   "execution_count": 1,
   "metadata": {},
   "outputs": [],
   "source": [
    "import numpy as np\n",
    "import h5py\n",
    "import sys\n",
    "\n",
    "\n",
    "sys.path.append(\".\")\n",
    "dirname = \"./bgw_files/k-2x2x2/\""
   ]
  },
  {
   "cell_type": "code",
   "execution_count": 2,
   "metadata": {},
   "outputs": [],
   "source": [
    "# epsinp and sigmain data.\n",
    "from qtm.interfaces.bgw.epsinp import Epsinp\n",
    "epsinp = Epsinp.from_epsilon_inp(filename=dirname+'epsilon.inp')\n",
    "\n",
    "from qtm.interfaces.bgw.sigmainp import Sigmainp\n",
    "sigmainp = Sigmainp.from_sigma_inp(filename=dirname+'sigma.inp')"
   ]
  },
  {
   "cell_type": "code",
   "execution_count": 3,
   "metadata": {},
   "outputs": [],
   "source": [
    "from qtm.interfaces.bgw import inp\n",
    "from qtm.interfaces.bgw.wfn2py import wfn2py\n",
    "\n",
    "# Read wfndata\n",
    "wfndata = wfn2py(dirname + \"WFN.h5\")\n",
    "wfnqdata = wfn2py(dirname + \"WFNq.h5\")\n",
    "\n",
    "# Read rho\n",
    "rho = inp.read_rho(dirname + \"RHO\")\n",
    "\n",
    "# Read vxc \n",
    "vxc = inp.read_vxc(dirname + \"vxc.dat\") "
   ]
  },
  {
   "cell_type": "code",
   "execution_count": 4,
   "metadata": {},
   "outputs": [
    {
     "name": "stderr",
     "output_type": "stream",
     "text": [
      "Vcoul calculation for qpts: 100%|██████████| 8/8 [00:00<00:00, 16108.70it/s]\n"
     ]
    }
   ],
   "source": [
    "from qtm.gw.core import QPoints\n",
    "from qtm.gw.epsilon import Epsilon\n",
    "\n",
    "epsilon = Epsilon.from_data(wfndata=wfndata, wfnqdata=wfnqdata, epsinp=epsinp)"
   ]
  },
  {
   "cell_type": "code",
   "execution_count": 5,
   "metadata": {},
   "outputs": [
    {
     "name": "stderr",
     "output_type": "stream",
     "text": [
      "Vcoul calculation for qpts: 100%|██████████| 8/8 [00:00<00:00, 17128.35it/s]\n",
      "Epsilon> q-pt index: 100%|██████████| 8/8 [00:00<00:00, 139.01it/s]"
     ]
    },
    {
     "name": "stdout",
     "output_type": "stream",
     "text": [
      "Standard deviation exceeded 1e-16 tolerance: 2.5494915419483335e-15, for i_q:0\n"
     ]
    },
    {
     "name": "stderr",
     "output_type": "stream",
     "text": [
      "\n"
     ]
    }
   ],
   "source": [
    "from tqdm import trange\n",
    "from qtm.gw.core import reorder_2d_matrix_sorted_gvecs, sort_cryst_like_BGW\n",
    "\n",
    "\n",
    "def calculate_epsilon(numq=None, writing=False):\n",
    "    epsmats = []\n",
    "    if numq is None:\n",
    "        numq = epsilon.qpts.numq\n",
    "\n",
    "    for i_q in trange(0, numq, desc=\"Epsilon> q-pt index\"):\n",
    "        # Create map between BGW's sorting order and QTm's sorting order\n",
    "        gkspc = epsilon.l_gq[i_q]\n",
    "        \n",
    "        if i_q == epsilon.qpts.index_q0:\n",
    "            key = gkspc.g_norm2\n",
    "        else:\n",
    "            key = gkspc.gk_norm2\n",
    "\n",
    "        indices_gspace_sorted = sort_cryst_like_BGW(\n",
    "            cryst=gkspc.g_cryst, key_array=key\n",
    "        )\n",
    "       \n",
    "\n",
    "        # Calculate matrix elements\n",
    "        M = next(epsilon.matrix_elements(i_q=i_q))\n",
    "\n",
    "        # Calculate polarizability matrix (faster, but not memory-efficient)\n",
    "        chimat = epsilon.polarizability(M)\n",
    "\n",
    "        # Calculate polarizability matrix (memory-efficient)\n",
    "        # chimat = epsilon.polarizability_active(i_q)\n",
    "\n",
    "        # Calculate epsilon inverse matrix\n",
    "        epsinv0 = epsilon.epsilon_inverse(i_q=i_q, polarizability_matrix=chimat, store=True)\n",
    "        epsinv = reorder_2d_matrix_sorted_gvecs(epsinv0, indices_gspace_sorted)\n",
    "\n",
    "        epsilon.l_epsinv[i_q] = epsinv\n",
    "\n",
    "        \n",
    "        # Compare the results with BGW's results\n",
    "        if i_q == epsilon.qpts.index_q0:\n",
    "            epsref = epsilon.read_epsmat(dirname + \"eps0mat.h5\")[0][0, 0]\n",
    "            if writing:\n",
    "                epsilon.write_epsmat(\n",
    "                    filename=\"test/epsilon/eps0mat_qtm.h5\", epsinvmats=[epsinv]\n",
    "                )\n",
    "        else:\n",
    "            epsref = np.array(epsilon.read_epsmat(dirname + \"epsmat.h5\")[i_q - 1][0, 0])\n",
    "            epsmats.append(epsinv)\n",
    "\n",
    "        # Calculate stddev between reference and calculated epsinv matrices\n",
    "        std_eps = np.std(epsref - epsinv) / np.sqrt(np.prod(list(epsinv.shape)))\n",
    "\n",
    "\n",
    "        epstol = 1e-16\n",
    "        if np.abs(std_eps) > epstol:\n",
    "            print(f\"Standard deviation exceeded {epstol} tolerance: {std_eps}, for i_q:{i_q}\")\n",
    "\n",
    "\n",
    "    if writing:\n",
    "        epsilon.write_epsmat(filename=\"test/epsilon/epsmat_qtm.h5\", epsinvmats=epsmats)\n",
    "\n",
    "\n",
    "epsinp.no_min_fftgrid = True\n",
    "epsilon = Epsilon.from_data(wfndata=wfndata, wfnqdata=wfnqdata, epsinp=epsinp)\n",
    "\n",
    "calculate_epsilon()"
   ]
  },
  {
   "cell_type": "code",
   "execution_count": 6,
   "metadata": {},
   "outputs": [],
   "source": [
    "from kernel import KernelMtxEl\n",
    "\n",
    "q0val = [0.001, 0.001, 0.001]\n"
   ]
  },
  {
   "cell_type": "code",
   "execution_count": 7,
   "metadata": {},
   "outputs": [],
   "source": [
    "kernelclass = KernelMtxEl.from_BGW(\n",
    "    wfndata=wfndata,\n",
    "    epsinp=epsinp,\n",
    "    sigmainp=sigmainp,\n",
    "    l_epsmats=epsilon.l_epsinv,\n",
    "    q0=q0val,\n",
    "    parallel=False,\n",
    "    num_bands_val=4,\n",
    "    num_bands_con=4,\n",
    ")"
   ]
  },
  {
   "cell_type": "code",
   "execution_count": 8,
   "metadata": {},
   "outputs": [],
   "source": [
    "data = kernelclass.kernel_mtxel()"
   ]
  },
  {
   "cell_type": "code",
   "execution_count": 9,
   "metadata": {},
   "outputs": [
    {
     "name": "stdout",
     "output_type": "stream",
     "text": [
      "(8, 8, 4, 4, 4, 4)\n",
      "0.47881-0.00000j | -0.04249-0.11703j | -0.07744+0.11279j | -0.14912-0.04517j\n",
      "-0.02994-0.11418j | -0.09566-0.02049j | 0.00000+0.00000j | -0.00923+0.05191j\n",
      "-0.07084-0.02386j | -0.07431-0.08646j | 0.00000-0.00000j | 0.00429-0.02547j\n",
      "-0.06933+0.12470j | 0.00074+0.00153j | 0.19405+0.28543j | 0.00221+0.00358j\n",
      "-0.10282+0.15727j | -0.01911+0.00103j | -0.00000-0.00000j | 0.10199+0.05572j\n",
      "0.01616-0.05548j | 0.00116-0.00065j | -0.03015-0.13417j | -0.00258-0.00320j\n",
      "0.02306+0.09088j | -0.00104+0.00002j | 0.21673-0.04781j | 0.00241-0.00823j\n",
      "0.00050-0.00007j | -0.00079+0.00097j | 0.00000-0.00000j | -0.00624-0.02131j\n"
     ]
    }
   ],
   "source": [
    "exc = data[\"exc\"]\n",
    "print(exc.shape)\n",
    "exc = exc[:, 0, 0, 0, :, 0]\n",
    "\n",
    "for row in range(exc.shape[0]):\n",
    "    row_data = []\n",
    "    for col in range(exc.shape[1]):\n",
    "        row_data.append(f\"{exc[row, col]:.5f}\")\n",
    "    print(\" | \".join(row_data))"
   ]
  },
  {
   "cell_type": "code",
   "execution_count": 10,
   "metadata": {},
   "outputs": [
    {
     "name": "stdout",
     "output_type": "stream",
     "text": [
      "1.00000-0.00000j | -0.00000+0.00000j | -0.00000+0.00000j | 0.00000-0.00000j\n",
      "-0.05016-0.19131j | -0.00125-0.00027j | -0.04869+0.00027j | -0.00623+0.03513j\n",
      "-0.11326-0.03814j | 0.00013+0.00015j | 0.02803-0.00070j | 0.00341-0.02026j\n",
      "-0.12329+0.21733j | -0.00113+0.00381j | 0.06187+0.09459j | 0.09721-0.05767j\n",
      "-0.17991+0.27518j | -0.00256+0.00014j | 0.08066+0.00778j | 0.05211+0.02848j\n",
      "0.02843-0.09821j | 0.00201-0.00116j | -0.00912-0.04691j | -0.03805+0.02892j\n",
      "0.04308+0.15990j | -0.00157+0.00185j | 0.07366-0.01392j | -0.07127-0.02325j\n",
      "-0.00000+0.00000j | -0.00008+0.00010j | 0.00884-0.00033j | -0.00182-0.00622j\n"
     ]
    }
   ],
   "source": [
    "head = data[\"head\"]\n",
    "head = head[:, 0, 0, 0, :, 0]\n",
    "\n",
    "for row in range(head.shape[0]):\n",
    "    row_data = []\n",
    "    for col in range(head.shape[1]):\n",
    "        row_data.append(f\"{head[row, col]:.5f}\")\n",
    "    print(\" | \".join(row_data))"
   ]
  },
  {
   "cell_type": "code",
   "execution_count": 11,
   "metadata": {},
   "outputs": [
    {
     "name": "stdout",
     "output_type": "stream",
     "text": [
      "0.00000+0.00000j | 0.00000+0.00000j | 0.00000+0.00000j | 0.00000+0.00000j\n",
      "-0.02333-0.08898j | -0.00058-0.00013j | 0.00859-0.00005j | -0.00316+0.01779j\n",
      "-0.05267-0.01774j | 0.00006+0.00007j | -0.00495+0.00012j | 0.00173-0.01026j\n",
      "0.00336-0.00592j | 0.00003-0.00010j | -0.00229-0.00349j | -0.00359+0.00212j\n",
      "-0.08366+0.12798j | -0.00119+0.00007j | -0.01424-0.00137j | 0.02639+0.01442j\n",
      "-0.00077+0.00268j | -0.00005+0.00003j | 0.00034+0.00173j | 0.00140-0.00107j\n",
      "-0.00117-0.00436j | 0.00004-0.00005j | -0.00272+0.00052j | 0.00263+0.00086j\n",
      "-0.00000+0.00000j | -0.00007+0.00008j | -0.00270+0.00010j | -0.00160-0.00546j\n"
     ]
    }
   ],
   "source": [
    "wings = data[\"wings\"]\n",
    "wings = wings[:, 0, 0, 0, :, 0]\n",
    "\n",
    "for row in range(wings.shape[0]):\n",
    "    row_data = []\n",
    "    for col in range(wings.shape[1]):\n",
    "        row_data.append(f\"{wings[row, col]:.5f}\")\n",
    "    print(\" | \".join(row_data))"
   ]
  },
  {
   "cell_type": "code",
   "execution_count": 12,
   "metadata": {},
   "outputs": [
    {
     "name": "stdout",
     "output_type": "stream",
     "text": [
      "0.26817-0.00000j | -0.02549-0.07022j | -0.04373+0.06368j | -0.11062-0.03350j\n",
      "-0.08153-0.31100j | 0.05704+0.01221j | 0.06070-0.00033j | -0.00875+0.04920j\n",
      "-0.18194-0.06128j | 0.04663+0.05426j | -0.03495+0.00086j | 0.00415-0.02460j\n",
      "-0.20591+0.37437j | 0.00442+0.00351j | 0.21275+0.30972j | -0.08405+0.05822j\n",
      "-0.29583+0.45252j | 0.00681-0.00036j | -0.10056-0.00970j | 0.09405+0.05139j\n",
      "0.04851-0.16597j | 0.00348-0.00192j | -0.03392-0.14523j | 0.03083-0.03054j\n",
      "0.06688+0.27254j | -0.00317-0.00162j | 0.23370-0.05366j | 0.06738+0.01084j\n",
      "0.01449-0.00175j | -0.00377+0.00461j | -0.01102+0.00040j | -0.00554-0.01893j\n"
     ]
    }
   ],
   "source": [
    "body = data[\"body\"]\n",
    "body = body[:, 0, 0, 0, :, 0]\n",
    "\n",
    "for row in range(body.shape[0]):\n",
    "    row_data = []\n",
    "    for col in range(body.shape[1]):\n",
    "        row_data.append(f\"{body[row, col]:.5f}\")\n",
    "    print(\" | \".join(row_data))"
   ]
  },
  {
   "cell_type": "code",
   "execution_count": 13,
   "metadata": {},
   "outputs": [
    {
     "name": "stdout",
     "output_type": "stream",
     "text": [
      "(8, 8, 4, 4, 4, 4)\n",
      "(8, 8, 4, 4, 4, 4)\n",
      "(8, 8, 4, 4, 4, 4)\n",
      "(8, 8, 4, 4, 4, 4)\n"
     ]
    }
   ],
   "source": [
    "exc_QTM = data[\"exc\"]\n",
    "head_QTM = data[\"head\"]\n",
    "wings_QTM = data[\"wings\"]\n",
    "body_QTM = data[\"body\"]\n",
    "\n",
    "print(exc_QTM.shape)\n",
    "print(head_QTM.shape)\n",
    "print(wings_QTM.shape)\n",
    "print(body_QTM.shape)"
   ]
  },
  {
   "cell_type": "code",
   "execution_count": 14,
   "metadata": {},
   "outputs": [
    {
     "name": "stdout",
     "output_type": "stream",
     "text": [
      "Body_BGW (8, 8, 4, 4, 4, 4)\n",
      "Head_BGW (8, 8, 4, 4, 4, 4)\n",
      "Wings_BGW (8, 8, 4, 4, 4, 4)\n",
      "Exc_BGW (8, 8, 4, 4, 4, 4)\n"
     ]
    }
   ],
   "source": [
    "with h5py.File(dirname + 'bsemat.h5', 'r') as f:\n",
    "    body_BGW = f['mats/body']\n",
    "    head_BGW = f['mats/head']\n",
    "    wings_BGW = f['mats/wing']\n",
    "    exc_BGW = f['mats/exchange']\n",
    "\n",
    "    body_BGW = body_BGW[..., 0] + body_BGW[..., 1] * 1j\n",
    "    head_BGW = head_BGW[..., 0] + head_BGW[..., 1] * 1j\n",
    "    wings_BGW = wings_BGW[..., 0] + wings_BGW[..., 1] * 1j\n",
    "    exc_BGW = exc_BGW[..., 0] + exc_BGW[..., 1] * 1j\n",
    "\n",
    "    print(\"Body_BGW\", body_BGW.shape)\n",
    "    print(\"Head_BGW\", head_BGW.shape)\n",
    "    print(\"Wings_BGW\", wings_BGW.shape)\n",
    "    print(\"Exc_BGW\", exc_BGW.shape)"
   ]
  },
  {
   "cell_type": "code",
   "execution_count": 15,
   "metadata": {},
   "outputs": [],
   "source": [
    "exc_BGW = exc_BGW.transpose(1, 0, 3, 2, 5, 4)\n",
    "body_BGW = body_BGW.transpose(1, 0, 3, 2, 5, 4)\n",
    "head_BGW = head_BGW.transpose(1, 0, 3, 2, 5, 4)\n",
    "wings_BGW = wings_BGW.transpose(1, 0, 3, 2, 5, 4)"
   ]
  },
  {
   "cell_type": "code",
   "execution_count": 16,
   "metadata": {},
   "outputs": [],
   "source": [
    "diff_exc = np.abs(exc_BGW - exc_QTM)\n",
    "sum_exc = diff_exc.sum(axis=(2, 3, 4, 5))\n",
    "norm_diff_exc = sum_exc / (4 * 4 * 4 * 4)"
   ]
  },
  {
   "cell_type": "code",
   "execution_count": 17,
   "metadata": {},
   "outputs": [],
   "source": [
    "diff_body = np.abs(body_BGW - body_QTM)\n",
    "sum_body = diff_body.sum(axis=(2, 3, 4, 5))\n",
    "norm_diff_body = sum_body / (4 * 4 * 4 * 4)"
   ]
  },
  {
   "cell_type": "code",
   "execution_count": 18,
   "metadata": {},
   "outputs": [],
   "source": [
    "diff_head = np.abs(head_BGW - head_QTM)\n",
    "sum_head = diff_head.sum(axis=(2, 3, 4, 5))\n",
    "norm_diff_head = sum_head / (4 * 4 * 4 * 4)"
   ]
  },
  {
   "cell_type": "code",
   "execution_count": 19,
   "metadata": {},
   "outputs": [],
   "source": [
    "diff_wings = np.abs(wings_BGW - wings_QTM)\n",
    "sum_wings = diff_wings.sum(axis=(2, 3, 4, 5))\n",
    "norm_diff_wings = sum_wings / (4 * 4 * 4 * 4)"
   ]
  }
 ],
 "metadata": {
  "kernelspec": {
   "display_name": "qtm",
   "language": "python",
   "name": "python3"
  },
  "language_info": {
   "codemirror_mode": {
    "name": "ipython",
    "version": 3
   },
   "file_extension": ".py",
   "mimetype": "text/x-python",
   "name": "python",
   "nbconvert_exporter": "python",
   "pygments_lexer": "ipython3",
   "version": "3.11.10"
  }
 },
 "nbformat": 4,
 "nbformat_minor": 2
}
