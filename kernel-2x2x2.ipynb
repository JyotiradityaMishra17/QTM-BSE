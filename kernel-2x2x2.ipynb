{
 "cells": [
  {
   "cell_type": "code",
   "execution_count": 37,
   "metadata": {},
   "outputs": [],
   "source": [
    "import numpy as np\n",
    "import h5py\n",
    "import sys\n",
    "\n",
    "\n",
    "sys.path.append(\".\")\n",
    "dirname = \"./bgw_files/k-2x2x2/\""
   ]
  },
  {
   "cell_type": "code",
   "execution_count": 38,
   "metadata": {},
   "outputs": [],
   "source": [
    "# epsinp and sigmain data.\n",
    "from qtm.interfaces.bgw.epsinp import Epsinp\n",
    "epsinp = Epsinp.from_epsilon_inp(filename=dirname+'epsilon.inp')\n",
    "\n",
    "from qtm.interfaces.bgw.sigmainp import Sigmainp\n",
    "sigmainp = Sigmainp.from_sigma_inp(filename=dirname+'sigma.inp')"
   ]
  },
  {
   "cell_type": "code",
   "execution_count": 39,
   "metadata": {},
   "outputs": [],
   "source": [
    "from qtm.interfaces.bgw import inp\n",
    "from qtm.interfaces.bgw.wfn2py import wfn2py\n",
    "\n",
    "# Read wfndata\n",
    "wfndata = wfn2py(dirname + \"WFN.h5\")\n",
    "wfnqdata = wfn2py(dirname + \"WFNq.h5\")\n",
    "\n",
    "# Read rho\n",
    "rho = inp.read_rho(dirname + \"RHO\")\n",
    "\n",
    "# Read vxc \n",
    "vxc = inp.read_vxc(dirname + \"vxc.dat\") "
   ]
  },
  {
   "cell_type": "code",
   "execution_count": 40,
   "metadata": {},
   "outputs": [
    {
     "name": "stderr",
     "output_type": "stream",
     "text": [
      "Vcoul calculation for qpts: 100%|██████████| 8/8 [00:00<00:00, 7703.04it/s]\n"
     ]
    }
   ],
   "source": [
    "from qtm.gw.core import QPoints\n",
    "from qtm.gw.epsilon import Epsilon\n",
    "\n",
    "epsilon = Epsilon.from_data(wfndata=wfndata, wfnqdata=wfnqdata, epsinp=epsinp)"
   ]
  },
  {
   "cell_type": "code",
   "execution_count": 41,
   "metadata": {},
   "outputs": [
    {
     "name": "stderr",
     "output_type": "stream",
     "text": [
      "Vcoul calculation for qpts: 100%|██████████| 8/8 [00:00<00:00, 17905.25it/s]\n",
      "Epsilon> q-pt index: 100%|██████████| 8/8 [00:00<00:00, 129.40it/s]"
     ]
    },
    {
     "name": "stdout",
     "output_type": "stream",
     "text": [
      "Standard deviation exceeded 1e-16 tolerance: 2.5494915419483335e-15, for i_q:0\n"
     ]
    },
    {
     "name": "stderr",
     "output_type": "stream",
     "text": [
      "\n"
     ]
    }
   ],
   "source": [
    "from tqdm import trange\n",
    "from qtm.gw.core import reorder_2d_matrix_sorted_gvecs, sort_cryst_like_BGW\n",
    "\n",
    "\n",
    "def calculate_epsilon(numq=None, writing=False):\n",
    "    epsmats = []\n",
    "    if numq is None:\n",
    "        numq = epsilon.qpts.numq\n",
    "\n",
    "    for i_q in trange(0, numq, desc=\"Epsilon> q-pt index\"):\n",
    "        # Create map between BGW's sorting order and QTm's sorting order\n",
    "        gkspc = epsilon.l_gq[i_q]\n",
    "        \n",
    "        if i_q == epsilon.qpts.index_q0:\n",
    "            key = gkspc.g_norm2\n",
    "        else:\n",
    "            key = gkspc.gk_norm2\n",
    "\n",
    "        indices_gspace_sorted = sort_cryst_like_BGW(\n",
    "            cryst=gkspc.g_cryst, key_array=key\n",
    "        )\n",
    "       \n",
    "\n",
    "        # Calculate matrix elements\n",
    "        M = next(epsilon.matrix_elements(i_q=i_q))\n",
    "\n",
    "        # Calculate polarizability matrix (faster, but not memory-efficient)\n",
    "        chimat = epsilon.polarizability(M)\n",
    "\n",
    "        # Calculate polarizability matrix (memory-efficient)\n",
    "        # chimat = epsilon.polarizability_active(i_q)\n",
    "\n",
    "        # Calculate epsilon inverse matrix\n",
    "        epsinv0 = epsilon.epsilon_inverse(i_q=i_q, polarizability_matrix=chimat, store=True)\n",
    "        epsinv = reorder_2d_matrix_sorted_gvecs(epsinv0, indices_gspace_sorted)\n",
    "\n",
    "        epsilon.l_epsinv[i_q] = epsinv\n",
    "\n",
    "        \n",
    "        # Compare the results with BGW's results\n",
    "        if i_q == epsilon.qpts.index_q0:\n",
    "            epsref = epsilon.read_epsmat(dirname + \"eps0mat.h5\")[0][0, 0]\n",
    "            if writing:\n",
    "                epsilon.write_epsmat(\n",
    "                    filename=\"test/epsilon/eps0mat_qtm.h5\", epsinvmats=[epsinv]\n",
    "                )\n",
    "        else:\n",
    "            epsref = np.array(epsilon.read_epsmat(dirname + \"epsmat.h5\")[i_q - 1][0, 0])\n",
    "            epsmats.append(epsinv)\n",
    "\n",
    "        # Calculate stddev between reference and calculated epsinv matrices\n",
    "        std_eps = np.std(epsref - epsinv) / np.sqrt(np.prod(list(epsinv.shape)))\n",
    "\n",
    "\n",
    "        epstol = 1e-16\n",
    "        if np.abs(std_eps) > epstol:\n",
    "            print(f\"Standard deviation exceeded {epstol} tolerance: {std_eps}, for i_q:{i_q}\")\n",
    "\n",
    "\n",
    "    if writing:\n",
    "        epsilon.write_epsmat(filename=\"test/epsilon/epsmat_qtm.h5\", epsinvmats=epsmats)\n",
    "\n",
    "\n",
    "epsinp.no_min_fftgrid = True\n",
    "epsilon = Epsilon.from_data(wfndata=wfndata, wfnqdata=wfnqdata, epsinp=epsinp)\n",
    "\n",
    "calculate_epsilon()"
   ]
  },
  {
   "cell_type": "code",
   "execution_count": 42,
   "metadata": {},
   "outputs": [],
   "source": [
    "from kernel import KernelMtxEl\n",
    "\n",
    "q0val = [0.001, 0.001, 0.001]\n"
   ]
  },
  {
   "cell_type": "code",
   "execution_count": 43,
   "metadata": {},
   "outputs": [],
   "source": [
    "kernelclass = KernelMtxEl.from_BGW(\n",
    "    wfndata=wfndata,\n",
    "    epsinp=epsinp,\n",
    "    sigmainp=sigmainp,\n",
    "    l_epsmats=epsilon.l_epsinv,\n",
    "    q0=q0val,\n",
    "    parallel=False,\n",
    "    num_bands_val=2,\n",
    "    num_bands_con=1,\n",
    ")"
   ]
  },
  {
   "cell_type": "code",
   "execution_count": 44,
   "metadata": {},
   "outputs": [],
   "source": [
    "data = kernelclass.kernel_mtxel()"
   ]
  },
  {
   "cell_type": "code",
   "execution_count": 45,
   "metadata": {},
   "outputs": [
    {
     "name": "stdout",
     "output_type": "stream",
     "text": [
      "(8, 8, 1, 1, 2, 2)\n",
      "0.47881-0.00000j | -0.04249-0.11703j\n",
      "-0.02994-0.11418j | -0.09566-0.02049j\n",
      "-0.07084-0.02386j | -0.07431-0.08646j\n",
      "-0.06933+0.12470j | 0.00074+0.00153j\n",
      "-0.10282+0.15727j | -0.01911+0.00103j\n",
      "0.01616-0.05548j | 0.00116-0.00065j\n",
      "0.02306+0.09088j | -0.00104+0.00002j\n",
      "0.00050-0.00007j | -0.00079+0.00097j\n"
     ]
    }
   ],
   "source": [
    "exc = data[\"exc\"]\n",
    "print(exc.shape)\n",
    "exc = exc[:, 0, 0, 0, :, 0]\n",
    "\n",
    "for row in range(exc.shape[0]):\n",
    "    row_data = []\n",
    "    for col in range(exc.shape[1]):\n",
    "        row_data.append(f\"{exc[row, col]:.5f}\")\n",
    "    print(\" | \".join(row_data))"
   ]
  },
  {
   "cell_type": "code",
   "execution_count": 46,
   "metadata": {},
   "outputs": [
    {
     "name": "stdout",
     "output_type": "stream",
     "text": [
      "1.00000-0.00000j | -0.00000+0.00000j\n",
      "-0.05016-0.19131j | -0.00125-0.00027j\n",
      "-0.11326-0.03814j | 0.00013+0.00015j\n",
      "-0.12329+0.21733j | -0.00113+0.00381j\n",
      "-0.17991+0.27518j | -0.00256+0.00014j\n",
      "0.02843-0.09821j | 0.00201-0.00116j\n",
      "0.04308+0.15990j | -0.00157+0.00185j\n",
      "-0.00000+0.00000j | -0.00008+0.00010j\n"
     ]
    }
   ],
   "source": [
    "head = data[\"head\"]\n",
    "head = head[:, 0, 0, 0, :, 0]\n",
    "\n",
    "for row in range(head.shape[0]):\n",
    "    row_data = []\n",
    "    for col in range(head.shape[1]):\n",
    "        row_data.append(f\"{head[row, col]:.5f}\")\n",
    "    print(\" | \".join(row_data))"
   ]
  },
  {
   "cell_type": "code",
   "execution_count": 47,
   "metadata": {},
   "outputs": [
    {
     "name": "stdout",
     "output_type": "stream",
     "text": [
      "0.00000+0.00000j | 0.00000+0.00000j\n",
      "-0.02333-0.08898j | -0.00058-0.00013j\n",
      "-0.05267-0.01774j | 0.00006+0.00007j\n",
      "0.00336-0.00592j | 0.00003-0.00010j\n",
      "-0.08366+0.12798j | -0.00119+0.00007j\n",
      "-0.00077+0.00268j | -0.00005+0.00003j\n",
      "-0.00117-0.00436j | 0.00004-0.00005j\n",
      "-0.00000+0.00000j | -0.00007+0.00008j\n"
     ]
    }
   ],
   "source": [
    "wings = data[\"wings\"]\n",
    "wings = wings[:, 0, 0, 0, :, 0]\n",
    "\n",
    "for row in range(wings.shape[0]):\n",
    "    row_data = []\n",
    "    for col in range(wings.shape[1]):\n",
    "        row_data.append(f\"{wings[row, col]:.5f}\")\n",
    "    print(\" | \".join(row_data))"
   ]
  },
  {
   "cell_type": "code",
   "execution_count": 48,
   "metadata": {},
   "outputs": [
    {
     "name": "stdout",
     "output_type": "stream",
     "text": [
      "0.26817-0.00000j | -0.02549-0.07022j\n",
      "-0.08153-0.31100j | 0.05704+0.01221j\n",
      "-0.18194-0.06128j | 0.04663+0.05426j\n",
      "-0.20591+0.37437j | 0.00442+0.00351j\n",
      "-0.29583+0.45252j | 0.00681-0.00036j\n",
      "0.04851-0.16597j | 0.00348-0.00192j\n",
      "0.06688+0.27254j | -0.00317-0.00162j\n",
      "0.01449-0.00175j | -0.00377+0.00461j\n"
     ]
    }
   ],
   "source": [
    "body = data[\"body\"]\n",
    "body = body[:, 0, 0, 0, :, 0]\n",
    "\n",
    "for row in range(body.shape[0]):\n",
    "    row_data = []\n",
    "    for col in range(body.shape[1]):\n",
    "        row_data.append(f\"{body[row, col]:.5f}\")\n",
    "    print(\" | \".join(row_data))"
   ]
  }
 ],
 "metadata": {
  "kernelspec": {
   "display_name": "qtm",
   "language": "python",
   "name": "python3"
  },
  "language_info": {
   "codemirror_mode": {
    "name": "ipython",
    "version": 3
   },
   "file_extension": ".py",
   "mimetype": "text/x-python",
   "name": "python",
   "nbconvert_exporter": "python",
   "pygments_lexer": "ipython3",
   "version": "3.11.10"
  }
 },
 "nbformat": 4,
 "nbformat_minor": 2
}
