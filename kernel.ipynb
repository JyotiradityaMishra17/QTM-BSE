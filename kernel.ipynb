{
 "cells": [
  {
   "cell_type": "code",
   "execution_count": 1,
   "metadata": {},
   "outputs": [],
   "source": [
    "import numpy as np\n",
    "import h5py\n",
    "import sys\n",
    "\n",
    "\n",
    "sys.path.append(\".\")\n",
    "dirname = \"./bgw_files/\""
   ]
  },
  {
   "cell_type": "code",
   "execution_count": 2,
   "metadata": {},
   "outputs": [],
   "source": [
    "# epsinp and sigmain data.\n",
    "from qtm.interfaces.bgw.epsinp import Epsinp\n",
    "epsinp = Epsinp.from_epsilon_inp(filename=dirname+'epsilon.inp')\n",
    "\n",
    "from qtm.interfaces.bgw.sigmainp import Sigmainp\n",
    "sigmainp = Sigmainp.from_sigma_inp(filename=dirname+'sigma.inp')"
   ]
  },
  {
   "cell_type": "code",
   "execution_count": 3,
   "metadata": {},
   "outputs": [],
   "source": [
    "from qtm.interfaces.bgw import inp\n",
    "from qtm.interfaces.bgw.wfn2py import wfn2py\n",
    "\n",
    "# Read wfndata\n",
    "wfndata = wfn2py(dirname + \"WFN_co.h5\")\n",
    "wfnqdata = wfn2py(dirname + \"WFNq.h5\")\n",
    "\n",
    "# Read rho\n",
    "rho = inp.read_rho(dirname + \"RHO\")\n",
    "\n",
    "# Read vxc \n",
    "vxc = inp.read_vxc(dirname + \"vxc.dat\") "
   ]
  },
  {
   "cell_type": "code",
   "execution_count": 4,
   "metadata": {},
   "outputs": [
    {
     "name": "stderr",
     "output_type": "stream",
     "text": [
      "Vcoul calculation for qpts: 100%|██████████| 1/1 [00:00<00:00, 5940.94it/s]\n"
     ]
    }
   ],
   "source": [
    "from qtm.gw.core import QPoints\n",
    "from qtm.gw.epsilon import Epsilon\n",
    "\n",
    "epsilon = Epsilon.from_data(wfndata=wfndata, wfnqdata=wfnqdata, epsinp=epsinp)"
   ]
  },
  {
   "cell_type": "code",
   "execution_count": 5,
   "metadata": {},
   "outputs": [
    {
     "name": "stderr",
     "output_type": "stream",
     "text": [
      "Vcoul calculation for qpts: 100%|██████████| 1/1 [00:00<00:00, 4860.14it/s]\n",
      "Epsilon> q-pt index: 100%|██████████| 1/1 [00:00<00:00, 366.44it/s]"
     ]
    },
    {
     "name": "stdout",
     "output_type": "stream",
     "text": [
      "Standard deviation exceeded 1e-16 tolerance: 1.9894890166455426e-15, for i_q:0\n"
     ]
    },
    {
     "name": "stderr",
     "output_type": "stream",
     "text": [
      "\n"
     ]
    }
   ],
   "source": [
    "from tqdm import trange\n",
    "from qtm.gw.core import reorder_2d_matrix_sorted_gvecs, sort_cryst_like_BGW\n",
    "\n",
    "\n",
    "def calculate_epsilon(numq=None, writing=False):\n",
    "    epsmats = []\n",
    "    if numq is None:\n",
    "        numq = epsilon.qpts.numq\n",
    "\n",
    "    for i_q in trange(0, numq, desc=\"Epsilon> q-pt index\"):\n",
    "        # Create map between BGW's sorting order and QTm's sorting order\n",
    "        gkspc = epsilon.l_gq[i_q]\n",
    "        \n",
    "        if i_q == epsilon.qpts.index_q0:\n",
    "            key = gkspc.g_norm2\n",
    "        else:\n",
    "            key = gkspc.gk_norm2\n",
    "\n",
    "        indices_gspace_sorted = sort_cryst_like_BGW(\n",
    "            cryst=gkspc.g_cryst, key_array=key\n",
    "        )\n",
    "       \n",
    "\n",
    "        # Calculate matrix elements\n",
    "        M = next(epsilon.matrix_elements(i_q=i_q))\n",
    "\n",
    "        # Calculate polarizability matrix (faster, but not memory-efficient)\n",
    "        chimat = epsilon.polarizability(M)\n",
    "\n",
    "        # Calculate polarizability matrix (memory-efficient)\n",
    "        # chimat = epsilon.polarizability_active(i_q)\n",
    "\n",
    "        # Calculate epsilon inverse matrix\n",
    "        epsinv0 = epsilon.epsilon_inverse(i_q=i_q, polarizability_matrix=chimat, store=True)\n",
    "        epsinv = reorder_2d_matrix_sorted_gvecs(epsinv0, indices_gspace_sorted)\n",
    "\n",
    "        epsilon.l_epsinv[i_q] = epsinv\n",
    "\n",
    "        \n",
    "        # Compare the results with BGW's results\n",
    "        if i_q == epsilon.qpts.index_q0:\n",
    "            epsref = epsilon.read_epsmat(dirname + \"eps0mat.h5\")[0][0, 0]\n",
    "            if writing:\n",
    "                epsilon.write_epsmat(\n",
    "                    filename=\"test/epsilon/eps0mat_qtm.h5\", epsinvmats=[epsinv]\n",
    "                )\n",
    "        else:\n",
    "            epsref = np.array(epsilon.read_epsmat(dirname + \"epsmat.h5\")[i_q - 1][0, 0])\n",
    "            epsmats.append(epsinv)\n",
    "\n",
    "        # Calculate stddev between reference and calculated epsinv matrices\n",
    "        std_eps = np.std(epsref - epsinv) / np.sqrt(np.prod(list(epsinv.shape)))\n",
    "\n",
    "\n",
    "        epstol = 1e-16\n",
    "        if np.abs(std_eps) > epstol:\n",
    "            print(f\"Standard deviation exceeded {epstol} tolerance: {std_eps}, for i_q:{i_q}\")\n",
    "\n",
    "\n",
    "    if writing:\n",
    "        epsilon.write_epsmat(filename=\"test/epsilon/epsmat_qtm.h5\", epsinvmats=epsmats)\n",
    "\n",
    "\n",
    "epsinp.no_min_fftgrid = True\n",
    "epsilon = Epsilon.from_data(wfndata=wfndata, wfnqdata=wfnqdata, epsinp=epsinp)\n",
    "\n",
    "calculate_epsilon()"
   ]
  },
  {
   "cell_type": "code",
   "execution_count": 6,
   "metadata": {},
   "outputs": [
    {
     "name": "stderr",
     "output_type": "stream",
     "text": [
      "Vcoul calculation for qpts: 100%|██████████| 1/1 [00:00<00:00, 2962.08it/s]\n"
     ]
    },
    {
     "ename": "IndexError",
     "evalue": "shape mismatch: indexing arrays could not be broadcast together with shapes (15,1) (27,27) ",
     "output_type": "error",
     "traceback": [
      "\u001b[0;31m---------------------------------------------------------------------------\u001b[0m",
      "\u001b[0;31mIndexError\u001b[0m                                Traceback (most recent call last)",
      "Cell \u001b[0;32mIn[6], line 5\u001b[0m\n\u001b[1;32m      1\u001b[0m \u001b[38;5;28;01mfrom\u001b[39;00m \u001b[38;5;21;01mkernel\u001b[39;00m \u001b[38;5;28;01mimport\u001b[39;00m KernelMtxEl\n\u001b[1;32m      3\u001b[0m q0val \u001b[38;5;241m=\u001b[39m [\u001b[38;5;241m0.001\u001b[39m, \u001b[38;5;241m0.001\u001b[39m, \u001b[38;5;241m0.001\u001b[39m]\n\u001b[0;32m----> 5\u001b[0m kmtxclass \u001b[38;5;241m=\u001b[39m KernelMtxEl\u001b[38;5;241m.\u001b[39mfrom_BGW(\n\u001b[1;32m      6\u001b[0m     wfndata\u001b[38;5;241m=\u001b[39mwfndata,\n\u001b[1;32m      7\u001b[0m     epsinp\u001b[38;5;241m=\u001b[39mepsinp,\n\u001b[1;32m      8\u001b[0m     sigmainp\u001b[38;5;241m=\u001b[39msigmainp,\n\u001b[1;32m      9\u001b[0m     l_epsmats\u001b[38;5;241m=\u001b[39mepsilon\u001b[38;5;241m.\u001b[39ml_epsinv,\n\u001b[1;32m     10\u001b[0m     q0val\u001b[38;5;241m=\u001b[39mq0val,\n\u001b[1;32m     11\u001b[0m     parallel\u001b[38;5;241m=\u001b[39m\u001b[38;5;28;01mFalse\u001b[39;00m,\n\u001b[1;32m     12\u001b[0m     num_bands_val\u001b[38;5;241m=\u001b[39m\u001b[38;5;241m1\u001b[39m,\n\u001b[1;32m     13\u001b[0m     num_bands_con\u001b[38;5;241m=\u001b[39m\u001b[38;5;241m1\u001b[39m\n\u001b[1;32m     14\u001b[0m )\n",
      "File \u001b[0;32m~/Projects/Master's Thesis/Code/kernel.py:170\u001b[0m, in \u001b[0;36mKernelMtxEl.from_BGW\u001b[0;34m(cls, wfndata, epsinp, sigmainp, l_epsmats, q0val, parallel, num_bands_val, num_bands_con)\u001b[0m\n\u001b[1;32m    167\u001b[0m l_qpts[\u001b[38;5;241m0\u001b[39m] \u001b[38;5;241m*\u001b[39m\u001b[38;5;241m=\u001b[39m \u001b[38;5;241m0\u001b[39m\n\u001b[1;32m    168\u001b[0m qpts \u001b[38;5;241m=\u001b[39m QPoints\u001b[38;5;241m.\u001b[39mfrom_cryst(wfndata\u001b[38;5;241m.\u001b[39mkpts\u001b[38;5;241m.\u001b[39mrecilat, \u001b[38;5;28;01mNone\u001b[39;00m, \u001b[38;5;241m*\u001b[39ml_qpts)\n\u001b[0;32m--> 170\u001b[0m kernelclass \u001b[38;5;241m=\u001b[39m KernelMtxEl(\n\u001b[1;32m    171\u001b[0m     crystal \u001b[38;5;241m=\u001b[39m wfndata\u001b[38;5;241m.\u001b[39mcrystal,\n\u001b[1;32m    172\u001b[0m     gspace \u001b[38;5;241m=\u001b[39m wfndata\u001b[38;5;241m.\u001b[39mgrho,\n\u001b[1;32m    173\u001b[0m     kpts \u001b[38;5;241m=\u001b[39m wfndata\u001b[38;5;241m.\u001b[39mkpts,\n\u001b[1;32m    174\u001b[0m     l_wfn \u001b[38;5;241m=\u001b[39m wfndata\u001b[38;5;241m.\u001b[39ml_wfn,\n\u001b[1;32m    175\u001b[0m     l_gsp_wfn \u001b[38;5;241m=\u001b[39m  wfndata\u001b[38;5;241m.\u001b[39ml_gk,\n\u001b[1;32m    176\u001b[0m     qpts \u001b[38;5;241m=\u001b[39m qpts, \n\u001b[1;32m    177\u001b[0m     epsinp \u001b[38;5;241m=\u001b[39m epsinp,\n\u001b[1;32m    178\u001b[0m     sigmainp \u001b[38;5;241m=\u001b[39m sigmainp,\n\u001b[1;32m    179\u001b[0m     l_epsmats \u001b[38;5;241m=\u001b[39m l_epsmats,\n\u001b[1;32m    180\u001b[0m     q0val\u001b[38;5;241m=\u001b[39mq0val,\n\u001b[1;32m    181\u001b[0m     parallel \u001b[38;5;241m=\u001b[39m parallel,\n\u001b[1;32m    182\u001b[0m     num_bands_val \u001b[38;5;241m=\u001b[39m num_bands_val,\n\u001b[1;32m    183\u001b[0m     num_bands_con \u001b[38;5;241m=\u001b[39m num_bands_con,\n\u001b[1;32m    184\u001b[0m     )\n\u001b[1;32m    186\u001b[0m \u001b[38;5;28;01mreturn\u001b[39;00m kernelclass\n",
      "File \u001b[0;32m~/Projects/Master's Thesis/Code/kernel.py:101\u001b[0m, in \u001b[0;36mKernelMtxEl.__init__\u001b[0;34m(self, crystal, gspace, kpts, l_wfn, l_gsp_wfn, qpts, epsinp, sigmainp, l_epsmats, q0val, parallel, num_bands_val, num_bands_con)\u001b[0m\n\u001b[1;32m     92\u001b[0m     \u001b[38;5;66;03m# if self.fixwings:\u001b[39;00m\n\u001b[1;32m     93\u001b[0m     \u001b[38;5;66;03m#     epsinv = self.vcoul.calculate_fixedeps(\u001b[39;00m\n\u001b[1;32m     94\u001b[0m     \u001b[38;5;66;03m#         epsinv, i_q, random_sample=False\u001b[39;00m\n\u001b[1;32m     95\u001b[0m     \u001b[38;5;66;03m#     )\u001b[39;00m\n\u001b[1;32m     96\u001b[0m     sort_order \u001b[38;5;241m=\u001b[39m sort_cryst_like_BGW(\n\u001b[1;32m     97\u001b[0m         \u001b[38;5;28mself\u001b[39m\u001b[38;5;241m.\u001b[39ml_gq[i_q]\u001b[38;5;241m.\u001b[39mgk_cryst, \u001b[38;5;28mself\u001b[39m\u001b[38;5;241m.\u001b[39ml_gq[i_q]\u001b[38;5;241m.\u001b[39mgk_norm2\n\u001b[1;32m     98\u001b[0m \n\u001b[1;32m     99\u001b[0m     )\n\u001b[1;32m    100\u001b[0m     \u001b[38;5;28mself\u001b[39m\u001b[38;5;241m.\u001b[39ml_epsinv\u001b[38;5;241m.\u001b[39mappend(\n\u001b[0;32m--> 101\u001b[0m         reorder_2d_matrix_sorted_gvecs(epsinv, sort_order)\n\u001b[1;32m    102\u001b[0m     )\n\u001b[1;32m    104\u001b[0m \u001b[38;5;28mself\u001b[39m\u001b[38;5;241m.\u001b[39mq0val \u001b[38;5;241m=\u001b[39m q0val\n\u001b[1;32m    106\u001b[0m \u001b[38;5;28mself\u001b[39m\u001b[38;5;241m.\u001b[39mcharge_mtxel \u001b[38;5;241m=\u001b[39m ChargeMtxEL(\n\u001b[1;32m    107\u001b[0m     crystal,\n\u001b[1;32m    108\u001b[0m     gspace,\n\u001b[0;32m   (...)\u001b[0m\n\u001b[1;32m    116\u001b[0m     num_bands_con,\n\u001b[1;32m    117\u001b[0m )\n",
      "File \u001b[0;32m~/Projects/QuantumMASALA-main/src/qtm/gw/core.py:132\u001b[0m, in \u001b[0;36mreorder_2d_matrix_sorted_gvecs\u001b[0;34m(mat, indices)\u001b[0m\n\u001b[1;32m    117\u001b[0m \u001b[38;5;250m\u001b[39m\u001b[38;5;124;03m\"\"\"Given a 2-D matrix and listof indices, reorder rows and columns in order of indices. Convenience function.\u001b[39;00m\n\u001b[1;32m    118\u001b[0m \n\u001b[1;32m    119\u001b[0m \u001b[38;5;124;03mParameters\u001b[39;00m\n\u001b[0;32m   (...)\u001b[0m\n\u001b[1;32m    128\u001b[0m \u001b[38;5;124;03m    ``mat``, with appropriately ordered rows and coumns.\u001b[39;00m\n\u001b[1;32m    129\u001b[0m \u001b[38;5;124;03m\"\"\"\u001b[39;00m\n\u001b[1;32m    130\u001b[0m tiled_indices \u001b[38;5;241m=\u001b[39m np\u001b[38;5;241m.\u001b[39mtile(indices, (\u001b[38;5;28mlen\u001b[39m(indices), \u001b[38;5;241m1\u001b[39m))\n\u001b[1;32m    131\u001b[0m \u001b[38;5;28;01mreturn\u001b[39;00m np\u001b[38;5;241m.\u001b[39mtake_along_axis(\n\u001b[0;32m--> 132\u001b[0m     np\u001b[38;5;241m.\u001b[39mtake_along_axis(mat, tiled_indices, \u001b[38;5;241m1\u001b[39m), tiled_indices\u001b[38;5;241m.\u001b[39mT, \u001b[38;5;241m0\u001b[39m\n\u001b[1;32m    133\u001b[0m )\n",
      "File \u001b[0;32m~/anaconda3/envs/qtm/lib/python3.11/site-packages/numpy/lib/_shape_base_impl.py:177\u001b[0m, in \u001b[0;36mtake_along_axis\u001b[0;34m(arr, indices, axis)\u001b[0m\n\u001b[1;32m    174\u001b[0m     arr_shape \u001b[38;5;241m=\u001b[39m arr\u001b[38;5;241m.\u001b[39mshape\n\u001b[1;32m    176\u001b[0m \u001b[38;5;66;03m# use the fancy index\u001b[39;00m\n\u001b[0;32m--> 177\u001b[0m \u001b[38;5;28;01mreturn\u001b[39;00m arr[_make_along_axis_idx(arr_shape, indices, axis)]\n",
      "\u001b[0;31mIndexError\u001b[0m: shape mismatch: indexing arrays could not be broadcast together with shapes (15,1) (27,27) "
     ]
    }
   ],
   "source": [
    "from kernel import KernelMtxEl\n",
    "\n",
    "q0val = [0.001, 0.001, 0.001]\n",
    "\n",
    "kmtxclass = KernelMtxEl.from_BGW(\n",
    "    wfndata=wfndata,\n",
    "    epsinp=epsinp,\n",
    "    sigmainp=sigmainp,\n",
    "    l_epsmats=epsilon.l_epsinv,\n",
    "    q0val=q0val,\n",
    "    parallel=False,\n",
    "    num_bands_val=1,\n",
    "    num_bands_con=1\n",
    ")"
   ]
  },
  {
   "cell_type": "code",
   "execution_count": null,
   "metadata": {},
   "outputs": [],
   "source": [
    "kerneldata = kmtxclass.calc_kernel_mtxel()"
   ]
  },
  {
   "cell_type": "code",
   "execution_count": null,
   "metadata": {},
   "outputs": [],
   "source": [
    "exc, head, wings, body = kerneldata\n",
    "\n",
    "print(f\"Exchange: {exc}\")\n",
    "print(f\"Head: {head}\")\n",
    "print(f\"Wings: {wings}\")    \n",
    "print(f\"Body: {body}\")"
   ]
  }
 ],
 "metadata": {
  "kernelspec": {
   "display_name": "qtm",
   "language": "python",
   "name": "python3"
  },
  "language_info": {
   "codemirror_mode": {
    "name": "ipython",
    "version": 3
   },
   "file_extension": ".py",
   "mimetype": "text/x-python",
   "name": "python",
   "nbconvert_exporter": "python",
   "pygments_lexer": "ipython3",
   "version": "3.11.10"
  }
 },
 "nbformat": 4,
 "nbformat_minor": 2
}
