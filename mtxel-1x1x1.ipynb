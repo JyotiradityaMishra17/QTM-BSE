{
 "cells": [
  {
   "cell_type": "code",
   "execution_count": 1,
   "metadata": {},
   "outputs": [],
   "source": [
    "import numpy as np\n",
    "import h5py\n",
    "import sys\n",
    "\n",
    "\n",
    "sys.path.append(\".\")\n",
    "dirname = \"./bgw_files/k-1x1x1/\""
   ]
  },
  {
   "cell_type": "code",
   "execution_count": 2,
   "metadata": {},
   "outputs": [],
   "source": [
    "# epsinp and sigmain data.\n",
    "from qtm.interfaces.bgw.epsinp import Epsinp\n",
    "epsinp = Epsinp.from_epsilon_inp(filename=dirname+'epsilon.inp')\n",
    "\n",
    "from qtm.interfaces.bgw.sigmainp import Sigmainp\n",
    "sigmainp = Sigmainp.from_sigma_inp(filename=dirname+'sigma.inp')"
   ]
  },
  {
   "cell_type": "code",
   "execution_count": 3,
   "metadata": {},
   "outputs": [],
   "source": [
    "from qtm.interfaces.bgw import inp\n",
    "from qtm.interfaces.bgw.wfn2py import wfn2py\n",
    "\n",
    "# Read wfndata\n",
    "wfndata = wfn2py(dirname + \"WFN_co.h5\")\n",
    "wfnqdata = wfn2py(dirname + \"WFNq.h5\")\n",
    "\n",
    "# Read rho\n",
    "rho = inp.read_rho(dirname + \"RHO\")\n",
    "\n",
    "# Read vxc \n",
    "vxc = inp.read_vxc(dirname + \"vxc.dat\") "
   ]
  },
  {
   "cell_type": "code",
   "execution_count": 4,
   "metadata": {},
   "outputs": [
    {
     "name": "stderr",
     "output_type": "stream",
     "text": [
      "Vcoul calculation for qpts: 100%|██████████| 1/1 [00:00<00:00, 5584.96it/s]\n"
     ]
    }
   ],
   "source": [
    "from qtm.gw.core import QPoints\n",
    "from qtm.gw.epsilon import Epsilon\n",
    "\n",
    "epsilon = Epsilon.from_data(wfndata=wfndata, wfnqdata=wfnqdata, epsinp=epsinp)"
   ]
  },
  {
   "cell_type": "code",
   "execution_count": 5,
   "metadata": {},
   "outputs": [
    {
     "name": "stderr",
     "output_type": "stream",
     "text": [
      "Vcoul calculation for qpts: 100%|██████████| 1/1 [00:00<00:00, 5461.33it/s]\n",
      "Epsilon> q-pt index: 100%|██████████| 1/1 [00:00<00:00, 326.35it/s]"
     ]
    },
    {
     "name": "stdout",
     "output_type": "stream",
     "text": [
      "indices_gspace_sorted [ 0 14  2 11  5  3  7  1 10 12  6 13  9  4  8]\n",
      "sort_order [ 0 14  2 11  5  3  7  1 10 12  6 13  9  4  8]\n",
      "Standard deviation exceeded 1e-16 tolerance: 1.9894890166455426e-15, for i_q:0\n",
      "Standard deviation exceeded 1e-16 tolerance: 1.9894890166455426e-15, for i_q:0\n"
     ]
    },
    {
     "name": "stderr",
     "output_type": "stream",
     "text": [
      "\n"
     ]
    }
   ],
   "source": [
    "from tqdm import trange\n",
    "from qtm.gw.core import reorder_2d_matrix_sorted_gvecs, sort_cryst_like_BGW\n",
    "\n",
    "\n",
    "def calculate_epsilon(numq=None, writing=False):\n",
    "    epsmats = []\n",
    "    if numq is None:\n",
    "        numq = epsilon.qpts.numq\n",
    "\n",
    "    for i_q in trange(0, numq, desc=\"Epsilon> q-pt index\"):\n",
    "        # Create map between BGW's sorting order and QTm's sorting order\n",
    "        gkspc = epsilon.l_gq[i_q]\n",
    "        \n",
    "        if i_q == epsilon.qpts.index_q0:\n",
    "            key = gkspc.g_norm2\n",
    "        else:\n",
    "            key = gkspc.gk_norm2\n",
    "\n",
    "        indices_gspace_sorted = sort_cryst_like_BGW(\n",
    "            cryst=gkspc.g_cryst, key_array=key\n",
    "        )\n",
    "       \n",
    "        sort_order = sort_cryst_like_BGW(\n",
    "            cryst = gkspc.g_cryst, key_array = gkspc.gk_norm2  \n",
    "        )\n",
    "\n",
    "        print(f\"indices_gspace_sorted {indices_gspace_sorted}\")\n",
    "        print(f\"sort_order {sort_order}\")\n",
    "\n",
    "        # Calculate matrix elements\n",
    "        M = next(epsilon.matrix_elements(i_q=i_q))\n",
    "\n",
    "        # Calculate polarizability matrix (faster, but not memory-efficient)\n",
    "        chimat = epsilon.polarizability(M)\n",
    "\n",
    "        # Calculate polarizability matrix (memory-efficient)\n",
    "        # chimat = epsilon.polarizability_active(i_q)\n",
    "\n",
    "        # Calculate epsilon inverse matrix\n",
    "        epsinv0 = epsilon.epsilon_inverse(i_q=i_q, polarizability_matrix=chimat, store=True)\n",
    "        epsinv = reorder_2d_matrix_sorted_gvecs(epsinv0, indices_gspace_sorted)\n",
    "\n",
    "        epsinv0 = epsilon.epsilon_inverse(i_q=i_q, polarizability_matrix=chimat, store=True)\n",
    "        epsinv1 = reorder_2d_matrix_sorted_gvecs(epsinv0, sort_order)\n",
    "\n",
    "        epsilon.l_epsinv[i_q] = epsinv\n",
    "\n",
    "        \n",
    "        # Compare the results with BGW's results\n",
    "        if i_q == epsilon.qpts.index_q0:\n",
    "            epsref = epsilon.read_epsmat(dirname + \"eps0mat.h5\")[0][0, 0]\n",
    "            if writing:\n",
    "                epsilon.write_epsmat(\n",
    "                    filename=\"test/epsilon/eps0mat_qtm.h5\", epsinvmats=[epsinv]\n",
    "                )\n",
    "        else:\n",
    "            epsref = np.array(epsilon.read_epsmat(dirname + \"epsmat.h5\")[i_q - 1][0, 0])\n",
    "            epsmats.append(epsinv)\n",
    "\n",
    "        # Calculate stddev between reference and calculated epsinv matrices\n",
    "        std_eps = np.std(epsref - epsinv) / np.sqrt(np.prod(list(epsinv.shape)))\n",
    "        std_eps2 = np.std(epsref - epsinv1) / np.sqrt(np.prod(list(epsinv0.shape)))\n",
    "\n",
    "        epstol = 1e-16\n",
    "        if np.abs(std_eps) > epstol:\n",
    "            print(f\"Standard deviation exceeded {epstol} tolerance: {std_eps}, for i_q:{i_q}\")\n",
    "\n",
    "        if np.abs(std_eps2) > epstol:\n",
    "            print(f\"Standard deviation exceeded {epstol} tolerance: {std_eps2}, for i_q:{i_q}\")\n",
    "\n",
    "    if writing:\n",
    "        epsilon.write_epsmat(filename=\"test/epsilon/epsmat_qtm.h5\", epsinvmats=epsmats)\n",
    "\n",
    "\n",
    "epsinp.no_min_fftgrid = True\n",
    "epsilon = Epsilon.from_data(wfndata=wfndata, wfnqdata=wfnqdata, epsinp=epsinp)\n",
    "\n",
    "calculate_epsilon()"
   ]
  },
  {
   "cell_type": "code",
   "execution_count": 6,
   "metadata": {},
   "outputs": [],
   "source": [
    "# Construct the Charge Matrix Class\n",
    "from mtxel import ChargeMtxEL\n",
    "\n",
    "cmtxclass = ChargeMtxEL.from_BGW(\n",
    "    wfndata = wfndata,\n",
    "    epsinp = epsinp,\n",
    "    sigmainp = sigmainp,\n",
    "    num_bands_val = 1,\n",
    "    num_bands_con = 1,\n",
    ")"
   ]
  },
  {
   "cell_type": "code",
   "execution_count": 7,
   "metadata": {},
   "outputs": [
    {
     "name": "stdout",
     "output_type": "stream",
     "text": [
      "Shape of mvc is (1, 1, 27)\n",
      "Shape of mccp is (1, 1, 27)\n",
      "Shape of mvvp is (1, 1, 27)\n"
     ]
    }
   ],
   "source": [
    "mvc = cmtxclass.mvc(0)\n",
    "print(f\"Shape of mvc is {mvc.shape}\")\n",
    "\n",
    "mccp = cmtxclass.mccp(0, 0)\n",
    "print(f\"Shape of mccp is {mccp.shape}\")\n",
    "\n",
    "mvvp = cmtxclass.mvvp(0, 0)\n",
    "print(f\"Shape of mvvp is {mvvp.shape}\")"
   ]
  },
  {
   "cell_type": "code",
   "execution_count": 8,
   "metadata": {},
   "outputs": [],
   "source": [
    "from read_mtxel import *\n",
    "bgw_arrays = parse_file(dirname + \"kernel.out\")\n",
    "\n",
    "mccp_BGW = bgw_arrays.get('mccp', None)\n",
    "mvvp_BGW = bgw_arrays.get('mvvp', None)\n",
    "mvc_BGW = bgw_arrays.get('mvc', None)\n",
    "mvpcp_BGW = bgw_arrays.get('mvpcp', None)"
   ]
  },
  {
   "cell_type": "code",
   "execution_count": 9,
   "metadata": {},
   "outputs": [
    {
     "name": "stdout",
     "output_type": "stream",
     "text": [
      "Shape of mccp_BGW is (27, 1, 1, 1)\n",
      "Shape of mvvp_BGW is (27, 1, 1, 1)\n",
      "Shape of mvc_BGW is (27, 1, 1, 1)\n",
      "Shape of mvpcp_BGW is (27, 1, 1, 1)\n"
     ]
    }
   ],
   "source": [
    "print(f\"Shape of mccp_BGW is {mccp_BGW.shape}\")\n",
    "print(f\"Shape of mvvp_BGW is {mvvp_BGW.shape}\")\n",
    "print(f\"Shape of mvc_BGW is {mvc_BGW.shape}\")\n",
    "print(f\"Shape of mvpcp_BGW is {mvpcp_BGW.shape}\")"
   ]
  },
  {
   "cell_type": "code",
   "execution_count": 10,
   "metadata": {},
   "outputs": [
    {
     "name": "stdout",
     "output_type": "stream",
     "text": [
      "Is mvc and mvpcp equal? True\n"
     ]
    }
   ],
   "source": [
    "is_equal_mvc_mvpcp = np.allclose(mvc_BGW, mvpcp_BGW)\n",
    "print(f\"Is mvc and mvpcp equal? {is_equal_mvc_mvpcp}\")"
   ]
  },
  {
   "cell_type": "code",
   "execution_count": 11,
   "metadata": {},
   "outputs": [
    {
     "name": "stdout",
     "output_type": "stream",
     "text": [
      "mccp[0]: 1.0000000000-0.0000000000j, mccp_BGW[0]: 1.0000000000+0.0000000000j\n",
      "mccp[1]: -0.1069011136+0.0000004958j, mccp_BGW[1]: -0.1069011136+0.0000004958j\n",
      "mccp[2]: 0.1071866199+0.0000009394j, mccp_BGW[2]: 0.1071866199+0.0000009394j\n",
      "mccp[3]: 0.1071902943+0.0000008143j, mccp_BGW[3]: 0.1071902943+0.0000008143j\n",
      "mccp[4]: 0.1071935416+0.0000005033j, mccp_BGW[4]: 0.1071935416+0.0000005033j\n",
      "mccp[5]: 0.1071935416-0.0000005033j, mccp_BGW[5]: 0.1071935416-0.0000005033j\n",
      "mccp[6]: 0.1071902943-0.0000008143j, mccp_BGW[6]: 0.1071902943-0.0000008143j\n",
      "mccp[7]: 0.1071866199-0.0000009394j, mccp_BGW[7]: 0.1071866199-0.0000009394j\n",
      "mccp[8]: -0.1069011136-0.0000004958j, mccp_BGW[8]: -0.1069011136-0.0000004958j\n",
      "mccp[9]: -0.3178784615+0.0000016715j, mccp_BGW[9]: -0.3178784615+0.0000016715j\n",
      "mccp[10]: -0.3182568800+0.0000008144j, mccp_BGW[10]: -0.3182568800+0.0000008144j\n",
      "mccp[11]: -0.3146274045+0.0000020659j, mccp_BGW[11]: -0.3146274045+0.0000020659j\n",
      "mccp[12]: -0.3146274045-0.0000020659j, mccp_BGW[12]: -0.3146274045-0.0000020659j\n",
      "mccp[13]: -0.3182568800-0.0000008144j, mccp_BGW[13]: -0.3182568800-0.0000008144j\n",
      "mccp[14]: -0.3178784615-0.0000016715j, mccp_BGW[14]: -0.3178784615-0.0000016715j\n",
      "mccp[15]: 0.2341680631+0.0000016843j, mccp_BGW[15]: 0.2341680631+0.0000016843j\n",
      "mccp[16]: 0.2399011224+0.0000004365j, mccp_BGW[16]: 0.2399011224+0.0000004365j\n",
      "mccp[17]: 0.2393088354+0.0000012046j, mccp_BGW[17]: 0.2393088354+0.0000012046j\n",
      "mccp[18]: 0.0945325080+0.0000001643j, mccp_BGW[18]: 0.0945325080+0.0000001643j\n",
      "mccp[19]: 0.0947267409+0.0000003446j, mccp_BGW[19]: 0.0947267409+0.0000003446j\n",
      "mccp[20]: 0.0964528742-0.0000001848j, mccp_BGW[20]: 0.0964528742-0.0000001848j\n",
      "mccp[21]: 0.0964528742+0.0000001848j, mccp_BGW[21]: 0.0964528742+0.0000001848j\n",
      "mccp[22]: 0.0947267409-0.0000003446j, mccp_BGW[22]: 0.0947267409-0.0000003446j\n",
      "mccp[23]: 0.0945325080-0.0000001643j, mccp_BGW[23]: 0.0945325080-0.0000001643j\n",
      "mccp[24]: 0.2393088354-0.0000012046j, mccp_BGW[24]: 0.2393088354-0.0000012046j\n",
      "mccp[25]: 0.2399011224-0.0000004365j, mccp_BGW[25]: 0.2399011224-0.0000004365j\n",
      "mccp[26]: 0.2341680631-0.0000016843j, mccp_BGW[26]: 0.2341680631-0.0000016843j\n",
      "Are mccp and mccp_BGW equal? True\n"
     ]
    }
   ],
   "source": [
    "mccp = mccp[0, 0, :]\n",
    "mccp_BGW = mccp_BGW[:, 0, 0, 0]\n",
    "\n",
    "for i in range(27):\n",
    "    mccp_value = mccp[i] if i < len(mccp) else 0\n",
    "    print(f\"mccp[{i}]: {mccp_value.real:.10f}{mccp_value.imag:+.10f}j, mccp_BGW[{i}]: {mccp_BGW[i].real:.10f}{mccp_BGW[i].imag:+.10f}j\")\n",
    "\n",
    "are_mccp_equal = np.allclose(mccp, mccp_BGW)\n",
    "print(f\"Are mccp and mccp_BGW equal? {are_mccp_equal}\")"
   ]
  },
  {
   "cell_type": "code",
   "execution_count": 12,
   "metadata": {},
   "outputs": [
    {
     "name": "stdout",
     "output_type": "stream",
     "text": [
      "mvc[0]: -0.0000000000-0.0000000000j, mvc_BGW[0]: -0.0000000000-0.0000000000j\n",
      "mvc[1]: -0.0547103106-0.0249071732j, mvc_BGW[1]: -0.0547103106-0.0249071732j\n",
      "mvc[2]: 0.2047267678+0.0931917166j, mvc_BGW[2]: 0.2047267678+0.0931917166j\n",
      "mvc[3]: 0.2038795381+0.0928077286j, mvc_BGW[3]: 0.2038795381+0.0928077286j\n",
      "mvc[4]: 0.2035007842+0.0926343616j, mvc_BGW[4]: 0.2035007842+0.0926343616j\n",
      "mvc[5]: -0.2034998326-0.0926363304j, mvc_BGW[5]: -0.2034998326-0.0926363304j\n",
      "mvc[6]: -0.2038789382-0.0928084547j, mvc_BGW[6]: -0.2038789382-0.0928084547j\n",
      "mvc[7]: -0.2047247754-0.0931962605j, mvc_BGW[7]: -0.2047247754-0.0931962605j\n",
      "mvc[8]: 0.0547122961+0.0249033887j, mvc_BGW[8]: 0.0547122961+0.0249033887j\n",
      "mvc[9]: 0.1620434174+0.0737606030j, mvc_BGW[9]: 0.1620434174+0.0737606030j\n",
      "mvc[10]: 0.1605011774+0.0730585696j, mvc_BGW[10]: 0.1605011774+0.0730585696j\n",
      "mvc[11]: 0.1569773686+0.0714539046j, mvc_BGW[11]: 0.1569773686+0.0714539046j\n",
      "mvc[12]: -0.1569742470-0.0714603647j, mvc_BGW[12]: -0.1569742470-0.0714603647j\n",
      "mvc[13]: -0.1604984936-0.0730639206j, mvc_BGW[13]: -0.1604984936-0.0730639206j\n",
      "mvc[14]: -0.1620404211-0.0737663904j, mvc_BGW[14]: -0.1620404211-0.0737663904j\n",
      "mvc[15]: 0.0064437681+0.0029331774j, mvc_BGW[15]: 0.0064437681+0.0029331774j\n",
      "mvc[16]: 0.0045463830+0.0020690802j, mvc_BGW[16]: 0.0045463830+0.0020690802j\n",
      "mvc[17]: 0.0061032852+0.0027775952j, mvc_BGW[17]: 0.0061032852+0.0027775952j\n",
      "mvc[18]: 0.0000838017+0.0000379188j, mvc_BGW[18]: 0.0000838017+0.0000379188j\n",
      "mvc[19]: 0.0006055144+0.0002754656j, mvc_BGW[19]: 0.0006055144+0.0002754656j\n",
      "mvc[20]: -0.0005320761-0.0002424608j, mvc_BGW[20]: -0.0005320761-0.0002424608j\n",
      "mvc[21]: 0.0005325068+0.0002420167j, mvc_BGW[21]: 0.0005325068+0.0002420167j\n",
      "mvc[22]: -0.0006051623-0.0002759375j, mvc_BGW[22]: -0.0006051623-0.0002759375j\n",
      "mvc[23]: -0.0000832473-0.0000385022j, mvc_BGW[23]: -0.0000832473-0.0000385022j\n",
      "mvc[24]: -0.0061026586-0.0027784651j, mvc_BGW[24]: -0.0061026586-0.0027784651j\n",
      "mvc[25]: -0.0045458998-0.0020697443j, mvc_BGW[25]: -0.0045458998-0.0020697443j\n",
      "mvc[26]: -0.0064434775-0.0029333517j, mvc_BGW[26]: -0.0064434775-0.0029333517j\n",
      "Are mvc and mvc_BGW equal? True\n"
     ]
    }
   ],
   "source": [
    "mvc = mvc[0, 0, :]\n",
    "mvc_BGW = mvc_BGW[:, 0, 0, 0]\n",
    "\n",
    "for i in range(27):\n",
    "    mvc_value = mvc[i] if i < len(mvc) else 0\n",
    "    print(f\"mvc[{i}]: {mvc_value.real:.10f}{mvc_value.imag:+.10f}j, mvc_BGW[{i}]: {mvc_BGW[i].real:.10f}{mvc_BGW[i].imag:+.10f}j\")\n",
    "\n",
    "are_mvc_equal = np.allclose(mvc, mvc_BGW)\n",
    "print(f\"Are mvc and mvc_BGW equal? {are_mvc_equal}\")"
   ]
  },
  {
   "cell_type": "code",
   "execution_count": 13,
   "metadata": {},
   "outputs": [
    {
     "name": "stdout",
     "output_type": "stream",
     "text": [
      "mvvp[0]: 1.0000-0.0000j, mvvp_BGW[0]: 1.0000+0.0000j\n",
      "mvvp[1]: 0.2551+0.0000j, mvvp_BGW[1]: 0.2551+0.0000j\n",
      "mvvp[2]: 0.4264-0.0000j, mvvp_BGW[2]: 0.4264-0.0000j\n",
      "mvvp[3]: 0.4259-0.0000j, mvvp_BGW[3]: 0.4259-0.0000j\n",
      "mvvp[4]: 0.4235-0.0000j, mvvp_BGW[4]: 0.4235-0.0000j\n",
      "mvvp[5]: 0.4235+0.0000j, mvvp_BGW[5]: 0.4235+0.0000j\n",
      "mvvp[6]: 0.4259+0.0000j, mvvp_BGW[6]: 0.4259+0.0000j\n",
      "mvvp[7]: 0.4264+0.0000j, mvvp_BGW[7]: 0.4264+0.0000j\n",
      "mvvp[8]: 0.2551-0.0000j, mvvp_BGW[8]: 0.2551-0.0000j\n",
      "mvvp[9]: 0.2976-0.0000j, mvvp_BGW[9]: 0.2976-0.0000j\n",
      "mvvp[10]: 0.2955-0.0000j, mvvp_BGW[10]: 0.2955-0.0000j\n",
      "mvvp[11]: 0.2951-0.0000j, mvvp_BGW[11]: 0.2951-0.0000j\n",
      "mvvp[12]: 0.2951+0.0000j, mvvp_BGW[12]: 0.2951+0.0000j\n",
      "mvvp[13]: 0.2955+0.0000j, mvvp_BGW[13]: 0.2955+0.0000j\n",
      "mvvp[14]: 0.2976+0.0000j, mvvp_BGW[14]: 0.2976+0.0000j\n",
      "mvvp[15]: 0.2722-0.0000j, mvvp_BGW[15]: 0.2722-0.0000j\n",
      "mvvp[16]: 0.2729-0.0000j, mvvp_BGW[16]: 0.2729-0.0000j\n",
      "mvvp[17]: 0.2761-0.0000j, mvvp_BGW[17]: 0.2761-0.0000j\n",
      "mvvp[18]: 0.1545-0.0000j, mvvp_BGW[18]: 0.1545-0.0000j\n",
      "mvvp[19]: 0.1544-0.0000j, mvvp_BGW[19]: 0.1544-0.0000j\n",
      "mvvp[20]: 0.1546+0.0000j, mvvp_BGW[20]: 0.1546+0.0000j\n",
      "mvvp[21]: 0.1546-0.0000j, mvvp_BGW[21]: 0.1546-0.0000j\n",
      "mvvp[22]: 0.1544+0.0000j, mvvp_BGW[22]: 0.1544+0.0000j\n",
      "mvvp[23]: 0.1545+0.0000j, mvvp_BGW[23]: 0.1545+0.0000j\n",
      "mvvp[24]: 0.2761+0.0000j, mvvp_BGW[24]: 0.2761+0.0000j\n",
      "mvvp[25]: 0.2729+0.0000j, mvvp_BGW[25]: 0.2729+0.0000j\n",
      "mvvp[26]: 0.2722+0.0000j, mvvp_BGW[26]: 0.2722+0.0000j\n"
     ]
    }
   ],
   "source": [
    "mvvp = mvvp[0, 0, :]\n",
    "mvvp_BGW = mvvp_BGW[:, 0, 0, 0]\n",
    "\n",
    "for i in range(27):\n",
    "    mvvp_value = mvvp[i] if i < len(mvvp) else 0\n",
    "    print(f\"mvvp[{i}]: {mvvp_value.real:.4f}{mvvp_value.imag:+.4f}j, mvvp_BGW[{i}]: {mvvp_BGW[i].real:.4f}{mvvp_BGW[i].imag:+.4f}j\")\n",
    "\n",
    "# are_mvvp_equal = np.allclose(mvvp, mvvp_BGW)\n",
    "# print(f\"Are mvvp and mvvp_BGW equal? {are_mvvp_equal}\")"
   ]
  },
  {
   "cell_type": "code",
   "execution_count": 14,
   "metadata": {},
   "outputs": [],
   "source": [
    "from mtxelv2 import ChargeMtxELv2\n",
    "\n",
    "cmtxclassv2 = ChargeMtxELv2.from_BGW(\n",
    "    wfndata = wfndata,\n",
    "    epsinp = epsinp,\n",
    "    sigmainp = sigmainp,\n",
    "    num_bands_val = 1,\n",
    "    num_bands_con = 1,\n",
    ")"
   ]
  },
  {
   "cell_type": "code",
   "execution_count": 15,
   "metadata": {},
   "outputs": [
    {
     "name": "stdout",
     "output_type": "stream",
     "text": [
      "Shape of mvc_v2 is (1, 1, 27)\n",
      "Are mvc_v2 and mvc_BGW equal? True\n"
     ]
    }
   ],
   "source": [
    "mvc_v2 = cmtxclassv2.mtxelv2(0, 0, 'mvc')\n",
    "print(f\"Shape of mvc_v2 is {mvc_v2.shape}\")\n",
    "\n",
    "mvc_v2 = mvc_v2[0, 0, :]\n",
    "\n",
    "# for i in range(27):\n",
    "#     mvc_v2_value = mvc_v2[i] if i < len(mvc_v2) else 0\n",
    "#     print(f\"mvc_v2[{i}]: {mvc_v2_value.real:.10f}{mvc_v2_value.imag:+.10f}j, mvc_BGW[{i}]: {mvc_BGW[i].real:.10f}{mvc_BGW[i].imag:+.10f}j\")\n",
    "\n",
    "are_mvc_v2_equal = np.allclose(mvc_v2, mvc_BGW)\n",
    "print(f\"Are mvc_v2 and mvc_BGW equal? {are_mvc_v2_equal}\")"
   ]
  },
  {
   "cell_type": "code",
   "execution_count": 16,
   "metadata": {},
   "outputs": [
    {
     "name": "stdout",
     "output_type": "stream",
     "text": [
      "Shape of mccp_v2 is (1, 1, 27)\n",
      "Are mccp_v2 and mccp_BGW equal? True\n"
     ]
    }
   ],
   "source": [
    "mccp_v2 = cmtxclassv2.mtxelv2(0, 0, 'mccp')\n",
    "print(f\"Shape of mccp_v2 is {mccp_v2.shape}\")\n",
    "mccp_v2 = mccp_v2[0, 0, :]\n",
    "\n",
    "# for i in range(27):\n",
    "#     mccp_v2_value = mccp_v2[i] if i < len(mccp_v2) else 0\n",
    "#     print(f\"mccp_v2[{i}]: {mccp_v2_value.real:.10f}{mccp_v2_value.imag:+.10f}j, mccp_BGW[{i}]: {mccp_BGW[i].real:.10f}{mccp_BGW[i].imag:+.10f}j\")\n",
    "\n",
    "are_mccp_v2_equal = np.allclose(mccp_v2, mccp_BGW)\n",
    "print(f\"Are mccp_v2 and mccp_BGW equal? {are_mccp_v2_equal}\")"
   ]
  },
  {
   "cell_type": "code",
   "execution_count": 17,
   "metadata": {},
   "outputs": [
    {
     "name": "stdout",
     "output_type": "stream",
     "text": [
      "Shape of mvvp_v2 is (1, 1, 27)\n",
      "Are mvvp_v2 and mvvp_BGW equal? True\n",
      "ik: 0\n"
     ]
    }
   ],
   "source": [
    "mvvp_v2, ik = cmtxclassv2.mtxelv2(0, 0, 'mvvp', ret_k=True)\n",
    "print(f\"Shape of mvvp_v2 is {mvvp_v2.shape}\")\n",
    "\n",
    "mvvp_v2 = mvvp_v2[0, 0, :]\n",
    "\n",
    "# for i in range(27):\n",
    "#     mvvp_v2_value = mvvp_v2[i] if i < len(mvvp_v2) else 0\n",
    "#     print(f\"mvvp_v2[{i}]: {mvvp_v2_value.real:.10f}{mvvp_v2_value.imag:+.10f}j, mvvp_BGW[{i}]: {mvvp_BGW[i].real:.10f}{mvvp_BGW[i].imag:+.10f}j\")\n",
    "\n",
    "are_mvvp_v2_equal = np.allclose(mvvp_v2, mvvp_BGW)\n",
    "print(f\"Are mvvp_v2 and mvvp_BGW equal? {are_mvvp_v2_equal}\")\n",
    "\n",
    "print(f\"ik: {ik}\")"
   ]
  }
 ],
 "metadata": {
  "kernelspec": {
   "display_name": "qtm",
   "language": "python",
   "name": "python3"
  },
  "language_info": {
   "codemirror_mode": {
    "name": "ipython",
    "version": 3
   },
   "file_extension": ".py",
   "mimetype": "text/x-python",
   "name": "python",
   "nbconvert_exporter": "python",
   "pygments_lexer": "ipython3",
   "version": "3.11.10"
  }
 },
 "nbformat": 4,
 "nbformat_minor": 2
}
