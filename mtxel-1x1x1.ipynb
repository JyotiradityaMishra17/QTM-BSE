{
 "cells": [
  {
   "cell_type": "code",
   "execution_count": 1,
   "metadata": {},
   "outputs": [],
   "source": [
    "import numpy as np\n",
    "import h5py\n",
    "import sys\n",
    "\n",
    "\n",
    "sys.path.append(\".\")\n",
    "dirname = \"./bgw_files/k-1x1x1/\""
   ]
  },
  {
   "cell_type": "code",
   "execution_count": 2,
   "metadata": {},
   "outputs": [],
   "source": [
    "# epsinp and sigmain data.\n",
    "from qtm.interfaces.bgw.epsinp import Epsinp\n",
    "epsinp = Epsinp.from_epsilon_inp(filename=dirname+'epsilon.inp')\n",
    "\n",
    "from qtm.interfaces.bgw.sigmainp import Sigmainp\n",
    "sigmainp = Sigmainp.from_sigma_inp(filename=dirname+'sigma.inp')"
   ]
  },
  {
   "cell_type": "code",
   "execution_count": 3,
   "metadata": {},
   "outputs": [],
   "source": [
    "from qtm.interfaces.bgw import inp\n",
    "from qtm.interfaces.bgw.wfn2py import wfn2py\n",
    "\n",
    "# Read wfndata\n",
    "wfndata = wfn2py(dirname + \"WFN_co.h5\")\n",
    "wfnqdata = wfn2py(dirname + \"WFNq.h5\")\n",
    "\n",
    "# Read rho\n",
    "rho = inp.read_rho(dirname + \"RHO\")\n",
    "\n",
    "# Read vxc \n",
    "vxc = inp.read_vxc(dirname + \"vxc.dat\") "
   ]
  },
  {
   "cell_type": "code",
   "execution_count": 4,
   "metadata": {},
   "outputs": [
    {
     "name": "stderr",
     "output_type": "stream",
     "text": [
      "Vcoul calculation for qpts: 100%|██████████| 1/1 [00:00<00:00, 3956.89it/s]\n"
     ]
    }
   ],
   "source": [
    "from qtm.gw.core import QPoints\n",
    "from qtm.gw.epsilon import Epsilon\n",
    "\n",
    "epsilon = Epsilon.from_data(wfndata=wfndata, wfnqdata=wfnqdata, epsinp=epsinp)"
   ]
  },
  {
   "cell_type": "code",
   "execution_count": 5,
   "metadata": {},
   "outputs": [
    {
     "name": "stderr",
     "output_type": "stream",
     "text": [
      "Vcoul calculation for qpts: 100%|██████████| 1/1 [00:00<00:00, 3093.14it/s]\n",
      "Epsilon> q-pt index: 100%|██████████| 1/1 [00:00<00:00, 273.94it/s]"
     ]
    },
    {
     "name": "stdout",
     "output_type": "stream",
     "text": [
      "indices_gspace_sorted [ 0 14  2 11  5  3  7  1 10 12  6 13  9  4  8]\n",
      "sort_order [ 0 14  2 11  5  3  7  1 10 12  6 13  9  4  8]\n",
      "Standard deviation exceeded 1e-16 tolerance: 1.9894890166455426e-15, for i_q:0\n",
      "Standard deviation exceeded 1e-16 tolerance: 1.9894890166455426e-15, for i_q:0\n"
     ]
    },
    {
     "name": "stderr",
     "output_type": "stream",
     "text": [
      "\n"
     ]
    }
   ],
   "source": [
    "from tqdm import trange\n",
    "from qtm.gw.core import reorder_2d_matrix_sorted_gvecs, sort_cryst_like_BGW\n",
    "\n",
    "\n",
    "def calculate_epsilon(numq=None, writing=False):\n",
    "    epsmats = []\n",
    "    if numq is None:\n",
    "        numq = epsilon.qpts.numq\n",
    "\n",
    "    for i_q in trange(0, numq, desc=\"Epsilon> q-pt index\"):\n",
    "        # Create map between BGW's sorting order and QTm's sorting order\n",
    "        gkspc = epsilon.l_gq[i_q]\n",
    "        \n",
    "        if i_q == epsilon.qpts.index_q0:\n",
    "            key = gkspc.g_norm2\n",
    "        else:\n",
    "            key = gkspc.gk_norm2\n",
    "\n",
    "        indices_gspace_sorted = sort_cryst_like_BGW(\n",
    "            cryst=gkspc.g_cryst, key_array=key\n",
    "        )\n",
    "       \n",
    "        sort_order = sort_cryst_like_BGW(\n",
    "            cryst = gkspc.g_cryst, key_array = gkspc.gk_norm2  \n",
    "        )\n",
    "\n",
    "        print(f\"indices_gspace_sorted {indices_gspace_sorted}\")\n",
    "        print(f\"sort_order {sort_order}\")\n",
    "\n",
    "        # Calculate matrix elements\n",
    "        M = next(epsilon.matrix_elements(i_q=i_q))\n",
    "\n",
    "        # Calculate polarizability matrix (faster, but not memory-efficient)\n",
    "        chimat = epsilon.polarizability(M)\n",
    "\n",
    "        # Calculate polarizability matrix (memory-efficient)\n",
    "        # chimat = epsilon.polarizability_active(i_q)\n",
    "\n",
    "        # Calculate epsilon inverse matrix\n",
    "        epsinv0 = epsilon.epsilon_inverse(i_q=i_q, polarizability_matrix=chimat, store=True)\n",
    "        epsinv = reorder_2d_matrix_sorted_gvecs(epsinv0, indices_gspace_sorted)\n",
    "\n",
    "        epsinv0 = epsilon.epsilon_inverse(i_q=i_q, polarizability_matrix=chimat, store=True)\n",
    "        epsinv1 = reorder_2d_matrix_sorted_gvecs(epsinv0, sort_order)\n",
    "\n",
    "        epsilon.l_epsinv[i_q] = epsinv\n",
    "\n",
    "        \n",
    "        # Compare the results with BGW's results\n",
    "        if i_q == epsilon.qpts.index_q0:\n",
    "            epsref = epsilon.read_epsmat(dirname + \"eps0mat.h5\")[0][0, 0]\n",
    "            if writing:\n",
    "                epsilon.write_epsmat(\n",
    "                    filename=\"test/epsilon/eps0mat_qtm.h5\", epsinvmats=[epsinv]\n",
    "                )\n",
    "        else:\n",
    "            epsref = np.array(epsilon.read_epsmat(dirname + \"epsmat.h5\")[i_q - 1][0, 0])\n",
    "            epsmats.append(epsinv)\n",
    "\n",
    "        # Calculate stddev between reference and calculated epsinv matrices\n",
    "        std_eps = np.std(epsref - epsinv) / np.sqrt(np.prod(list(epsinv.shape)))\n",
    "        std_eps2 = np.std(epsref - epsinv1) / np.sqrt(np.prod(list(epsinv0.shape)))\n",
    "\n",
    "        epstol = 1e-16\n",
    "        if np.abs(std_eps) > epstol:\n",
    "            print(f\"Standard deviation exceeded {epstol} tolerance: {std_eps}, for i_q:{i_q}\")\n",
    "\n",
    "        if np.abs(std_eps2) > epstol:\n",
    "            print(f\"Standard deviation exceeded {epstol} tolerance: {std_eps2}, for i_q:{i_q}\")\n",
    "\n",
    "    if writing:\n",
    "        epsilon.write_epsmat(filename=\"test/epsilon/epsmat_qtm.h5\", epsinvmats=epsmats)\n",
    "\n",
    "\n",
    "epsinp.no_min_fftgrid = True\n",
    "epsilon = Epsilon.from_data(wfndata=wfndata, wfnqdata=wfnqdata, epsinp=epsinp)\n",
    "\n",
    "calculate_epsilon()"
   ]
  },
  {
   "cell_type": "code",
   "execution_count": 6,
   "metadata": {},
   "outputs": [],
   "source": [
    "# Construct the Charge Matrix Class\n",
    "from mtxel import ChargeMtxEL\n",
    "\n",
    "cmtxclass = ChargeMtxEL.from_BGW(\n",
    "    wfndata = wfndata,\n",
    "    epsinp = epsinp,\n",
    "    sigmainp = sigmainp,\n",
    "    num_bands_val = 1,\n",
    "    num_bands_con = 1,\n",
    ")"
   ]
  },
  {
   "cell_type": "code",
   "execution_count": 7,
   "metadata": {},
   "outputs": [],
   "source": [
    "from read_mtxel import *\n",
    "bgw_arrays = parse_file(dirname + \"kernel.out\")\n",
    "\n",
    "mccp_BGW = bgw_arrays.get('mccp', None)\n",
    "mvvp_BGW = bgw_arrays.get('mvvp', None)\n",
    "mvc_BGW = bgw_arrays.get('mvc', None)\n",
    "mvpcp_BGW = bgw_arrays.get('mvpcp', None)"
   ]
  },
  {
   "cell_type": "code",
   "execution_count": 8,
   "metadata": {},
   "outputs": [
    {
     "name": "stdout",
     "output_type": "stream",
     "text": [
      "Shape of mccp_BGW is (27, 1, 1, 1)\n",
      "Shape of mvvp_BGW is (27, 1, 1, 1)\n",
      "Shape of mvc_BGW is (27, 1, 1, 1)\n",
      "Shape of mvpcp_BGW is (27, 1, 1, 1)\n"
     ]
    }
   ],
   "source": [
    "print(f\"Shape of mccp_BGW is {mccp_BGW.shape}\")\n",
    "print(f\"Shape of mvvp_BGW is {mvvp_BGW.shape}\")\n",
    "print(f\"Shape of mvc_BGW is {mvc_BGW.shape}\")\n",
    "print(f\"Shape of mvpcp_BGW is {mvpcp_BGW.shape}\")"
   ]
  },
  {
   "cell_type": "code",
   "execution_count": 9,
   "metadata": {},
   "outputs": [
    {
     "name": "stdout",
     "output_type": "stream",
     "text": [
      "Is mvc and mvpcp equal? True\n"
     ]
    }
   ],
   "source": [
    "is_equal_mvc_mvpcp = np.allclose(mvc_BGW, mvpcp_BGW)\n",
    "print(f\"Is mvc and mvpcp equal? {is_equal_mvc_mvpcp}\")"
   ]
  },
  {
   "cell_type": "code",
   "execution_count": 10,
   "metadata": {},
   "outputs": [
    {
     "name": "stdout",
     "output_type": "stream",
     "text": [
      "Are mccp_BGW and mccp_m2 equal? True\n"
     ]
    }
   ],
   "source": [
    "mccp_m2 = cmtxclass.matrix_element('mccp', 0, 0)\n",
    "mccp_m2 = mccp_m2[0, 0, :]\n",
    "mccp_BGW = mccp_BGW[:, 0, 0, 0]\n",
    "\n",
    "are_mccp_equal = np.allclose(mccp_BGW, mccp_m2)\n",
    "print(f\"Are mccp_BGW and mccp_m2 equal? {are_mccp_equal}\")"
   ]
  },
  {
   "cell_type": "code",
   "execution_count": 11,
   "metadata": {},
   "outputs": [
    {
     "name": "stdout",
     "output_type": "stream",
     "text": [
      "Are mvc_BGW and mvc_m2 equal? True\n"
     ]
    }
   ],
   "source": [
    "mvc_m2 = cmtxclass.matrix_element('mvc', 0)\n",
    "mvc_m2 = mvc_m2[0, 0, :]\n",
    "mvc_BGW = mvc_BGW[:, 0, 0, 0]\n",
    "\n",
    "are_mvc_equal = np.allclose(mvc_BGW, mvc_m2)\n",
    "print(f\"Are mvc_BGW and mvc_m2 equal? {are_mvc_equal}\")"
   ]
  },
  {
   "cell_type": "code",
   "execution_count": 12,
   "metadata": {},
   "outputs": [
    {
     "name": "stdout",
     "output_type": "stream",
     "text": [
      "Are mvvp_BGW and mvvp_m2 equal? True\n"
     ]
    }
   ],
   "source": [
    "mvvp_m2 = cmtxclass.matrix_element('mvvp', 0, 0)\n",
    "mvvp_m2 = mvvp_m2[0, 0, :]\n",
    "mvvp_BGW = mvvp_BGW[:, 0, 0, 0]\n",
    "\n",
    "are_mvvp_equal = np.allclose(mvvp_BGW, mvvp_m2)\n",
    "print(f\"Are mvvp_BGW and mvvp_m2 equal? {are_mvvp_equal}\")"
   ]
  }
 ],
 "metadata": {
  "kernelspec": {
   "display_name": "qtm",
   "language": "python",
   "name": "python3"
  },
  "language_info": {
   "codemirror_mode": {
    "name": "ipython",
    "version": 3
   },
   "file_extension": ".py",
   "mimetype": "text/x-python",
   "name": "python",
   "nbconvert_exporter": "python",
   "pygments_lexer": "ipython3",
   "version": "3.11.10"
  }
 },
 "nbformat": 4,
 "nbformat_minor": 2
}
