{
 "cells": [
  {
   "cell_type": "code",
   "execution_count": 1,
   "metadata": {},
   "outputs": [],
   "source": [
    "import numpy as np\n",
    "import h5py\n",
    "import sys\n",
    "\n",
    "\n",
    "sys.path.append(\".\")\n",
    "dirname = \"./bgw_files/\""
   ]
  },
  {
   "cell_type": "code",
   "execution_count": 2,
   "metadata": {},
   "outputs": [],
   "source": [
    "# epsinp and sigmain data.\n",
    "from qtm.interfaces.bgw.epsinp import Epsinp\n",
    "epsinp = Epsinp.from_epsilon_inp(filename=dirname+'epsilon.inp')\n",
    "\n",
    "from qtm.interfaces.bgw.sigmainp import Sigmainp\n",
    "sigmainp = Sigmainp.from_sigma_inp(filename=dirname+'sigma.inp')"
   ]
  },
  {
   "cell_type": "code",
   "execution_count": 3,
   "metadata": {},
   "outputs": [],
   "source": [
    "from qtm.interfaces.bgw import inp\n",
    "from qtm.interfaces.bgw.wfn2py import wfn2py\n",
    "\n",
    "# Read wfndata\n",
    "wfndata = wfn2py(dirname + \"WFN_co.h5\")\n",
    "wfnqdata = wfn2py(dirname + \"WFNq.h5\")\n",
    "\n",
    "# Read rho\n",
    "rho = inp.read_rho(dirname + \"RHO\")\n",
    "\n",
    "# Read vxc \n",
    "vxc = inp.read_vxc(dirname + \"vxc.dat\") "
   ]
  },
  {
   "cell_type": "code",
   "execution_count": 4,
   "metadata": {},
   "outputs": [],
   "source": [
    "l_wfn = wfndata.l_wfn"
   ]
  },
  {
   "cell_type": "code",
   "execution_count": 5,
   "metadata": {},
   "outputs": [
    {
     "name": "stdout",
     "output_type": "stream",
     "text": [
      "(1.0000000000000013-1.2357154238372941e-17j)\n",
      "(1.0000000000000002-1.5775357844250837e-18j)\n"
     ]
    }
   ],
   "source": [
    "print(np.sum(l_wfn[0].evc_gk.data[0] * np.conj(l_wfn[0].evc_gk.data[0])))\n",
    "for i in range(9):\n",
    "    imag = np.real(l_wfn[0].evc_gk.data[i])\n",
    "    real = np.imag(l_wfn[0].evc_gk.data[i])\n",
    "\n",
    "    l_wfn[0].evc_gk.data[i] = imag + 1j * real\n",
    "\n",
    "print(np.sum((real + 1j * imag)*(real - 1j * imag)))"
   ]
  },
  {
   "cell_type": "code",
   "execution_count": 6,
   "metadata": {},
   "outputs": [
    {
     "name": "stderr",
     "output_type": "stream",
     "text": [
      "Vcoul calculation for qpts: 100%|██████████| 1/1 [00:00<00:00, 4728.64it/s]\n"
     ]
    }
   ],
   "source": [
    "from qtm.gw.core import QPoints\n",
    "from qtm.gw.epsilon import Epsilon\n",
    "\n",
    "epsilon = Epsilon.from_data(wfndata=wfndata, wfnqdata=wfnqdata, epsinp=epsinp)"
   ]
  },
  {
   "cell_type": "code",
   "execution_count": 7,
   "metadata": {},
   "outputs": [
    {
     "name": "stderr",
     "output_type": "stream",
     "text": [
      "Vcoul calculation for qpts: 100%|██████████| 1/1 [00:00<00:00, 4021.38it/s]\n",
      "Epsilon> q-pt index: 100%|██████████| 1/1 [00:00<00:00, 328.24it/s]"
     ]
    },
    {
     "name": "stdout",
     "output_type": "stream",
     "text": [
      "Standard deviation exceeded 1e-16 tolerance: 1.9894890166455426e-15, for i_q:0\n",
      "(15, 15)\n",
      "(15, 15)\n"
     ]
    },
    {
     "name": "stderr",
     "output_type": "stream",
     "text": [
      "\n"
     ]
    }
   ],
   "source": [
    "from tqdm import trange\n",
    "from qtm.gw.core import reorder_2d_matrix_sorted_gvecs, sort_cryst_like_BGW\n",
    "\n",
    "\n",
    "def calculate_epsilon(numq=None, writing=False):\n",
    "    epsmats = []\n",
    "    if numq is None:\n",
    "        numq = epsilon.qpts.numq\n",
    "\n",
    "    for i_q in trange(0, numq, desc=\"Epsilon> q-pt index\"):\n",
    "        # Create map between BGW's sorting order and QTm's sorting order\n",
    "        gkspc = epsilon.l_gq[i_q]\n",
    "        \n",
    "        if i_q == epsilon.qpts.index_q0:\n",
    "            key = gkspc.g_norm2\n",
    "        else:\n",
    "            key = gkspc.gk_norm2\n",
    "\n",
    "        indices_gspace_sorted = sort_cryst_like_BGW(\n",
    "            cryst=gkspc.g_cryst, key_array=key\n",
    "        )\n",
    "\n",
    "        # Calculate matrix elements\n",
    "        M = next(epsilon.matrix_elements(i_q=i_q))\n",
    "\n",
    "        # Calculate polarizability matrix (faster, but not memory-efficient)\n",
    "        chimat = epsilon.polarizability(M)\n",
    "\n",
    "        # Calculate polarizability matrix (memory-efficient)\n",
    "        # chimat = epsilon.polarizability_active(i_q)\n",
    "\n",
    "        # Calculate epsilon inverse matrix\n",
    "        epsinv = epsilon.epsilon_inverse(i_q=i_q, polarizability_matrix=chimat, store=True)\n",
    "\n",
    "\n",
    "        epsinv = reorder_2d_matrix_sorted_gvecs(epsinv, indices_gspace_sorted)\n",
    "        epsilon.l_epsinv[i_q] = epsinv\n",
    "        \n",
    "        # Compare the results with BGW's results\n",
    "        if i_q == epsilon.qpts.index_q0:\n",
    "            epsref = epsilon.read_epsmat(dirname + \"eps0mat.h5\")[0][0, 0]\n",
    "            if writing:\n",
    "                epsilon.write_epsmat(\n",
    "                    filename=\"test/epsilon/eps0mat_qtm.h5\", epsinvmats=[epsinv]\n",
    "                )\n",
    "        else:\n",
    "            epsref = np.array(epsilon.read_epsmat(dirname + \"epsmat.h5\")[i_q - 1][0, 0])\n",
    "            epsmats.append(epsinv)\n",
    "\n",
    "        # Calculate stddev between reference and calculated epsinv matrices\n",
    "        std_eps = np.std(epsref - epsinv) / np.sqrt(np.prod(list(epsinv.shape)))\n",
    "\n",
    "        epstol = 1e-16\n",
    "        if np.abs(std_eps) > epstol:\n",
    "            print(f\"Standard deviation exceeded {epstol} tolerance: {std_eps}, for i_q:{i_q}\")\n",
    "            print(epsref.shape)\n",
    "            print(epsinv.shape)\n",
    "\n",
    "    if writing:\n",
    "        epsilon.write_epsmat(filename=\"test/epsilon/epsmat_qtm.h5\", epsinvmats=epsmats)\n",
    "\n",
    "\n",
    "epsinp.no_min_fftgrid = True\n",
    "epsilon = Epsilon.from_data(wfndata=wfndata, wfnqdata=wfnqdata, epsinp=epsinp)\n",
    "\n",
    "calculate_epsilon()"
   ]
  },
  {
   "cell_type": "code",
   "execution_count": 8,
   "metadata": {},
   "outputs": [
    {
     "name": "stderr",
     "output_type": "stream",
     "text": [
      "Vcoul calculation for qpts: 100%|██████████| 1/1 [00:00<00:00, 5825.42it/s]\n"
     ]
    }
   ],
   "source": [
    "from epsilonv2 import Epsilonv2\n",
    "\n",
    "epsclassv2 = Epsilonv2.from_data(wfndata=wfndata, wfnqdata=wfnqdata, epsinp=epsinp)"
   ]
  },
  {
   "cell_type": "code",
   "execution_count": 9,
   "metadata": {},
   "outputs": [],
   "source": [
    "# Construct the Charge Matrix Class\n",
    "from mtxel import ChargeMtxEL\n",
    "\n",
    "cmtxclass = ChargeMtxEL.from_BGW(\n",
    "    wfndata = wfndata,\n",
    "    epsinp = epsinp,\n",
    "    sigmainp = sigmainp,\n",
    "    num_bands_val = 2,\n",
    "    num_bands_con = 1,\n",
    ")"
   ]
  },
  {
   "cell_type": "code",
   "execution_count": 10,
   "metadata": {},
   "outputs": [
    {
     "name": "stdout",
     "output_type": "stream",
     "text": [
      "Shape of mvc is (2, 1, 27)\n",
      "Shape of mccp is (1, 1, 27)\n",
      "Shape of mvvp is (2, 2, 27)\n"
     ]
    }
   ],
   "source": [
    "mvc = cmtxclass.mvc(0)\n",
    "print(f\"Shape of mvc is {mvc.shape}\")\n",
    "\n",
    "mccp = cmtxclass.mccp(0, 0)\n",
    "print(f\"Shape of mccp is {mccp.shape}\")\n",
    "\n",
    "mvvp = cmtxclass.mvvp(0, 0)\n",
    "print(f\"Shape of mvvp is {mvvp.shape}\")"
   ]
  },
  {
   "cell_type": "code",
   "execution_count": 11,
   "metadata": {},
   "outputs": [],
   "source": [
    "from read_mtxel import *\n",
    "bgw_arrays = parse_file(dirname + \"kernel.out\")\n",
    "\n",
    "mccp_BGW = bgw_arrays.get('mccp', None)\n",
    "mvvp_BGW = bgw_arrays.get('mvvp', None)\n",
    "mvc_BGW = bgw_arrays.get('mvc', None)\n",
    "mvpcp_BGW = bgw_arrays.get('mvpcp', None)"
   ]
  },
  {
   "cell_type": "code",
   "execution_count": 12,
   "metadata": {},
   "outputs": [
    {
     "name": "stdout",
     "output_type": "stream",
     "text": [
      "Shape of mccp_BGW is (27, 1, 1, 1)\n",
      "Shape of mvvp_BGW is (27, 1, 1, 1)\n",
      "Shape of mvc_BGW is (27, 1, 1, 1)\n",
      "Shape of mvpcp_BGW is (27, 1, 1, 1)\n"
     ]
    }
   ],
   "source": [
    "print(f\"Shape of mccp_BGW is {mccp_BGW.shape}\")\n",
    "print(f\"Shape of mvvp_BGW is {mvvp_BGW.shape}\")\n",
    "print(f\"Shape of mvc_BGW is {mvc_BGW.shape}\")\n",
    "print(f\"Shape of mvpcp_BGW is {mvpcp_BGW.shape}\")"
   ]
  },
  {
   "cell_type": "code",
   "execution_count": 13,
   "metadata": {},
   "outputs": [
    {
     "name": "stdout",
     "output_type": "stream",
     "text": [
      "Is mvc and mvpcp equal? True\n"
     ]
    }
   ],
   "source": [
    "is_equal_mvc_mvpcp = np.allclose(mvc_BGW, mvpcp_BGW)\n",
    "print(f\"Is mvc and mvpcp equal? {is_equal_mvc_mvpcp}\")"
   ]
  },
  {
   "cell_type": "code",
   "execution_count": 14,
   "metadata": {},
   "outputs": [
    {
     "name": "stdout",
     "output_type": "stream",
     "text": [
      "mccp[0]: 1.0000000000-0.0000000000j, mccp_BGW[0]: 1.0000000000+0.0000000000j\n",
      "mccp[1]: -0.1069011136+0.0000004958j, mccp_BGW[1]: -0.1069011136+0.0000004958j\n",
      "mccp[2]: 0.1071866199+0.0000009394j, mccp_BGW[2]: 0.1071866199+0.0000009394j\n",
      "mccp[3]: 0.1071902943+0.0000008143j, mccp_BGW[3]: 0.1071902943+0.0000008143j\n",
      "mccp[4]: 0.1071935416+0.0000005033j, mccp_BGW[4]: 0.1071935416+0.0000005033j\n",
      "mccp[5]: 0.1071935416-0.0000005033j, mccp_BGW[5]: 0.1071935416-0.0000005033j\n",
      "mccp[6]: 0.1071902943-0.0000008143j, mccp_BGW[6]: 0.1071902943-0.0000008143j\n",
      "mccp[7]: 0.1071866199-0.0000009394j, mccp_BGW[7]: 0.1071866199-0.0000009394j\n",
      "mccp[8]: -0.1069011136-0.0000004958j, mccp_BGW[8]: -0.1069011136-0.0000004958j\n",
      "mccp[9]: -0.3178784615+0.0000016715j, mccp_BGW[9]: -0.3178784615+0.0000016715j\n",
      "mccp[10]: -0.3182568800+0.0000008144j, mccp_BGW[10]: -0.3182568800+0.0000008144j\n",
      "mccp[11]: -0.3146274045+0.0000020659j, mccp_BGW[11]: -0.3146274045+0.0000020659j\n",
      "mccp[12]: -0.3146274045-0.0000020659j, mccp_BGW[12]: -0.3146274045-0.0000020659j\n",
      "mccp[13]: -0.3182568800-0.0000008144j, mccp_BGW[13]: -0.3182568800-0.0000008144j\n",
      "mccp[14]: -0.3178784615-0.0000016715j, mccp_BGW[14]: -0.3178784615-0.0000016715j\n",
      "mccp[15]: 0.2341680631+0.0000016843j, mccp_BGW[15]: 0.2341680631+0.0000016843j\n",
      "mccp[16]: 0.2399011224+0.0000004365j, mccp_BGW[16]: 0.2399011224+0.0000004365j\n",
      "mccp[17]: 0.2393088354+0.0000012046j, mccp_BGW[17]: 0.2393088354+0.0000012046j\n",
      "mccp[18]: 0.0945325080+0.0000001643j, mccp_BGW[18]: 0.0945325080+0.0000001643j\n",
      "mccp[19]: 0.0947267409+0.0000003446j, mccp_BGW[19]: 0.0947267409+0.0000003446j\n",
      "mccp[20]: 0.0964528742-0.0000001848j, mccp_BGW[20]: 0.0964528742-0.0000001848j\n",
      "mccp[21]: 0.0964528742+0.0000001848j, mccp_BGW[21]: 0.0964528742+0.0000001848j\n",
      "mccp[22]: 0.0947267409-0.0000003446j, mccp_BGW[22]: 0.0947267409-0.0000003446j\n",
      "mccp[23]: 0.0945325080-0.0000001643j, mccp_BGW[23]: 0.0945325080-0.0000001643j\n",
      "mccp[24]: 0.2393088354-0.0000012046j, mccp_BGW[24]: 0.2393088354-0.0000012046j\n",
      "mccp[25]: 0.2399011224-0.0000004365j, mccp_BGW[25]: 0.2399011224-0.0000004365j\n",
      "mccp[26]: 0.2341680631-0.0000016843j, mccp_BGW[26]: 0.2341680631-0.0000016843j\n"
     ]
    }
   ],
   "source": [
    "mccp = mccp[0, 0, :]\n",
    "mccp_BGW = mccp_BGW[:, 0, 0, 0]\n",
    "\n",
    "for i in range(27):\n",
    "    mccp_value = mccp[i] if i < len(mccp) else 0\n",
    "    print(f\"mccp[{i}]: {mccp_value.real:.10f}{mccp_value.imag:+.10f}j, mccp_BGW[{i}]: {mccp_BGW[i].real:.10f}{mccp_BGW[i].imag:+.10f}j\")"
   ]
  },
  {
   "cell_type": "code",
   "execution_count": 15,
   "metadata": {},
   "outputs": [
    {
     "name": "stdout",
     "output_type": "stream",
     "text": [
      "mvc[0]: -0.0000+0.0000j, mvc_BGW[0]: -0.0000-0.0000j\n",
      "mvc[1]: 0.0547-0.0249j, mvc_BGW[1]: -0.0547-0.0249j\n",
      "mvc[2]: -0.2047+0.0932j, mvc_BGW[2]: 0.2047+0.0932j\n",
      "mvc[3]: -0.2039+0.0928j, mvc_BGW[3]: 0.2039+0.0928j\n",
      "mvc[4]: -0.2035+0.0926j, mvc_BGW[4]: 0.2035+0.0926j\n",
      "mvc[5]: 0.2035-0.0926j, mvc_BGW[5]: -0.2035-0.0926j\n",
      "mvc[6]: 0.2039-0.0928j, mvc_BGW[6]: -0.2039-0.0928j\n",
      "mvc[7]: 0.2047-0.0932j, mvc_BGW[7]: -0.2047-0.0932j\n",
      "mvc[8]: -0.0547+0.0249j, mvc_BGW[8]: 0.0547+0.0249j\n",
      "mvc[9]: -0.1620+0.0738j, mvc_BGW[9]: 0.1620+0.0738j\n",
      "mvc[10]: -0.1605+0.0731j, mvc_BGW[10]: 0.1605+0.0731j\n",
      "mvc[11]: -0.1570+0.0715j, mvc_BGW[11]: 0.1570+0.0715j\n",
      "mvc[12]: 0.1570-0.0715j, mvc_BGW[12]: -0.1570-0.0715j\n",
      "mvc[13]: 0.1605-0.0731j, mvc_BGW[13]: -0.1605-0.0731j\n",
      "mvc[14]: 0.1620-0.0738j, mvc_BGW[14]: -0.1620-0.0738j\n",
      "mvc[15]: -0.0064+0.0029j, mvc_BGW[15]: 0.0064+0.0029j\n",
      "mvc[16]: -0.0045+0.0021j, mvc_BGW[16]: 0.0045+0.0021j\n",
      "mvc[17]: -0.0061+0.0028j, mvc_BGW[17]: 0.0061+0.0028j\n",
      "mvc[18]: -0.0001+0.0000j, mvc_BGW[18]: 0.0001+0.0000j\n",
      "mvc[19]: -0.0006+0.0003j, mvc_BGW[19]: 0.0006+0.0003j\n",
      "mvc[20]: 0.0005-0.0002j, mvc_BGW[20]: -0.0005-0.0002j\n",
      "mvc[21]: -0.0005+0.0002j, mvc_BGW[21]: 0.0005+0.0002j\n",
      "mvc[22]: 0.0006-0.0003j, mvc_BGW[22]: -0.0006-0.0003j\n",
      "mvc[23]: 0.0001-0.0000j, mvc_BGW[23]: -0.0001-0.0000j\n",
      "mvc[24]: 0.0061-0.0028j, mvc_BGW[24]: -0.0061-0.0028j\n",
      "mvc[25]: 0.0045-0.0021j, mvc_BGW[25]: -0.0045-0.0021j\n",
      "mvc[26]: 0.0064-0.0029j, mvc_BGW[26]: -0.0064-0.0029j\n"
     ]
    }
   ],
   "source": [
    "mvc = mvc[0, 0, :]\n",
    "mvc_BGW = mvc_BGW[:, 0, 0, 0]\n",
    "\n",
    "for i in range(27):\n",
    "    mvc_value = mvc[i] if i < len(mvc) else 0\n",
    "    print(f\"mvc[{i}]: {mvc_value.real:.4f}{mvc_value.imag:+.4f}j, mvc_BGW[{i}]: {mvc_BGW[i].real:.4f}{mvc_BGW[i].imag:+.4f}j\")"
   ]
  },
  {
   "cell_type": "code",
   "execution_count": 16,
   "metadata": {},
   "outputs": [
    {
     "name": "stdout",
     "output_type": "stream",
     "text": [
      "mvvp[0]: 1.0000-0.0000j, mvvp_BGW[0]: 1.0000+0.0000j\n",
      "mvvp[1]: 0.2551+0.0000j, mvvp_BGW[1]: 0.2551+0.0000j\n",
      "mvvp[2]: 0.4264-0.0000j, mvvp_BGW[2]: 0.4264-0.0000j\n",
      "mvvp[3]: 0.4259-0.0000j, mvvp_BGW[3]: 0.4259-0.0000j\n",
      "mvvp[4]: 0.4235-0.0000j, mvvp_BGW[4]: 0.4235-0.0000j\n",
      "mvvp[5]: 0.4235+0.0000j, mvvp_BGW[5]: 0.4235+0.0000j\n",
      "mvvp[6]: 0.4259+0.0000j, mvvp_BGW[6]: 0.4259+0.0000j\n",
      "mvvp[7]: 0.4264+0.0000j, mvvp_BGW[7]: 0.4264+0.0000j\n",
      "mvvp[8]: 0.2551-0.0000j, mvvp_BGW[8]: 0.2551-0.0000j\n",
      "mvvp[9]: 0.2976-0.0000j, mvvp_BGW[9]: 0.2976-0.0000j\n",
      "mvvp[10]: 0.2955-0.0000j, mvvp_BGW[10]: 0.2955-0.0000j\n",
      "mvvp[11]: 0.2951-0.0000j, mvvp_BGW[11]: 0.2951-0.0000j\n",
      "mvvp[12]: 0.2951+0.0000j, mvvp_BGW[12]: 0.2951+0.0000j\n",
      "mvvp[13]: 0.2955+0.0000j, mvvp_BGW[13]: 0.2955+0.0000j\n",
      "mvvp[14]: 0.2976+0.0000j, mvvp_BGW[14]: 0.2976+0.0000j\n",
      "mvvp[15]: 0.2722-0.0000j, mvvp_BGW[15]: 0.2722-0.0000j\n",
      "mvvp[16]: 0.2729-0.0000j, mvvp_BGW[16]: 0.2729-0.0000j\n",
      "mvvp[17]: 0.2761-0.0000j, mvvp_BGW[17]: 0.2761-0.0000j\n",
      "mvvp[18]: 0.1545-0.0000j, mvvp_BGW[18]: 0.1545-0.0000j\n",
      "mvvp[19]: 0.1544-0.0000j, mvvp_BGW[19]: 0.1544-0.0000j\n",
      "mvvp[20]: 0.1546+0.0000j, mvvp_BGW[20]: 0.1546+0.0000j\n",
      "mvvp[21]: 0.1546-0.0000j, mvvp_BGW[21]: 0.1546-0.0000j\n",
      "mvvp[22]: 0.1544+0.0000j, mvvp_BGW[22]: 0.1544+0.0000j\n",
      "mvvp[23]: 0.1545+0.0000j, mvvp_BGW[23]: 0.1545+0.0000j\n",
      "mvvp[24]: 0.2761+0.0000j, mvvp_BGW[24]: 0.2761+0.0000j\n",
      "mvvp[25]: 0.2729+0.0000j, mvvp_BGW[25]: 0.2729+0.0000j\n",
      "mvvp[26]: 0.2722+0.0000j, mvvp_BGW[26]: 0.2722+0.0000j\n"
     ]
    }
   ],
   "source": [
    "mvvp = mvvp[0, 0, :]\n",
    "mvvp_BGW = mvvp_BGW[:, 0, 0, 0]\n",
    "\n",
    "for i in range(27):\n",
    "    mvvp_value = mvvp[i] if i < len(mvvp) else 0\n",
    "    print(f\"mvvp[{i}]: {mvvp_value.real:.4f}{mvvp_value.imag:+.4f}j, mvvp_BGW[{i}]: {mvvp_BGW[i].real:.4f}{mvvp_BGW[i].imag:+.4f}j\")"
   ]
  }
 ],
 "metadata": {
  "kernelspec": {
   "display_name": "qtm",
   "language": "python",
   "name": "python3"
  },
  "language_info": {
   "codemirror_mode": {
    "name": "ipython",
    "version": 3
   },
   "file_extension": ".py",
   "mimetype": "text/x-python",
   "name": "python",
   "nbconvert_exporter": "python",
   "pygments_lexer": "ipython3",
   "version": "3.11.10"
  }
 },
 "nbformat": 4,
 "nbformat_minor": 2
}
